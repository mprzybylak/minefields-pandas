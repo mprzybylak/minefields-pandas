{
 "cells": [
  {
   "cell_type": "markdown",
   "metadata": {},
   "source": [
    "# Hello world\n",
    "\n",
    "Basic pandas hacking based on [10 minutes to pandas](http://pandas.pydata.org/pandas-docs/version/0.24/getting_started/10min.html) docs article"
   ]
  },
  {
   "cell_type": "markdown",
   "metadata": {},
   "source": [
    "## Imports\n",
    "Pandas works on the top of numpy - and can also work with numpy so it is useful to import also numpy"
   ]
  },
  {
   "cell_type": "code",
   "execution_count": 2,
   "metadata": {},
   "outputs": [],
   "source": [
    "import numpy as np\n",
    "import pandas as pd"
   ]
  },
  {
   "cell_type": "markdown",
   "metadata": {},
   "source": [
    "## Data series\n",
    "DataSeries in 1d data structure (list of scalars)"
   ]
  },
  {
   "cell_type": "code",
   "execution_count": 14,
   "metadata": {},
   "outputs": [
    {
     "data": {
      "text/plain": [
       "0    1\n",
       "1    2\n",
       "2    3\n",
       "3    4\n",
       "4    5\n",
       "dtype: int64"
      ]
     },
     "execution_count": 14,
     "metadata": {},
     "output_type": "execute_result"
    }
   ],
   "source": [
    "s = pd.Series([1,2,3,4,5])\n",
    "s"
   ]
  },
  {
   "cell_type": "markdown",
   "metadata": {},
   "source": [
    "Date range (6 days) as a Series"
   ]
  },
  {
   "cell_type": "code",
   "execution_count": 16,
   "metadata": {},
   "outputs": [
    {
     "data": {
      "text/plain": [
       "DatetimeIndex(['2018-03-28', '2018-03-29', '2018-03-30', '2018-03-31',\n",
       "               '2018-04-01', '2018-04-02'],\n",
       "              dtype='datetime64[ns]', freq='D')"
      ]
     },
     "execution_count": 16,
     "metadata": {},
     "output_type": "execute_result"
    }
   ],
   "source": [
    "s_date_range = pd.date_range('20180328', periods=6)\n",
    "s_date_range"
   ]
  },
  {
   "cell_type": "markdown",
   "metadata": {},
   "source": [
    "## Data Frame\n",
    "DataFrame is 2d data structure (list of data series)"
   ]
  },
  {
   "cell_type": "code",
   "execution_count": 6,
   "metadata": {},
   "outputs": [
    {
     "data": {
      "text/html": [
       "<div>\n",
       "<style scoped>\n",
       "    .dataframe tbody tr th:only-of-type {\n",
       "        vertical-align: middle;\n",
       "    }\n",
       "\n",
       "    .dataframe tbody tr th {\n",
       "        vertical-align: top;\n",
       "    }\n",
       "\n",
       "    .dataframe thead th {\n",
       "        text-align: right;\n",
       "    }\n",
       "</style>\n",
       "<table border=\"1\" class=\"dataframe\">\n",
       "  <thead>\n",
       "    <tr style=\"text-align: right;\">\n",
       "      <th></th>\n",
       "      <th>0</th>\n",
       "      <th>1</th>\n",
       "      <th>2</th>\n",
       "      <th>3</th>\n",
       "      <th>4</th>\n",
       "    </tr>\n",
       "  </thead>\n",
       "  <tbody>\n",
       "    <tr>\n",
       "      <th>0</th>\n",
       "      <td>0.822142</td>\n",
       "      <td>0.270336</td>\n",
       "      <td>0.370670</td>\n",
       "      <td>0.040118</td>\n",
       "      <td>0.999820</td>\n",
       "    </tr>\n",
       "    <tr>\n",
       "      <th>1</th>\n",
       "      <td>0.428845</td>\n",
       "      <td>0.371200</td>\n",
       "      <td>0.800757</td>\n",
       "      <td>0.637880</td>\n",
       "      <td>0.072055</td>\n",
       "    </tr>\n",
       "    <tr>\n",
       "      <th>2</th>\n",
       "      <td>0.744273</td>\n",
       "      <td>0.339956</td>\n",
       "      <td>0.578677</td>\n",
       "      <td>0.227646</td>\n",
       "      <td>0.501793</td>\n",
       "    </tr>\n",
       "    <tr>\n",
       "      <th>3</th>\n",
       "      <td>0.647664</td>\n",
       "      <td>0.107419</td>\n",
       "      <td>0.212971</td>\n",
       "      <td>0.377062</td>\n",
       "      <td>0.753753</td>\n",
       "    </tr>\n",
       "    <tr>\n",
       "      <th>4</th>\n",
       "      <td>0.899527</td>\n",
       "      <td>0.895684</td>\n",
       "      <td>0.173270</td>\n",
       "      <td>0.193073</td>\n",
       "      <td>0.279822</td>\n",
       "    </tr>\n",
       "  </tbody>\n",
       "</table>\n",
       "</div>"
      ],
      "text/plain": [
       "          0         1         2         3         4\n",
       "0  0.822142  0.270336  0.370670  0.040118  0.999820\n",
       "1  0.428845  0.371200  0.800757  0.637880  0.072055\n",
       "2  0.744273  0.339956  0.578677  0.227646  0.501793\n",
       "3  0.647664  0.107419  0.212971  0.377062  0.753753\n",
       "4  0.899527  0.895684  0.173270  0.193073  0.279822"
      ]
     },
     "execution_count": 6,
     "metadata": {},
     "output_type": "execute_result"
    }
   ],
   "source": [
    "df = pd.DataFrame(np.random.rand(5,5))\n",
    "df"
   ]
  },
  {
   "cell_type": "markdown",
   "metadata": {},
   "source": [
    "## Column headers\n",
    "Headers can be added to DataFrame by using `columns` parameter or by passing a map instead of list during creation of DataFrame"
   ]
  },
  {
   "cell_type": "markdown",
   "metadata": {},
   "source": [
    "using `coulumns` parameter"
   ]
  },
  {
   "cell_type": "code",
   "execution_count": 11,
   "metadata": {},
   "outputs": [
    {
     "data": {
      "text/html": [
       "<div>\n",
       "<style scoped>\n",
       "    .dataframe tbody tr th:only-of-type {\n",
       "        vertical-align: middle;\n",
       "    }\n",
       "\n",
       "    .dataframe tbody tr th {\n",
       "        vertical-align: top;\n",
       "    }\n",
       "\n",
       "    .dataframe thead th {\n",
       "        text-align: right;\n",
       "    }\n",
       "</style>\n",
       "<table border=\"1\" class=\"dataframe\">\n",
       "  <thead>\n",
       "    <tr style=\"text-align: right;\">\n",
       "      <th></th>\n",
       "      <th>First</th>\n",
       "      <th>Second</th>\n",
       "      <th>Third</th>\n",
       "      <th>Fourth</th>\n",
       "      <th>Fifth</th>\n",
       "    </tr>\n",
       "  </thead>\n",
       "  <tbody>\n",
       "    <tr>\n",
       "      <th>0</th>\n",
       "      <td>0.648354</td>\n",
       "      <td>0.052626</td>\n",
       "      <td>0.396685</td>\n",
       "      <td>0.485784</td>\n",
       "      <td>0.288131</td>\n",
       "    </tr>\n",
       "    <tr>\n",
       "      <th>1</th>\n",
       "      <td>0.293564</td>\n",
       "      <td>0.187894</td>\n",
       "      <td>0.242894</td>\n",
       "      <td>0.986952</td>\n",
       "      <td>0.422653</td>\n",
       "    </tr>\n",
       "    <tr>\n",
       "      <th>2</th>\n",
       "      <td>0.745987</td>\n",
       "      <td>0.530652</td>\n",
       "      <td>0.669310</td>\n",
       "      <td>0.983914</td>\n",
       "      <td>0.879547</td>\n",
       "    </tr>\n",
       "    <tr>\n",
       "      <th>3</th>\n",
       "      <td>0.927356</td>\n",
       "      <td>0.885106</td>\n",
       "      <td>0.617084</td>\n",
       "      <td>0.847775</td>\n",
       "      <td>0.973726</td>\n",
       "    </tr>\n",
       "    <tr>\n",
       "      <th>4</th>\n",
       "      <td>0.838347</td>\n",
       "      <td>0.207418</td>\n",
       "      <td>0.575903</td>\n",
       "      <td>0.445401</td>\n",
       "      <td>0.310979</td>\n",
       "    </tr>\n",
       "  </tbody>\n",
       "</table>\n",
       "</div>"
      ],
      "text/plain": [
       "      First    Second     Third    Fourth     Fifth\n",
       "0  0.648354  0.052626  0.396685  0.485784  0.288131\n",
       "1  0.293564  0.187894  0.242894  0.986952  0.422653\n",
       "2  0.745987  0.530652  0.669310  0.983914  0.879547\n",
       "3  0.927356  0.885106  0.617084  0.847775  0.973726\n",
       "4  0.838347  0.207418  0.575903  0.445401  0.310979"
      ]
     },
     "execution_count": 11,
     "metadata": {},
     "output_type": "execute_result"
    }
   ],
   "source": [
    "df_with_headers = pd.DataFrame(\n",
    "    np.random.rand(5,5), \n",
    "    columns = ['First', 'Second', 'Third', 'Fourth', 'Fifth']\n",
    ")\n",
    "\n",
    "df_with_headers"
   ]
  },
  {
   "cell_type": "markdown",
   "metadata": {},
   "source": [
    "Passing map:"
   ]
  },
  {
   "cell_type": "code",
   "execution_count": 19,
   "metadata": {},
   "outputs": [
    {
     "data": {
      "text/html": [
       "<div>\n",
       "<style scoped>\n",
       "    .dataframe tbody tr th:only-of-type {\n",
       "        vertical-align: middle;\n",
       "    }\n",
       "\n",
       "    .dataframe tbody tr th {\n",
       "        vertical-align: top;\n",
       "    }\n",
       "\n",
       "    .dataframe thead th {\n",
       "        text-align: right;\n",
       "    }\n",
       "</style>\n",
       "<table border=\"1\" class=\"dataframe\">\n",
       "  <thead>\n",
       "    <tr style=\"text-align: right;\">\n",
       "      <th></th>\n",
       "      <th>First Column</th>\n",
       "      <th>Second Column</th>\n",
       "    </tr>\n",
       "  </thead>\n",
       "  <tbody>\n",
       "    <tr>\n",
       "      <th>0</th>\n",
       "      <td>0.550343</td>\n",
       "      <td>0.169001</td>\n",
       "    </tr>\n",
       "    <tr>\n",
       "      <th>1</th>\n",
       "      <td>0.932939</td>\n",
       "      <td>0.579405</td>\n",
       "    </tr>\n",
       "    <tr>\n",
       "      <th>2</th>\n",
       "      <td>0.866215</td>\n",
       "      <td>0.815361</td>\n",
       "    </tr>\n",
       "    <tr>\n",
       "      <th>3</th>\n",
       "      <td>0.404385</td>\n",
       "      <td>0.428840</td>\n",
       "    </tr>\n",
       "    <tr>\n",
       "      <th>4</th>\n",
       "      <td>0.027392</td>\n",
       "      <td>0.450566</td>\n",
       "    </tr>\n",
       "  </tbody>\n",
       "</table>\n",
       "</div>"
      ],
      "text/plain": [
       "   First Column  Second Column\n",
       "0      0.550343       0.169001\n",
       "1      0.932939       0.579405\n",
       "2      0.866215       0.815361\n",
       "3      0.404385       0.428840\n",
       "4      0.027392       0.450566"
      ]
     },
     "execution_count": 19,
     "metadata": {},
     "output_type": "execute_result"
    }
   ],
   "source": [
    "df_with_headers_2 = pd.DataFrame({\n",
    "    'First Column': np.random.rand(5),\n",
    "    'Second Column': np.random.rand(5)\n",
    "})\n",
    "\n",
    "df_with_headers_2"
   ]
  },
  {
   "cell_type": "markdown",
   "metadata": {},
   "source": [
    "## Index"
   ]
  },
  {
   "cell_type": "markdown",
   "metadata": {},
   "source": [
    "Data Frame with custom index (rows \"header\")"
   ]
  },
  {
   "cell_type": "code",
   "execution_count": 13,
   "metadata": {},
   "outputs": [
    {
     "data": {
      "text/html": [
       "<div>\n",
       "<style scoped>\n",
       "    .dataframe tbody tr th:only-of-type {\n",
       "        vertical-align: middle;\n",
       "    }\n",
       "\n",
       "    .dataframe tbody tr th {\n",
       "        vertical-align: top;\n",
       "    }\n",
       "\n",
       "    .dataframe thead th {\n",
       "        text-align: right;\n",
       "    }\n",
       "</style>\n",
       "<table border=\"1\" class=\"dataframe\">\n",
       "  <thead>\n",
       "    <tr style=\"text-align: right;\">\n",
       "      <th></th>\n",
       "      <th>0</th>\n",
       "      <th>1</th>\n",
       "      <th>2</th>\n",
       "      <th>3</th>\n",
       "      <th>4</th>\n",
       "    </tr>\n",
       "  </thead>\n",
       "  <tbody>\n",
       "    <tr>\n",
       "      <th>row1</th>\n",
       "      <td>0.312212</td>\n",
       "      <td>0.853058</td>\n",
       "      <td>0.567935</td>\n",
       "      <td>0.970198</td>\n",
       "      <td>0.193570</td>\n",
       "    </tr>\n",
       "    <tr>\n",
       "      <th>row2</th>\n",
       "      <td>0.738694</td>\n",
       "      <td>0.627618</td>\n",
       "      <td>0.703396</td>\n",
       "      <td>0.923895</td>\n",
       "      <td>0.955156</td>\n",
       "    </tr>\n",
       "    <tr>\n",
       "      <th>row3</th>\n",
       "      <td>0.532466</td>\n",
       "      <td>0.612704</td>\n",
       "      <td>0.456122</td>\n",
       "      <td>0.312747</td>\n",
       "      <td>0.540662</td>\n",
       "    </tr>\n",
       "    <tr>\n",
       "      <th>row4</th>\n",
       "      <td>0.157876</td>\n",
       "      <td>0.703971</td>\n",
       "      <td>0.796792</td>\n",
       "      <td>0.058286</td>\n",
       "      <td>0.127028</td>\n",
       "    </tr>\n",
       "    <tr>\n",
       "      <th>row5</th>\n",
       "      <td>0.494739</td>\n",
       "      <td>0.539993</td>\n",
       "      <td>0.789767</td>\n",
       "      <td>0.532538</td>\n",
       "      <td>0.040336</td>\n",
       "    </tr>\n",
       "  </tbody>\n",
       "</table>\n",
       "</div>"
      ],
      "text/plain": [
       "             0         1         2         3         4\n",
       "row1  0.312212  0.853058  0.567935  0.970198  0.193570\n",
       "row2  0.738694  0.627618  0.703396  0.923895  0.955156\n",
       "row3  0.532466  0.612704  0.456122  0.312747  0.540662\n",
       "row4  0.157876  0.703971  0.796792  0.058286  0.127028\n",
       "row5  0.494739  0.539993  0.789767  0.532538  0.040336"
      ]
     },
     "execution_count": 13,
     "metadata": {},
     "output_type": "execute_result"
    }
   ],
   "source": [
    "df_with_renamed_index = pd.DataFrame(\n",
    "    np.random.rand(5,5),\n",
    "    index = ['row1', 'row2', 'row3', 'row4', 'row5']\n",
    ")\n",
    "df_with_renamed_index"
   ]
  },
  {
   "cell_type": "markdown",
   "metadata": {},
   "source": [
    "## Inspecting data frames"
   ]
  },
  {
   "cell_type": "markdown",
   "metadata": {},
   "source": [
    "Checking `dtype` of columns (`dtype` is numpy class containing information about type of data)"
   ]
  },
  {
   "cell_type": "code",
   "execution_count": 37,
   "metadata": {},
   "outputs": [
    {
     "data": {
      "text/plain": [
       "1st    float64\n",
       "2nd    float64\n",
       "3rd    float64\n",
       "4th    float64\n",
       "dtype: object"
      ]
     },
     "execution_count": 37,
     "metadata": {},
     "output_type": "execute_result"
    }
   ],
   "source": [
    "df_to_inspect = pd.DataFrame(\n",
    "    np.random.rand(4,4),\n",
    "    columns = ['1st', '2nd', '3rd', '4th']\n",
    ")\n",
    "df_to_inspect\n",
    "df_to_inspect.dtypes"
   ]
  },
  {
   "cell_type": "markdown",
   "metadata": {},
   "source": [
    "Seeing information about index"
   ]
  },
  {
   "cell_type": "code",
   "execution_count": 36,
   "metadata": {},
   "outputs": [
    {
     "data": {
      "text/plain": [
       "RangeIndex(start=0, stop=4, step=1)"
      ]
     },
     "execution_count": 36,
     "metadata": {},
     "output_type": "execute_result"
    }
   ],
   "source": [
    "df_to_inspect.index"
   ]
  },
  {
   "cell_type": "markdown",
   "metadata": {},
   "source": [
    "Seeing first n results"
   ]
  },
  {
   "cell_type": "code",
   "execution_count": 39,
   "metadata": {},
   "outputs": [
    {
     "data": {
      "text/html": [
       "<div>\n",
       "<style scoped>\n",
       "    .dataframe tbody tr th:only-of-type {\n",
       "        vertical-align: middle;\n",
       "    }\n",
       "\n",
       "    .dataframe tbody tr th {\n",
       "        vertical-align: top;\n",
       "    }\n",
       "\n",
       "    .dataframe thead th {\n",
       "        text-align: right;\n",
       "    }\n",
       "</style>\n",
       "<table border=\"1\" class=\"dataframe\">\n",
       "  <thead>\n",
       "    <tr style=\"text-align: right;\">\n",
       "      <th></th>\n",
       "      <th>1st</th>\n",
       "      <th>2nd</th>\n",
       "      <th>3rd</th>\n",
       "      <th>4th</th>\n",
       "    </tr>\n",
       "  </thead>\n",
       "  <tbody>\n",
       "    <tr>\n",
       "      <th>0</th>\n",
       "      <td>0.141024</td>\n",
       "      <td>0.035134</td>\n",
       "      <td>0.615337</td>\n",
       "      <td>0.558113</td>\n",
       "    </tr>\n",
       "    <tr>\n",
       "      <th>1</th>\n",
       "      <td>0.509351</td>\n",
       "      <td>0.419995</td>\n",
       "      <td>0.296363</td>\n",
       "      <td>0.443395</td>\n",
       "    </tr>\n",
       "    <tr>\n",
       "      <th>2</th>\n",
       "      <td>0.092250</td>\n",
       "      <td>0.779735</td>\n",
       "      <td>0.908150</td>\n",
       "      <td>0.342277</td>\n",
       "    </tr>\n",
       "  </tbody>\n",
       "</table>\n",
       "</div>"
      ],
      "text/plain": [
       "        1st       2nd       3rd       4th\n",
       "0  0.141024  0.035134  0.615337  0.558113\n",
       "1  0.509351  0.419995  0.296363  0.443395\n",
       "2  0.092250  0.779735  0.908150  0.342277"
      ]
     },
     "execution_count": 39,
     "metadata": {},
     "output_type": "execute_result"
    }
   ],
   "source": [
    "df_to_inspect.head(3)"
   ]
  },
  {
   "cell_type": "markdown",
   "metadata": {},
   "source": [
    "Seeing last n results"
   ]
  },
  {
   "cell_type": "code",
   "execution_count": 35,
   "metadata": {},
   "outputs": [
    {
     "data": {
      "text/html": [
       "<div>\n",
       "<style scoped>\n",
       "    .dataframe tbody tr th:only-of-type {\n",
       "        vertical-align: middle;\n",
       "    }\n",
       "\n",
       "    .dataframe tbody tr th {\n",
       "        vertical-align: top;\n",
       "    }\n",
       "\n",
       "    .dataframe thead th {\n",
       "        text-align: right;\n",
       "    }\n",
       "</style>\n",
       "<table border=\"1\" class=\"dataframe\">\n",
       "  <thead>\n",
       "    <tr style=\"text-align: right;\">\n",
       "      <th></th>\n",
       "      <th>E</th>\n",
       "      <th>Q</th>\n",
       "      <th>1</th>\n",
       "      <th>100</th>\n",
       "    </tr>\n",
       "  </thead>\n",
       "  <tbody>\n",
       "    <tr>\n",
       "      <th>1</th>\n",
       "      <td>0.311009</td>\n",
       "      <td>0.303021</td>\n",
       "      <td>0.968629</td>\n",
       "      <td>0.440997</td>\n",
       "    </tr>\n",
       "    <tr>\n",
       "      <th>2</th>\n",
       "      <td>0.853866</td>\n",
       "      <td>0.460277</td>\n",
       "      <td>0.637535</td>\n",
       "      <td>0.780999</td>\n",
       "    </tr>\n",
       "    <tr>\n",
       "      <th>3</th>\n",
       "      <td>0.604892</td>\n",
       "      <td>0.362304</td>\n",
       "      <td>0.441190</td>\n",
       "      <td>0.835696</td>\n",
       "    </tr>\n",
       "  </tbody>\n",
       "</table>\n",
       "</div>"
      ],
      "text/plain": [
       "          E         Q         1       100\n",
       "1  0.311009  0.303021  0.968629  0.440997\n",
       "2  0.853866  0.460277  0.637535  0.780999\n",
       "3  0.604892  0.362304  0.441190  0.835696"
      ]
     },
     "execution_count": 35,
     "metadata": {},
     "output_type": "execute_result"
    }
   ],
   "source": [
    "df_to_inspect.tail(3)"
   ]
  },
  {
   "cell_type": "markdown",
   "metadata": {},
   "source": [
    "Convert data to numpy array"
   ]
  },
  {
   "cell_type": "code",
   "execution_count": 41,
   "metadata": {},
   "outputs": [
    {
     "data": {
      "text/plain": [
       "array([[0.14102439, 0.03513414, 0.61533671, 0.55811252],\n",
       "       [0.50935122, 0.41999477, 0.29636336, 0.44339456],\n",
       "       [0.09224994, 0.77973475, 0.90815041, 0.34227672],\n",
       "       [0.49825608, 0.85183988, 0.35587022, 0.63263593]])"
      ]
     },
     "execution_count": 41,
     "metadata": {},
     "output_type": "execute_result"
    }
   ],
   "source": [
    "df_to_inspect.to_numpy()"
   ]
  },
  {
   "cell_type": "markdown",
   "metadata": {},
   "source": [
    "Quick, basic statistic analysis of columns"
   ]
  },
  {
   "cell_type": "code",
   "execution_count": 43,
   "metadata": {},
   "outputs": [
    {
     "data": {
      "text/html": [
       "<div>\n",
       "<style scoped>\n",
       "    .dataframe tbody tr th:only-of-type {\n",
       "        vertical-align: middle;\n",
       "    }\n",
       "\n",
       "    .dataframe tbody tr th {\n",
       "        vertical-align: top;\n",
       "    }\n",
       "\n",
       "    .dataframe thead th {\n",
       "        text-align: right;\n",
       "    }\n",
       "</style>\n",
       "<table border=\"1\" class=\"dataframe\">\n",
       "  <thead>\n",
       "    <tr style=\"text-align: right;\">\n",
       "      <th></th>\n",
       "      <th>1st</th>\n",
       "      <th>2nd</th>\n",
       "      <th>3rd</th>\n",
       "      <th>4th</th>\n",
       "    </tr>\n",
       "  </thead>\n",
       "  <tbody>\n",
       "    <tr>\n",
       "      <th>count</th>\n",
       "      <td>4.000000</td>\n",
       "      <td>4.000000</td>\n",
       "      <td>4.000000</td>\n",
       "      <td>4.000000</td>\n",
       "    </tr>\n",
       "    <tr>\n",
       "      <th>mean</th>\n",
       "      <td>0.310220</td>\n",
       "      <td>0.521676</td>\n",
       "      <td>0.543930</td>\n",
       "      <td>0.494105</td>\n",
       "    </tr>\n",
       "    <tr>\n",
       "      <th>std</th>\n",
       "      <td>0.224462</td>\n",
       "      <td>0.375351</td>\n",
       "      <td>0.279530</td>\n",
       "      <td>0.127686</td>\n",
       "    </tr>\n",
       "    <tr>\n",
       "      <th>min</th>\n",
       "      <td>0.092250</td>\n",
       "      <td>0.035134</td>\n",
       "      <td>0.296363</td>\n",
       "      <td>0.342277</td>\n",
       "    </tr>\n",
       "    <tr>\n",
       "      <th>25%</th>\n",
       "      <td>0.128831</td>\n",
       "      <td>0.323780</td>\n",
       "      <td>0.340994</td>\n",
       "      <td>0.418115</td>\n",
       "    </tr>\n",
       "    <tr>\n",
       "      <th>50%</th>\n",
       "      <td>0.319640</td>\n",
       "      <td>0.599865</td>\n",
       "      <td>0.485603</td>\n",
       "      <td>0.500754</td>\n",
       "    </tr>\n",
       "    <tr>\n",
       "      <th>75%</th>\n",
       "      <td>0.501030</td>\n",
       "      <td>0.797761</td>\n",
       "      <td>0.688540</td>\n",
       "      <td>0.576743</td>\n",
       "    </tr>\n",
       "    <tr>\n",
       "      <th>max</th>\n",
       "      <td>0.509351</td>\n",
       "      <td>0.851840</td>\n",
       "      <td>0.908150</td>\n",
       "      <td>0.632636</td>\n",
       "    </tr>\n",
       "  </tbody>\n",
       "</table>\n",
       "</div>"
      ],
      "text/plain": [
       "            1st       2nd       3rd       4th\n",
       "count  4.000000  4.000000  4.000000  4.000000\n",
       "mean   0.310220  0.521676  0.543930  0.494105\n",
       "std    0.224462  0.375351  0.279530  0.127686\n",
       "min    0.092250  0.035134  0.296363  0.342277\n",
       "25%    0.128831  0.323780  0.340994  0.418115\n",
       "50%    0.319640  0.599865  0.485603  0.500754\n",
       "75%    0.501030  0.797761  0.688540  0.576743\n",
       "max    0.509351  0.851840  0.908150  0.632636"
      ]
     },
     "execution_count": 43,
     "metadata": {},
     "output_type": "execute_result"
    }
   ],
   "source": [
    "df_to_inspect.describe()"
   ]
  },
  {
   "cell_type": "markdown",
   "metadata": {},
   "source": [
    "# DataFrame operations"
   ]
  },
  {
   "cell_type": "markdown",
   "metadata": {},
   "source": [
    "Transposing"
   ]
  },
  {
   "cell_type": "code",
   "execution_count": 44,
   "metadata": {},
   "outputs": [
    {
     "data": {
      "text/html": [
       "<div>\n",
       "<style scoped>\n",
       "    .dataframe tbody tr th:only-of-type {\n",
       "        vertical-align: middle;\n",
       "    }\n",
       "\n",
       "    .dataframe tbody tr th {\n",
       "        vertical-align: top;\n",
       "    }\n",
       "\n",
       "    .dataframe thead th {\n",
       "        text-align: right;\n",
       "    }\n",
       "</style>\n",
       "<table border=\"1\" class=\"dataframe\">\n",
       "  <thead>\n",
       "    <tr style=\"text-align: right;\">\n",
       "      <th></th>\n",
       "      <th>0</th>\n",
       "      <th>1</th>\n",
       "      <th>2</th>\n",
       "      <th>3</th>\n",
       "      <th>4</th>\n",
       "      <th>5</th>\n",
       "    </tr>\n",
       "  </thead>\n",
       "  <tbody>\n",
       "    <tr>\n",
       "      <th>One</th>\n",
       "      <td>0.789709</td>\n",
       "      <td>0.049307</td>\n",
       "      <td>0.011412</td>\n",
       "      <td>0.211280</td>\n",
       "      <td>0.812702</td>\n",
       "      <td>0.709699</td>\n",
       "    </tr>\n",
       "    <tr>\n",
       "      <th>Two</th>\n",
       "      <td>0.488744</td>\n",
       "      <td>0.908303</td>\n",
       "      <td>0.038811</td>\n",
       "      <td>0.616597</td>\n",
       "      <td>0.198211</td>\n",
       "      <td>0.865469</td>\n",
       "    </tr>\n",
       "    <tr>\n",
       "      <th>Three</th>\n",
       "      <td>0.099317</td>\n",
       "      <td>0.811088</td>\n",
       "      <td>0.439719</td>\n",
       "      <td>0.899326</td>\n",
       "      <td>0.481717</td>\n",
       "      <td>0.983812</td>\n",
       "    </tr>\n",
       "    <tr>\n",
       "      <th>Four</th>\n",
       "      <td>0.677595</td>\n",
       "      <td>0.334719</td>\n",
       "      <td>0.276260</td>\n",
       "      <td>0.260680</td>\n",
       "      <td>0.106416</td>\n",
       "      <td>0.850100</td>\n",
       "    </tr>\n",
       "    <tr>\n",
       "      <th>Five</th>\n",
       "      <td>0.262056</td>\n",
       "      <td>0.702133</td>\n",
       "      <td>0.703255</td>\n",
       "      <td>0.278863</td>\n",
       "      <td>0.177747</td>\n",
       "      <td>0.969060</td>\n",
       "    </tr>\n",
       "    <tr>\n",
       "      <th>Six</th>\n",
       "      <td>0.516380</td>\n",
       "      <td>0.411818</td>\n",
       "      <td>0.576239</td>\n",
       "      <td>0.764887</td>\n",
       "      <td>0.585748</td>\n",
       "      <td>0.023902</td>\n",
       "    </tr>\n",
       "  </tbody>\n",
       "</table>\n",
       "</div>"
      ],
      "text/plain": [
       "              0         1         2         3         4         5\n",
       "One    0.789709  0.049307  0.011412  0.211280  0.812702  0.709699\n",
       "Two    0.488744  0.908303  0.038811  0.616597  0.198211  0.865469\n",
       "Three  0.099317  0.811088  0.439719  0.899326  0.481717  0.983812\n",
       "Four   0.677595  0.334719  0.276260  0.260680  0.106416  0.850100\n",
       "Five   0.262056  0.702133  0.703255  0.278863  0.177747  0.969060\n",
       "Six    0.516380  0.411818  0.576239  0.764887  0.585748  0.023902"
      ]
     },
     "execution_count": 44,
     "metadata": {},
     "output_type": "execute_result"
    }
   ],
   "source": [
    "df = pd.DataFrame(\n",
    "    np.random.rand(6,6),\n",
    "    columns = ['One', 'Two', 'Three', 'Four', 'Five', 'Six']\n",
    ")\n",
    "df.T"
   ]
  },
  {
   "cell_type": "markdown",
   "metadata": {},
   "source": [
    "## Rearanging DataFrame"
   ]
  },
  {
   "cell_type": "markdown",
   "metadata": {},
   "source": [
    "Sorting columns"
   ]
  },
  {
   "cell_type": "code",
   "execution_count": 45,
   "metadata": {},
   "outputs": [
    {
     "data": {
      "text/html": [
       "<div>\n",
       "<style scoped>\n",
       "    .dataframe tbody tr th:only-of-type {\n",
       "        vertical-align: middle;\n",
       "    }\n",
       "\n",
       "    .dataframe tbody tr th {\n",
       "        vertical-align: top;\n",
       "    }\n",
       "\n",
       "    .dataframe thead th {\n",
       "        text-align: right;\n",
       "    }\n",
       "</style>\n",
       "<table border=\"1\" class=\"dataframe\">\n",
       "  <thead>\n",
       "    <tr style=\"text-align: right;\">\n",
       "      <th></th>\n",
       "      <th>One</th>\n",
       "      <th>Two</th>\n",
       "      <th>Three</th>\n",
       "      <th>Four</th>\n",
       "      <th>Five</th>\n",
       "      <th>Six</th>\n",
       "    </tr>\n",
       "  </thead>\n",
       "  <tbody>\n",
       "    <tr>\n",
       "      <th>0</th>\n",
       "      <td>0.109728</td>\n",
       "      <td>0.507085</td>\n",
       "      <td>0.396778</td>\n",
       "      <td>0.792931</td>\n",
       "      <td>0.590558</td>\n",
       "      <td>0.665736</td>\n",
       "    </tr>\n",
       "    <tr>\n",
       "      <th>1</th>\n",
       "      <td>0.574026</td>\n",
       "      <td>0.962227</td>\n",
       "      <td>0.684598</td>\n",
       "      <td>0.993132</td>\n",
       "      <td>0.801656</td>\n",
       "      <td>0.731256</td>\n",
       "    </tr>\n",
       "    <tr>\n",
       "      <th>2</th>\n",
       "      <td>0.699443</td>\n",
       "      <td>0.607860</td>\n",
       "      <td>0.635743</td>\n",
       "      <td>0.737771</td>\n",
       "      <td>0.795491</td>\n",
       "      <td>0.881278</td>\n",
       "    </tr>\n",
       "    <tr>\n",
       "      <th>3</th>\n",
       "      <td>0.814979</td>\n",
       "      <td>0.799399</td>\n",
       "      <td>0.262612</td>\n",
       "      <td>0.269255</td>\n",
       "      <td>0.360243</td>\n",
       "      <td>0.766887</td>\n",
       "    </tr>\n",
       "    <tr>\n",
       "      <th>4</th>\n",
       "      <td>0.337390</td>\n",
       "      <td>0.714952</td>\n",
       "      <td>0.586377</td>\n",
       "      <td>0.209834</td>\n",
       "      <td>0.064964</td>\n",
       "      <td>0.459752</td>\n",
       "    </tr>\n",
       "    <tr>\n",
       "      <th>5</th>\n",
       "      <td>0.060987</td>\n",
       "      <td>0.884712</td>\n",
       "      <td>0.801132</td>\n",
       "      <td>0.130354</td>\n",
       "      <td>0.926401</td>\n",
       "      <td>0.074226</td>\n",
       "    </tr>\n",
       "  </tbody>\n",
       "</table>\n",
       "</div>"
      ],
      "text/plain": [
       "        One       Two     Three      Four      Five       Six\n",
       "0  0.109728  0.507085  0.396778  0.792931  0.590558  0.665736\n",
       "1  0.574026  0.962227  0.684598  0.993132  0.801656  0.731256\n",
       "2  0.699443  0.607860  0.635743  0.737771  0.795491  0.881278\n",
       "3  0.814979  0.799399  0.262612  0.269255  0.360243  0.766887\n",
       "4  0.337390  0.714952  0.586377  0.209834  0.064964  0.459752\n",
       "5  0.060987  0.884712  0.801132  0.130354  0.926401  0.074226"
      ]
     },
     "execution_count": 45,
     "metadata": {},
     "output_type": "execute_result"
    }
   ],
   "source": [
    "df = pd.DataFrame(\n",
    "    np.random.rand(6,6),\n",
    "    columns = ['One', 'Two', 'Three', 'Four', 'Five', 'Six']\n",
    ")\n",
    "df"
   ]
  },
  {
   "cell_type": "code",
   "execution_count": 50,
   "metadata": {},
   "outputs": [
    {
     "data": {
      "text/html": [
       "<div>\n",
       "<style scoped>\n",
       "    .dataframe tbody tr th:only-of-type {\n",
       "        vertical-align: middle;\n",
       "    }\n",
       "\n",
       "    .dataframe tbody tr th {\n",
       "        vertical-align: top;\n",
       "    }\n",
       "\n",
       "    .dataframe thead th {\n",
       "        text-align: right;\n",
       "    }\n",
       "</style>\n",
       "<table border=\"1\" class=\"dataframe\">\n",
       "  <thead>\n",
       "    <tr style=\"text-align: right;\">\n",
       "      <th></th>\n",
       "      <th>Two</th>\n",
       "      <th>Three</th>\n",
       "      <th>Six</th>\n",
       "      <th>One</th>\n",
       "      <th>Four</th>\n",
       "      <th>Five</th>\n",
       "    </tr>\n",
       "  </thead>\n",
       "  <tbody>\n",
       "    <tr>\n",
       "      <th>0</th>\n",
       "      <td>0.507085</td>\n",
       "      <td>0.396778</td>\n",
       "      <td>0.665736</td>\n",
       "      <td>0.109728</td>\n",
       "      <td>0.792931</td>\n",
       "      <td>0.590558</td>\n",
       "    </tr>\n",
       "    <tr>\n",
       "      <th>1</th>\n",
       "      <td>0.962227</td>\n",
       "      <td>0.684598</td>\n",
       "      <td>0.731256</td>\n",
       "      <td>0.574026</td>\n",
       "      <td>0.993132</td>\n",
       "      <td>0.801656</td>\n",
       "    </tr>\n",
       "    <tr>\n",
       "      <th>2</th>\n",
       "      <td>0.607860</td>\n",
       "      <td>0.635743</td>\n",
       "      <td>0.881278</td>\n",
       "      <td>0.699443</td>\n",
       "      <td>0.737771</td>\n",
       "      <td>0.795491</td>\n",
       "    </tr>\n",
       "    <tr>\n",
       "      <th>3</th>\n",
       "      <td>0.799399</td>\n",
       "      <td>0.262612</td>\n",
       "      <td>0.766887</td>\n",
       "      <td>0.814979</td>\n",
       "      <td>0.269255</td>\n",
       "      <td>0.360243</td>\n",
       "    </tr>\n",
       "    <tr>\n",
       "      <th>4</th>\n",
       "      <td>0.714952</td>\n",
       "      <td>0.586377</td>\n",
       "      <td>0.459752</td>\n",
       "      <td>0.337390</td>\n",
       "      <td>0.209834</td>\n",
       "      <td>0.064964</td>\n",
       "    </tr>\n",
       "    <tr>\n",
       "      <th>5</th>\n",
       "      <td>0.884712</td>\n",
       "      <td>0.801132</td>\n",
       "      <td>0.074226</td>\n",
       "      <td>0.060987</td>\n",
       "      <td>0.130354</td>\n",
       "      <td>0.926401</td>\n",
       "    </tr>\n",
       "  </tbody>\n",
       "</table>\n",
       "</div>"
      ],
      "text/plain": [
       "        Two     Three       Six       One      Four      Five\n",
       "0  0.507085  0.396778  0.665736  0.109728  0.792931  0.590558\n",
       "1  0.962227  0.684598  0.731256  0.574026  0.993132  0.801656\n",
       "2  0.607860  0.635743  0.881278  0.699443  0.737771  0.795491\n",
       "3  0.799399  0.262612  0.766887  0.814979  0.269255  0.360243\n",
       "4  0.714952  0.586377  0.459752  0.337390  0.209834  0.064964\n",
       "5  0.884712  0.801132  0.074226  0.060987  0.130354  0.926401"
      ]
     },
     "execution_count": 50,
     "metadata": {},
     "output_type": "execute_result"
    }
   ],
   "source": [
    "df.sort_index(axis=1, ascending=False)"
   ]
  },
  {
   "cell_type": "markdown",
   "metadata": {},
   "source": [
    "Sorting by values in column"
   ]
  },
  {
   "cell_type": "code",
   "execution_count": 51,
   "metadata": {},
   "outputs": [
    {
     "data": {
      "text/html": [
       "<div>\n",
       "<style scoped>\n",
       "    .dataframe tbody tr th:only-of-type {\n",
       "        vertical-align: middle;\n",
       "    }\n",
       "\n",
       "    .dataframe tbody tr th {\n",
       "        vertical-align: top;\n",
       "    }\n",
       "\n",
       "    .dataframe thead th {\n",
       "        text-align: right;\n",
       "    }\n",
       "</style>\n",
       "<table border=\"1\" class=\"dataframe\">\n",
       "  <thead>\n",
       "    <tr style=\"text-align: right;\">\n",
       "      <th></th>\n",
       "      <th>One</th>\n",
       "      <th>Two</th>\n",
       "      <th>Three</th>\n",
       "      <th>Four</th>\n",
       "      <th>Five</th>\n",
       "      <th>Six</th>\n",
       "    </tr>\n",
       "  </thead>\n",
       "  <tbody>\n",
       "    <tr>\n",
       "      <th>3</th>\n",
       "      <td>0.814979</td>\n",
       "      <td>0.799399</td>\n",
       "      <td>0.262612</td>\n",
       "      <td>0.269255</td>\n",
       "      <td>0.360243</td>\n",
       "      <td>0.766887</td>\n",
       "    </tr>\n",
       "    <tr>\n",
       "      <th>0</th>\n",
       "      <td>0.109728</td>\n",
       "      <td>0.507085</td>\n",
       "      <td>0.396778</td>\n",
       "      <td>0.792931</td>\n",
       "      <td>0.590558</td>\n",
       "      <td>0.665736</td>\n",
       "    </tr>\n",
       "    <tr>\n",
       "      <th>4</th>\n",
       "      <td>0.337390</td>\n",
       "      <td>0.714952</td>\n",
       "      <td>0.586377</td>\n",
       "      <td>0.209834</td>\n",
       "      <td>0.064964</td>\n",
       "      <td>0.459752</td>\n",
       "    </tr>\n",
       "    <tr>\n",
       "      <th>2</th>\n",
       "      <td>0.699443</td>\n",
       "      <td>0.607860</td>\n",
       "      <td>0.635743</td>\n",
       "      <td>0.737771</td>\n",
       "      <td>0.795491</td>\n",
       "      <td>0.881278</td>\n",
       "    </tr>\n",
       "    <tr>\n",
       "      <th>1</th>\n",
       "      <td>0.574026</td>\n",
       "      <td>0.962227</td>\n",
       "      <td>0.684598</td>\n",
       "      <td>0.993132</td>\n",
       "      <td>0.801656</td>\n",
       "      <td>0.731256</td>\n",
       "    </tr>\n",
       "    <tr>\n",
       "      <th>5</th>\n",
       "      <td>0.060987</td>\n",
       "      <td>0.884712</td>\n",
       "      <td>0.801132</td>\n",
       "      <td>0.130354</td>\n",
       "      <td>0.926401</td>\n",
       "      <td>0.074226</td>\n",
       "    </tr>\n",
       "  </tbody>\n",
       "</table>\n",
       "</div>"
      ],
      "text/plain": [
       "        One       Two     Three      Four      Five       Six\n",
       "3  0.814979  0.799399  0.262612  0.269255  0.360243  0.766887\n",
       "0  0.109728  0.507085  0.396778  0.792931  0.590558  0.665736\n",
       "4  0.337390  0.714952  0.586377  0.209834  0.064964  0.459752\n",
       "2  0.699443  0.607860  0.635743  0.737771  0.795491  0.881278\n",
       "1  0.574026  0.962227  0.684598  0.993132  0.801656  0.731256\n",
       "5  0.060987  0.884712  0.801132  0.130354  0.926401  0.074226"
      ]
     },
     "execution_count": 51,
     "metadata": {},
     "output_type": "execute_result"
    }
   ],
   "source": [
    "df.sort_values(by='Three')"
   ]
  },
  {
   "cell_type": "markdown",
   "metadata": {},
   "source": [
    "# Selection of data\n",
    "TBD"
   ]
  },
  {
   "cell_type": "code",
   "execution_count": null,
   "metadata": {},
   "outputs": [],
   "source": []
  }
 ],
 "metadata": {
  "kernelspec": {
   "display_name": "Python 3",
   "language": "python",
   "name": "python3"
  },
  "language_info": {
   "codemirror_mode": {
    "name": "ipython",
    "version": 3
   },
   "file_extension": ".py",
   "mimetype": "text/x-python",
   "name": "python",
   "nbconvert_exporter": "python",
   "pygments_lexer": "ipython3",
   "version": "3.7.1"
  }
 },
 "nbformat": 4,
 "nbformat_minor": 2
}
