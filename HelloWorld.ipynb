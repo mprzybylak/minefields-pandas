{
 "cells": [
  {
   "cell_type": "markdown",
   "metadata": {},
   "source": [
    "# Hello world\n",
    "\n",
    "Basic pandas hacking based on [10 minutes to pandas](http://pandas.pydata.org/pandas-docs/version/0.24/getting_started/10min.html), [Essential Basic Functionality](http://pandas.pydata.org/pandas-docs/version/0.24/getting_started/basics.html) articles"
   ]
  },
  {
   "cell_type": "markdown",
   "metadata": {},
   "source": [
    "## Imports\n",
    "Pandas works on the top of numpy - and can also work with numpy so it is useful to import also numpy"
   ]
  },
  {
   "cell_type": "code",
   "execution_count": 81,
   "metadata": {},
   "outputs": [],
   "source": [
    "import numpy as np\n",
    "import pandas as pd\n",
    "import matplotlib.pyplot as plt"
   ]
  },
  {
   "cell_type": "markdown",
   "metadata": {},
   "source": [
    "## Data series\n",
    "DataSeries in 1d data structure (list of scalars)"
   ]
  },
  {
   "cell_type": "code",
   "execution_count": 2,
   "metadata": {},
   "outputs": [
    {
     "data": {
      "text/plain": [
       "0    1\n",
       "1    2\n",
       "2    3\n",
       "3    4\n",
       "4    5\n",
       "dtype: int64"
      ]
     },
     "execution_count": 2,
     "metadata": {},
     "output_type": "execute_result"
    }
   ],
   "source": [
    "s = pd.Series([1,2,3,4,5])\n",
    "s"
   ]
  },
  {
   "cell_type": "markdown",
   "metadata": {},
   "source": [
    "Date range (6 days) as a Series"
   ]
  },
  {
   "cell_type": "code",
   "execution_count": 3,
   "metadata": {},
   "outputs": [
    {
     "data": {
      "text/plain": [
       "DatetimeIndex(['2018-03-28', '2018-03-29', '2018-03-30', '2018-03-31',\n",
       "               '2018-04-01', '2018-04-02'],\n",
       "              dtype='datetime64[ns]', freq='D')"
      ]
     },
     "execution_count": 3,
     "metadata": {},
     "output_type": "execute_result"
    }
   ],
   "source": [
    "s_date_range = pd.date_range('20180328', periods=6)\n",
    "s_date_range"
   ]
  },
  {
   "cell_type": "markdown",
   "metadata": {},
   "source": [
    "## Data Frame\n",
    "DataFrame is 2d data structure (list of data series)"
   ]
  },
  {
   "cell_type": "code",
   "execution_count": 4,
   "metadata": {},
   "outputs": [
    {
     "data": {
      "text/html": [
       "<div>\n",
       "<style scoped>\n",
       "    .dataframe tbody tr th:only-of-type {\n",
       "        vertical-align: middle;\n",
       "    }\n",
       "\n",
       "    .dataframe tbody tr th {\n",
       "        vertical-align: top;\n",
       "    }\n",
       "\n",
       "    .dataframe thead th {\n",
       "        text-align: right;\n",
       "    }\n",
       "</style>\n",
       "<table border=\"1\" class=\"dataframe\">\n",
       "  <thead>\n",
       "    <tr style=\"text-align: right;\">\n",
       "      <th></th>\n",
       "      <th>0</th>\n",
       "      <th>1</th>\n",
       "      <th>2</th>\n",
       "      <th>3</th>\n",
       "      <th>4</th>\n",
       "    </tr>\n",
       "  </thead>\n",
       "  <tbody>\n",
       "    <tr>\n",
       "      <th>0</th>\n",
       "      <td>0.713428</td>\n",
       "      <td>0.618151</td>\n",
       "      <td>0.229913</td>\n",
       "      <td>0.446276</td>\n",
       "      <td>0.758560</td>\n",
       "    </tr>\n",
       "    <tr>\n",
       "      <th>1</th>\n",
       "      <td>0.819598</td>\n",
       "      <td>0.404202</td>\n",
       "      <td>0.023563</td>\n",
       "      <td>0.720383</td>\n",
       "      <td>0.660694</td>\n",
       "    </tr>\n",
       "    <tr>\n",
       "      <th>2</th>\n",
       "      <td>0.005669</td>\n",
       "      <td>0.976246</td>\n",
       "      <td>0.200132</td>\n",
       "      <td>0.247947</td>\n",
       "      <td>0.034395</td>\n",
       "    </tr>\n",
       "    <tr>\n",
       "      <th>3</th>\n",
       "      <td>0.810332</td>\n",
       "      <td>0.342980</td>\n",
       "      <td>0.836721</td>\n",
       "      <td>0.912189</td>\n",
       "      <td>0.388979</td>\n",
       "    </tr>\n",
       "    <tr>\n",
       "      <th>4</th>\n",
       "      <td>0.856497</td>\n",
       "      <td>0.372018</td>\n",
       "      <td>0.439497</td>\n",
       "      <td>0.221848</td>\n",
       "      <td>0.100705</td>\n",
       "    </tr>\n",
       "  </tbody>\n",
       "</table>\n",
       "</div>"
      ],
      "text/plain": [
       "          0         1         2         3         4\n",
       "0  0.713428  0.618151  0.229913  0.446276  0.758560\n",
       "1  0.819598  0.404202  0.023563  0.720383  0.660694\n",
       "2  0.005669  0.976246  0.200132  0.247947  0.034395\n",
       "3  0.810332  0.342980  0.836721  0.912189  0.388979\n",
       "4  0.856497  0.372018  0.439497  0.221848  0.100705"
      ]
     },
     "execution_count": 4,
     "metadata": {},
     "output_type": "execute_result"
    }
   ],
   "source": [
    "df = pd.DataFrame(np.random.rand(5,5))\n",
    "df"
   ]
  },
  {
   "cell_type": "markdown",
   "metadata": {},
   "source": [
    "## Column headers\n",
    "Headers can be added to DataFrame by using `columns` parameter or by passing a map instead of list during creation of DataFrame"
   ]
  },
  {
   "cell_type": "markdown",
   "metadata": {},
   "source": [
    "using `coulumns` parameter"
   ]
  },
  {
   "cell_type": "code",
   "execution_count": 5,
   "metadata": {},
   "outputs": [
    {
     "data": {
      "text/html": [
       "<div>\n",
       "<style scoped>\n",
       "    .dataframe tbody tr th:only-of-type {\n",
       "        vertical-align: middle;\n",
       "    }\n",
       "\n",
       "    .dataframe tbody tr th {\n",
       "        vertical-align: top;\n",
       "    }\n",
       "\n",
       "    .dataframe thead th {\n",
       "        text-align: right;\n",
       "    }\n",
       "</style>\n",
       "<table border=\"1\" class=\"dataframe\">\n",
       "  <thead>\n",
       "    <tr style=\"text-align: right;\">\n",
       "      <th></th>\n",
       "      <th>First</th>\n",
       "      <th>Second</th>\n",
       "      <th>Third</th>\n",
       "      <th>Fourth</th>\n",
       "      <th>Fifth</th>\n",
       "    </tr>\n",
       "  </thead>\n",
       "  <tbody>\n",
       "    <tr>\n",
       "      <th>0</th>\n",
       "      <td>0.230636</td>\n",
       "      <td>0.749685</td>\n",
       "      <td>0.915436</td>\n",
       "      <td>0.002727</td>\n",
       "      <td>0.445115</td>\n",
       "    </tr>\n",
       "    <tr>\n",
       "      <th>1</th>\n",
       "      <td>0.792763</td>\n",
       "      <td>0.533858</td>\n",
       "      <td>0.083893</td>\n",
       "      <td>0.423566</td>\n",
       "      <td>0.150741</td>\n",
       "    </tr>\n",
       "    <tr>\n",
       "      <th>2</th>\n",
       "      <td>0.348368</td>\n",
       "      <td>0.149487</td>\n",
       "      <td>0.040618</td>\n",
       "      <td>0.886258</td>\n",
       "      <td>0.325057</td>\n",
       "    </tr>\n",
       "    <tr>\n",
       "      <th>3</th>\n",
       "      <td>0.215236</td>\n",
       "      <td>0.163187</td>\n",
       "      <td>0.450109</td>\n",
       "      <td>0.377342</td>\n",
       "      <td>0.247117</td>\n",
       "    </tr>\n",
       "    <tr>\n",
       "      <th>4</th>\n",
       "      <td>0.725822</td>\n",
       "      <td>0.533809</td>\n",
       "      <td>0.333405</td>\n",
       "      <td>0.831080</td>\n",
       "      <td>0.037023</td>\n",
       "    </tr>\n",
       "  </tbody>\n",
       "</table>\n",
       "</div>"
      ],
      "text/plain": [
       "      First    Second     Third    Fourth     Fifth\n",
       "0  0.230636  0.749685  0.915436  0.002727  0.445115\n",
       "1  0.792763  0.533858  0.083893  0.423566  0.150741\n",
       "2  0.348368  0.149487  0.040618  0.886258  0.325057\n",
       "3  0.215236  0.163187  0.450109  0.377342  0.247117\n",
       "4  0.725822  0.533809  0.333405  0.831080  0.037023"
      ]
     },
     "execution_count": 5,
     "metadata": {},
     "output_type": "execute_result"
    }
   ],
   "source": [
    "df_with_headers = pd.DataFrame(\n",
    "    np.random.rand(5,5), \n",
    "    columns = ['First', 'Second', 'Third', 'Fourth', 'Fifth']\n",
    ")\n",
    "\n",
    "df_with_headers"
   ]
  },
  {
   "cell_type": "markdown",
   "metadata": {},
   "source": [
    "Passing map:"
   ]
  },
  {
   "cell_type": "code",
   "execution_count": 6,
   "metadata": {},
   "outputs": [
    {
     "data": {
      "text/html": [
       "<div>\n",
       "<style scoped>\n",
       "    .dataframe tbody tr th:only-of-type {\n",
       "        vertical-align: middle;\n",
       "    }\n",
       "\n",
       "    .dataframe tbody tr th {\n",
       "        vertical-align: top;\n",
       "    }\n",
       "\n",
       "    .dataframe thead th {\n",
       "        text-align: right;\n",
       "    }\n",
       "</style>\n",
       "<table border=\"1\" class=\"dataframe\">\n",
       "  <thead>\n",
       "    <tr style=\"text-align: right;\">\n",
       "      <th></th>\n",
       "      <th>First Column</th>\n",
       "      <th>Second Column</th>\n",
       "    </tr>\n",
       "  </thead>\n",
       "  <tbody>\n",
       "    <tr>\n",
       "      <th>0</th>\n",
       "      <td>0.232918</td>\n",
       "      <td>0.724865</td>\n",
       "    </tr>\n",
       "    <tr>\n",
       "      <th>1</th>\n",
       "      <td>0.599783</td>\n",
       "      <td>0.518178</td>\n",
       "    </tr>\n",
       "    <tr>\n",
       "      <th>2</th>\n",
       "      <td>0.698159</td>\n",
       "      <td>0.317993</td>\n",
       "    </tr>\n",
       "    <tr>\n",
       "      <th>3</th>\n",
       "      <td>0.182286</td>\n",
       "      <td>0.244684</td>\n",
       "    </tr>\n",
       "    <tr>\n",
       "      <th>4</th>\n",
       "      <td>0.396331</td>\n",
       "      <td>0.134752</td>\n",
       "    </tr>\n",
       "  </tbody>\n",
       "</table>\n",
       "</div>"
      ],
      "text/plain": [
       "   First Column  Second Column\n",
       "0      0.232918       0.724865\n",
       "1      0.599783       0.518178\n",
       "2      0.698159       0.317993\n",
       "3      0.182286       0.244684\n",
       "4      0.396331       0.134752"
      ]
     },
     "execution_count": 6,
     "metadata": {},
     "output_type": "execute_result"
    }
   ],
   "source": [
    "df_with_headers_2 = pd.DataFrame({\n",
    "    'First Column': np.random.rand(5),\n",
    "    'Second Column': np.random.rand(5)\n",
    "})\n",
    "\n",
    "df_with_headers_2"
   ]
  },
  {
   "cell_type": "markdown",
   "metadata": {},
   "source": [
    "## Index"
   ]
  },
  {
   "cell_type": "markdown",
   "metadata": {},
   "source": [
    "Data Frame with custom index (rows \"header\")"
   ]
  },
  {
   "cell_type": "code",
   "execution_count": 7,
   "metadata": {},
   "outputs": [
    {
     "data": {
      "text/html": [
       "<div>\n",
       "<style scoped>\n",
       "    .dataframe tbody tr th:only-of-type {\n",
       "        vertical-align: middle;\n",
       "    }\n",
       "\n",
       "    .dataframe tbody tr th {\n",
       "        vertical-align: top;\n",
       "    }\n",
       "\n",
       "    .dataframe thead th {\n",
       "        text-align: right;\n",
       "    }\n",
       "</style>\n",
       "<table border=\"1\" class=\"dataframe\">\n",
       "  <thead>\n",
       "    <tr style=\"text-align: right;\">\n",
       "      <th></th>\n",
       "      <th>0</th>\n",
       "      <th>1</th>\n",
       "      <th>2</th>\n",
       "      <th>3</th>\n",
       "      <th>4</th>\n",
       "    </tr>\n",
       "  </thead>\n",
       "  <tbody>\n",
       "    <tr>\n",
       "      <th>row1</th>\n",
       "      <td>0.400256</td>\n",
       "      <td>0.557741</td>\n",
       "      <td>0.215447</td>\n",
       "      <td>0.324426</td>\n",
       "      <td>0.828249</td>\n",
       "    </tr>\n",
       "    <tr>\n",
       "      <th>row2</th>\n",
       "      <td>0.657899</td>\n",
       "      <td>0.848598</td>\n",
       "      <td>0.334529</td>\n",
       "      <td>0.148715</td>\n",
       "      <td>0.278455</td>\n",
       "    </tr>\n",
       "    <tr>\n",
       "      <th>row3</th>\n",
       "      <td>0.813617</td>\n",
       "      <td>0.461623</td>\n",
       "      <td>0.429980</td>\n",
       "      <td>0.229841</td>\n",
       "      <td>0.989378</td>\n",
       "    </tr>\n",
       "    <tr>\n",
       "      <th>row4</th>\n",
       "      <td>0.983894</td>\n",
       "      <td>0.258822</td>\n",
       "      <td>0.632484</td>\n",
       "      <td>0.486888</td>\n",
       "      <td>0.416682</td>\n",
       "    </tr>\n",
       "    <tr>\n",
       "      <th>row5</th>\n",
       "      <td>0.052962</td>\n",
       "      <td>0.785604</td>\n",
       "      <td>0.280236</td>\n",
       "      <td>0.074057</td>\n",
       "      <td>0.051171</td>\n",
       "    </tr>\n",
       "  </tbody>\n",
       "</table>\n",
       "</div>"
      ],
      "text/plain": [
       "             0         1         2         3         4\n",
       "row1  0.400256  0.557741  0.215447  0.324426  0.828249\n",
       "row2  0.657899  0.848598  0.334529  0.148715  0.278455\n",
       "row3  0.813617  0.461623  0.429980  0.229841  0.989378\n",
       "row4  0.983894  0.258822  0.632484  0.486888  0.416682\n",
       "row5  0.052962  0.785604  0.280236  0.074057  0.051171"
      ]
     },
     "execution_count": 7,
     "metadata": {},
     "output_type": "execute_result"
    }
   ],
   "source": [
    "df_with_renamed_index = pd.DataFrame(\n",
    "    np.random.rand(5,5),\n",
    "    index = ['row1', 'row2', 'row3', 'row4', 'row5']\n",
    ")\n",
    "df_with_renamed_index"
   ]
  },
  {
   "cell_type": "markdown",
   "metadata": {},
   "source": [
    "## Inspecting data frames"
   ]
  },
  {
   "cell_type": "markdown",
   "metadata": {},
   "source": [
    "Checking `dtype` of columns (`dtype` is numpy class containing information about type of data)"
   ]
  },
  {
   "cell_type": "code",
   "execution_count": 8,
   "metadata": {},
   "outputs": [
    {
     "data": {
      "text/plain": [
       "1st    float64\n",
       "2nd    float64\n",
       "3rd    float64\n",
       "4th    float64\n",
       "dtype: object"
      ]
     },
     "execution_count": 8,
     "metadata": {},
     "output_type": "execute_result"
    }
   ],
   "source": [
    "df_to_inspect = pd.DataFrame(\n",
    "    np.random.rand(4,4),\n",
    "    columns = ['1st', '2nd', '3rd', '4th']\n",
    ")\n",
    "df_to_inspect\n",
    "df_to_inspect.dtypes"
   ]
  },
  {
   "cell_type": "markdown",
   "metadata": {},
   "source": [
    "Seeing information about index"
   ]
  },
  {
   "cell_type": "code",
   "execution_count": 9,
   "metadata": {},
   "outputs": [
    {
     "data": {
      "text/plain": [
       "RangeIndex(start=0, stop=4, step=1)"
      ]
     },
     "execution_count": 9,
     "metadata": {},
     "output_type": "execute_result"
    }
   ],
   "source": [
    "df_to_inspect.index"
   ]
  },
  {
   "cell_type": "markdown",
   "metadata": {},
   "source": [
    "Seeing first n results"
   ]
  },
  {
   "cell_type": "code",
   "execution_count": 10,
   "metadata": {},
   "outputs": [
    {
     "data": {
      "text/html": [
       "<div>\n",
       "<style scoped>\n",
       "    .dataframe tbody tr th:only-of-type {\n",
       "        vertical-align: middle;\n",
       "    }\n",
       "\n",
       "    .dataframe tbody tr th {\n",
       "        vertical-align: top;\n",
       "    }\n",
       "\n",
       "    .dataframe thead th {\n",
       "        text-align: right;\n",
       "    }\n",
       "</style>\n",
       "<table border=\"1\" class=\"dataframe\">\n",
       "  <thead>\n",
       "    <tr style=\"text-align: right;\">\n",
       "      <th></th>\n",
       "      <th>1st</th>\n",
       "      <th>2nd</th>\n",
       "      <th>3rd</th>\n",
       "      <th>4th</th>\n",
       "    </tr>\n",
       "  </thead>\n",
       "  <tbody>\n",
       "    <tr>\n",
       "      <th>0</th>\n",
       "      <td>0.736530</td>\n",
       "      <td>0.172039</td>\n",
       "      <td>0.966906</td>\n",
       "      <td>0.923015</td>\n",
       "    </tr>\n",
       "    <tr>\n",
       "      <th>1</th>\n",
       "      <td>0.639028</td>\n",
       "      <td>0.090695</td>\n",
       "      <td>0.857570</td>\n",
       "      <td>0.679344</td>\n",
       "    </tr>\n",
       "    <tr>\n",
       "      <th>2</th>\n",
       "      <td>0.784763</td>\n",
       "      <td>0.059775</td>\n",
       "      <td>0.450456</td>\n",
       "      <td>0.629729</td>\n",
       "    </tr>\n",
       "  </tbody>\n",
       "</table>\n",
       "</div>"
      ],
      "text/plain": [
       "        1st       2nd       3rd       4th\n",
       "0  0.736530  0.172039  0.966906  0.923015\n",
       "1  0.639028  0.090695  0.857570  0.679344\n",
       "2  0.784763  0.059775  0.450456  0.629729"
      ]
     },
     "execution_count": 10,
     "metadata": {},
     "output_type": "execute_result"
    }
   ],
   "source": [
    "df_to_inspect.head(3)"
   ]
  },
  {
   "cell_type": "markdown",
   "metadata": {},
   "source": [
    "Seeing last n results"
   ]
  },
  {
   "cell_type": "code",
   "execution_count": 100,
   "metadata": {},
   "outputs": [
    {
     "data": {
      "text/html": [
       "<div>\n",
       "<style scoped>\n",
       "    .dataframe tbody tr th:only-of-type {\n",
       "        vertical-align: middle;\n",
       "    }\n",
       "\n",
       "    .dataframe tbody tr th {\n",
       "        vertical-align: top;\n",
       "    }\n",
       "\n",
       "    .dataframe thead th {\n",
       "        text-align: right;\n",
       "    }\n",
       "</style>\n",
       "<table border=\"1\" class=\"dataframe\">\n",
       "  <thead>\n",
       "    <tr style=\"text-align: right;\">\n",
       "      <th></th>\n",
       "      <th>1st</th>\n",
       "      <th>2nd</th>\n",
       "      <th>3rd</th>\n",
       "      <th>4th</th>\n",
       "    </tr>\n",
       "  </thead>\n",
       "  <tbody>\n",
       "    <tr>\n",
       "      <th>1</th>\n",
       "      <td>0.639028</td>\n",
       "      <td>0.090695</td>\n",
       "      <td>0.857570</td>\n",
       "      <td>0.679344</td>\n",
       "    </tr>\n",
       "    <tr>\n",
       "      <th>2</th>\n",
       "      <td>0.784763</td>\n",
       "      <td>0.059775</td>\n",
       "      <td>0.450456</td>\n",
       "      <td>0.629729</td>\n",
       "    </tr>\n",
       "    <tr>\n",
       "      <th>3</th>\n",
       "      <td>0.264249</td>\n",
       "      <td>0.296644</td>\n",
       "      <td>0.266332</td>\n",
       "      <td>0.694547</td>\n",
       "    </tr>\n",
       "  </tbody>\n",
       "</table>\n",
       "</div>"
      ],
      "text/plain": [
       "        1st       2nd       3rd       4th\n",
       "1  0.639028  0.090695  0.857570  0.679344\n",
       "2  0.784763  0.059775  0.450456  0.629729\n",
       "3  0.264249  0.296644  0.266332  0.694547"
      ]
     },
     "execution_count": 100,
     "metadata": {},
     "output_type": "execute_result"
    }
   ],
   "source": [
    "df_to_inspect.tail(3)"
   ]
  },
  {
   "cell_type": "code",
   "execution_count": 101,
   "metadata": {},
   "outputs": [
    {
     "data": {
      "text/plain": [
       "(4, 4)"
      ]
     },
     "execution_count": 101,
     "metadata": {},
     "output_type": "execute_result"
    }
   ],
   "source": [
    "df_to_inspect.shape"
   ]
  },
  {
   "cell_type": "code",
   "execution_count": 102,
   "metadata": {},
   "outputs": [
    {
     "data": {
      "text/plain": [
       "RangeIndex(start=0, stop=4, step=1)"
      ]
     },
     "execution_count": 102,
     "metadata": {},
     "output_type": "execute_result"
    }
   ],
   "source": [
    "df_to_inspect.index"
   ]
  },
  {
   "cell_type": "markdown",
   "metadata": {},
   "source": [
    "Convert data to numpy array"
   ]
  },
  {
   "cell_type": "code",
   "execution_count": 103,
   "metadata": {},
   "outputs": [
    {
     "data": {
      "text/plain": [
       "Index(['1st', '2nd', '3rd', '4th'], dtype='object')"
      ]
     },
     "execution_count": 103,
     "metadata": {},
     "output_type": "execute_result"
    }
   ],
   "source": [
    "df_to_inspect.columns"
   ]
  },
  {
   "cell_type": "code",
   "execution_count": 104,
   "metadata": {},
   "outputs": [
    {
     "data": {
      "text/plain": [
       "<PandasArray>\n",
       "[0, 1, 2, 3]\n",
       "Length: 4, dtype: int64"
      ]
     },
     "execution_count": 104,
     "metadata": {},
     "output_type": "execute_result"
    }
   ],
   "source": [
    "df_to_inspect.index.array"
   ]
  },
  {
   "cell_type": "code",
   "execution_count": 12,
   "metadata": {},
   "outputs": [
    {
     "data": {
      "text/plain": [
       "array([[0.73652998, 0.17203888, 0.96690562, 0.92301532],\n",
       "       [0.63902848, 0.09069518, 0.85757004, 0.67934417],\n",
       "       [0.78476316, 0.05977518, 0.45045614, 0.6297289 ],\n",
       "       [0.26424938, 0.29664373, 0.26633187, 0.69454677]])"
      ]
     },
     "execution_count": 12,
     "metadata": {},
     "output_type": "execute_result"
    }
   ],
   "source": [
    "df_to_inspect.to_numpy()"
   ]
  },
  {
   "cell_type": "code",
   "execution_count": 105,
   "metadata": {},
   "outputs": [
    {
     "data": {
      "text/plain": [
       "1st    0.606143\n",
       "2nd    0.154788\n",
       "3rd    0.635316\n",
       "4th    0.731659\n",
       "dtype: float64"
      ]
     },
     "execution_count": 105,
     "metadata": {},
     "output_type": "execute_result"
    }
   ],
   "source": [
    "df_to_inspect.mean()"
   ]
  },
  {
   "cell_type": "markdown",
   "metadata": {},
   "source": [
    "Quick, basic statistic analysis of columns"
   ]
  },
  {
   "cell_type": "code",
   "execution_count": 13,
   "metadata": {},
   "outputs": [
    {
     "data": {
      "text/html": [
       "<div>\n",
       "<style scoped>\n",
       "    .dataframe tbody tr th:only-of-type {\n",
       "        vertical-align: middle;\n",
       "    }\n",
       "\n",
       "    .dataframe tbody tr th {\n",
       "        vertical-align: top;\n",
       "    }\n",
       "\n",
       "    .dataframe thead th {\n",
       "        text-align: right;\n",
       "    }\n",
       "</style>\n",
       "<table border=\"1\" class=\"dataframe\">\n",
       "  <thead>\n",
       "    <tr style=\"text-align: right;\">\n",
       "      <th></th>\n",
       "      <th>1st</th>\n",
       "      <th>2nd</th>\n",
       "      <th>3rd</th>\n",
       "      <th>4th</th>\n",
       "    </tr>\n",
       "  </thead>\n",
       "  <tbody>\n",
       "    <tr>\n",
       "      <th>count</th>\n",
       "      <td>4.000000</td>\n",
       "      <td>4.000000</td>\n",
       "      <td>4.000000</td>\n",
       "      <td>4.000000</td>\n",
       "    </tr>\n",
       "    <tr>\n",
       "      <th>mean</th>\n",
       "      <td>0.606143</td>\n",
       "      <td>0.154788</td>\n",
       "      <td>0.635316</td>\n",
       "      <td>0.731659</td>\n",
       "    </tr>\n",
       "    <tr>\n",
       "      <th>std</th>\n",
       "      <td>0.235852</td>\n",
       "      <td>0.105761</td>\n",
       "      <td>0.331497</td>\n",
       "      <td>0.130539</td>\n",
       "    </tr>\n",
       "    <tr>\n",
       "      <th>min</th>\n",
       "      <td>0.264249</td>\n",
       "      <td>0.059775</td>\n",
       "      <td>0.266332</td>\n",
       "      <td>0.629729</td>\n",
       "    </tr>\n",
       "    <tr>\n",
       "      <th>25%</th>\n",
       "      <td>0.545334</td>\n",
       "      <td>0.082965</td>\n",
       "      <td>0.404425</td>\n",
       "      <td>0.666940</td>\n",
       "    </tr>\n",
       "    <tr>\n",
       "      <th>50%</th>\n",
       "      <td>0.687779</td>\n",
       "      <td>0.131367</td>\n",
       "      <td>0.654013</td>\n",
       "      <td>0.686945</td>\n",
       "    </tr>\n",
       "    <tr>\n",
       "      <th>75%</th>\n",
       "      <td>0.748588</td>\n",
       "      <td>0.203190</td>\n",
       "      <td>0.884904</td>\n",
       "      <td>0.751664</td>\n",
       "    </tr>\n",
       "    <tr>\n",
       "      <th>max</th>\n",
       "      <td>0.784763</td>\n",
       "      <td>0.296644</td>\n",
       "      <td>0.966906</td>\n",
       "      <td>0.923015</td>\n",
       "    </tr>\n",
       "  </tbody>\n",
       "</table>\n",
       "</div>"
      ],
      "text/plain": [
       "            1st       2nd       3rd       4th\n",
       "count  4.000000  4.000000  4.000000  4.000000\n",
       "mean   0.606143  0.154788  0.635316  0.731659\n",
       "std    0.235852  0.105761  0.331497  0.130539\n",
       "min    0.264249  0.059775  0.266332  0.629729\n",
       "25%    0.545334  0.082965  0.404425  0.666940\n",
       "50%    0.687779  0.131367  0.654013  0.686945\n",
       "75%    0.748588  0.203190  0.884904  0.751664\n",
       "max    0.784763  0.296644  0.966906  0.923015"
      ]
     },
     "execution_count": 13,
     "metadata": {},
     "output_type": "execute_result"
    }
   ],
   "source": [
    "df_to_inspect.describe()"
   ]
  },
  {
   "cell_type": "markdown",
   "metadata": {},
   "source": [
    "# DataFrame operations"
   ]
  },
  {
   "cell_type": "markdown",
   "metadata": {},
   "source": [
    "Transposing"
   ]
  },
  {
   "cell_type": "code",
   "execution_count": 14,
   "metadata": {},
   "outputs": [
    {
     "data": {
      "text/html": [
       "<div>\n",
       "<style scoped>\n",
       "    .dataframe tbody tr th:only-of-type {\n",
       "        vertical-align: middle;\n",
       "    }\n",
       "\n",
       "    .dataframe tbody tr th {\n",
       "        vertical-align: top;\n",
       "    }\n",
       "\n",
       "    .dataframe thead th {\n",
       "        text-align: right;\n",
       "    }\n",
       "</style>\n",
       "<table border=\"1\" class=\"dataframe\">\n",
       "  <thead>\n",
       "    <tr style=\"text-align: right;\">\n",
       "      <th></th>\n",
       "      <th>0</th>\n",
       "      <th>1</th>\n",
       "      <th>2</th>\n",
       "      <th>3</th>\n",
       "      <th>4</th>\n",
       "      <th>5</th>\n",
       "    </tr>\n",
       "  </thead>\n",
       "  <tbody>\n",
       "    <tr>\n",
       "      <th>One</th>\n",
       "      <td>0.674116</td>\n",
       "      <td>0.753914</td>\n",
       "      <td>0.528776</td>\n",
       "      <td>0.700617</td>\n",
       "      <td>0.625669</td>\n",
       "      <td>0.186769</td>\n",
       "    </tr>\n",
       "    <tr>\n",
       "      <th>Two</th>\n",
       "      <td>0.941925</td>\n",
       "      <td>0.925317</td>\n",
       "      <td>0.116811</td>\n",
       "      <td>0.057609</td>\n",
       "      <td>0.887635</td>\n",
       "      <td>0.392635</td>\n",
       "    </tr>\n",
       "    <tr>\n",
       "      <th>Three</th>\n",
       "      <td>0.755602</td>\n",
       "      <td>0.815510</td>\n",
       "      <td>0.147615</td>\n",
       "      <td>0.654370</td>\n",
       "      <td>0.013960</td>\n",
       "      <td>0.712974</td>\n",
       "    </tr>\n",
       "    <tr>\n",
       "      <th>Four</th>\n",
       "      <td>0.090872</td>\n",
       "      <td>0.854772</td>\n",
       "      <td>0.131246</td>\n",
       "      <td>0.912301</td>\n",
       "      <td>0.890945</td>\n",
       "      <td>0.690875</td>\n",
       "    </tr>\n",
       "    <tr>\n",
       "      <th>Five</th>\n",
       "      <td>0.720230</td>\n",
       "      <td>0.473706</td>\n",
       "      <td>0.861171</td>\n",
       "      <td>0.612305</td>\n",
       "      <td>0.390106</td>\n",
       "      <td>0.863675</td>\n",
       "    </tr>\n",
       "    <tr>\n",
       "      <th>Six</th>\n",
       "      <td>0.593443</td>\n",
       "      <td>0.983682</td>\n",
       "      <td>0.185557</td>\n",
       "      <td>0.958955</td>\n",
       "      <td>0.000684</td>\n",
       "      <td>0.633827</td>\n",
       "    </tr>\n",
       "  </tbody>\n",
       "</table>\n",
       "</div>"
      ],
      "text/plain": [
       "              0         1         2         3         4         5\n",
       "One    0.674116  0.753914  0.528776  0.700617  0.625669  0.186769\n",
       "Two    0.941925  0.925317  0.116811  0.057609  0.887635  0.392635\n",
       "Three  0.755602  0.815510  0.147615  0.654370  0.013960  0.712974\n",
       "Four   0.090872  0.854772  0.131246  0.912301  0.890945  0.690875\n",
       "Five   0.720230  0.473706  0.861171  0.612305  0.390106  0.863675\n",
       "Six    0.593443  0.983682  0.185557  0.958955  0.000684  0.633827"
      ]
     },
     "execution_count": 14,
     "metadata": {},
     "output_type": "execute_result"
    }
   ],
   "source": [
    "df = pd.DataFrame(\n",
    "    np.random.rand(6,6),\n",
    "    columns = ['One', 'Two', 'Three', 'Four', 'Five', 'Six']\n",
    ")\n",
    "df.T"
   ]
  },
  {
   "cell_type": "markdown",
   "metadata": {},
   "source": [
    "## Rearanging DataFrame"
   ]
  },
  {
   "cell_type": "markdown",
   "metadata": {},
   "source": [
    "Sorting columns"
   ]
  },
  {
   "cell_type": "code",
   "execution_count": 15,
   "metadata": {},
   "outputs": [
    {
     "data": {
      "text/html": [
       "<div>\n",
       "<style scoped>\n",
       "    .dataframe tbody tr th:only-of-type {\n",
       "        vertical-align: middle;\n",
       "    }\n",
       "\n",
       "    .dataframe tbody tr th {\n",
       "        vertical-align: top;\n",
       "    }\n",
       "\n",
       "    .dataframe thead th {\n",
       "        text-align: right;\n",
       "    }\n",
       "</style>\n",
       "<table border=\"1\" class=\"dataframe\">\n",
       "  <thead>\n",
       "    <tr style=\"text-align: right;\">\n",
       "      <th></th>\n",
       "      <th>One</th>\n",
       "      <th>Two</th>\n",
       "      <th>Three</th>\n",
       "      <th>Four</th>\n",
       "      <th>Five</th>\n",
       "      <th>Six</th>\n",
       "    </tr>\n",
       "  </thead>\n",
       "  <tbody>\n",
       "    <tr>\n",
       "      <th>0</th>\n",
       "      <td>0.338683</td>\n",
       "      <td>0.332459</td>\n",
       "      <td>0.720043</td>\n",
       "      <td>0.134523</td>\n",
       "      <td>0.211016</td>\n",
       "      <td>0.913438</td>\n",
       "    </tr>\n",
       "    <tr>\n",
       "      <th>1</th>\n",
       "      <td>0.700341</td>\n",
       "      <td>0.892687</td>\n",
       "      <td>0.057704</td>\n",
       "      <td>0.397769</td>\n",
       "      <td>0.201614</td>\n",
       "      <td>0.839656</td>\n",
       "    </tr>\n",
       "    <tr>\n",
       "      <th>2</th>\n",
       "      <td>0.677322</td>\n",
       "      <td>0.918145</td>\n",
       "      <td>0.404310</td>\n",
       "      <td>0.996944</td>\n",
       "      <td>0.100697</td>\n",
       "      <td>0.169380</td>\n",
       "    </tr>\n",
       "    <tr>\n",
       "      <th>3</th>\n",
       "      <td>0.579410</td>\n",
       "      <td>0.583701</td>\n",
       "      <td>0.060370</td>\n",
       "      <td>0.149119</td>\n",
       "      <td>0.568688</td>\n",
       "      <td>0.716520</td>\n",
       "    </tr>\n",
       "    <tr>\n",
       "      <th>4</th>\n",
       "      <td>0.370790</td>\n",
       "      <td>0.346233</td>\n",
       "      <td>0.588401</td>\n",
       "      <td>0.966859</td>\n",
       "      <td>0.690087</td>\n",
       "      <td>0.982749</td>\n",
       "    </tr>\n",
       "    <tr>\n",
       "      <th>5</th>\n",
       "      <td>0.092610</td>\n",
       "      <td>0.986069</td>\n",
       "      <td>0.635551</td>\n",
       "      <td>0.720254</td>\n",
       "      <td>0.046051</td>\n",
       "      <td>0.500467</td>\n",
       "    </tr>\n",
       "  </tbody>\n",
       "</table>\n",
       "</div>"
      ],
      "text/plain": [
       "        One       Two     Three      Four      Five       Six\n",
       "0  0.338683  0.332459  0.720043  0.134523  0.211016  0.913438\n",
       "1  0.700341  0.892687  0.057704  0.397769  0.201614  0.839656\n",
       "2  0.677322  0.918145  0.404310  0.996944  0.100697  0.169380\n",
       "3  0.579410  0.583701  0.060370  0.149119  0.568688  0.716520\n",
       "4  0.370790  0.346233  0.588401  0.966859  0.690087  0.982749\n",
       "5  0.092610  0.986069  0.635551  0.720254  0.046051  0.500467"
      ]
     },
     "execution_count": 15,
     "metadata": {},
     "output_type": "execute_result"
    }
   ],
   "source": [
    "df = pd.DataFrame(\n",
    "    np.random.rand(6,6),\n",
    "    columns = ['One', 'Two', 'Three', 'Four', 'Five', 'Six']\n",
    ")\n",
    "df"
   ]
  },
  {
   "cell_type": "code",
   "execution_count": 16,
   "metadata": {},
   "outputs": [
    {
     "data": {
      "text/html": [
       "<div>\n",
       "<style scoped>\n",
       "    .dataframe tbody tr th:only-of-type {\n",
       "        vertical-align: middle;\n",
       "    }\n",
       "\n",
       "    .dataframe tbody tr th {\n",
       "        vertical-align: top;\n",
       "    }\n",
       "\n",
       "    .dataframe thead th {\n",
       "        text-align: right;\n",
       "    }\n",
       "</style>\n",
       "<table border=\"1\" class=\"dataframe\">\n",
       "  <thead>\n",
       "    <tr style=\"text-align: right;\">\n",
       "      <th></th>\n",
       "      <th>Two</th>\n",
       "      <th>Three</th>\n",
       "      <th>Six</th>\n",
       "      <th>One</th>\n",
       "      <th>Four</th>\n",
       "      <th>Five</th>\n",
       "    </tr>\n",
       "  </thead>\n",
       "  <tbody>\n",
       "    <tr>\n",
       "      <th>0</th>\n",
       "      <td>0.332459</td>\n",
       "      <td>0.720043</td>\n",
       "      <td>0.913438</td>\n",
       "      <td>0.338683</td>\n",
       "      <td>0.134523</td>\n",
       "      <td>0.211016</td>\n",
       "    </tr>\n",
       "    <tr>\n",
       "      <th>1</th>\n",
       "      <td>0.892687</td>\n",
       "      <td>0.057704</td>\n",
       "      <td>0.839656</td>\n",
       "      <td>0.700341</td>\n",
       "      <td>0.397769</td>\n",
       "      <td>0.201614</td>\n",
       "    </tr>\n",
       "    <tr>\n",
       "      <th>2</th>\n",
       "      <td>0.918145</td>\n",
       "      <td>0.404310</td>\n",
       "      <td>0.169380</td>\n",
       "      <td>0.677322</td>\n",
       "      <td>0.996944</td>\n",
       "      <td>0.100697</td>\n",
       "    </tr>\n",
       "    <tr>\n",
       "      <th>3</th>\n",
       "      <td>0.583701</td>\n",
       "      <td>0.060370</td>\n",
       "      <td>0.716520</td>\n",
       "      <td>0.579410</td>\n",
       "      <td>0.149119</td>\n",
       "      <td>0.568688</td>\n",
       "    </tr>\n",
       "    <tr>\n",
       "      <th>4</th>\n",
       "      <td>0.346233</td>\n",
       "      <td>0.588401</td>\n",
       "      <td>0.982749</td>\n",
       "      <td>0.370790</td>\n",
       "      <td>0.966859</td>\n",
       "      <td>0.690087</td>\n",
       "    </tr>\n",
       "    <tr>\n",
       "      <th>5</th>\n",
       "      <td>0.986069</td>\n",
       "      <td>0.635551</td>\n",
       "      <td>0.500467</td>\n",
       "      <td>0.092610</td>\n",
       "      <td>0.720254</td>\n",
       "      <td>0.046051</td>\n",
       "    </tr>\n",
       "  </tbody>\n",
       "</table>\n",
       "</div>"
      ],
      "text/plain": [
       "        Two     Three       Six       One      Four      Five\n",
       "0  0.332459  0.720043  0.913438  0.338683  0.134523  0.211016\n",
       "1  0.892687  0.057704  0.839656  0.700341  0.397769  0.201614\n",
       "2  0.918145  0.404310  0.169380  0.677322  0.996944  0.100697\n",
       "3  0.583701  0.060370  0.716520  0.579410  0.149119  0.568688\n",
       "4  0.346233  0.588401  0.982749  0.370790  0.966859  0.690087\n",
       "5  0.986069  0.635551  0.500467  0.092610  0.720254  0.046051"
      ]
     },
     "execution_count": 16,
     "metadata": {},
     "output_type": "execute_result"
    }
   ],
   "source": [
    "df.sort_index(axis=1, ascending=False)"
   ]
  },
  {
   "cell_type": "markdown",
   "metadata": {},
   "source": [
    "Sorting by values in column"
   ]
  },
  {
   "cell_type": "code",
   "execution_count": 17,
   "metadata": {},
   "outputs": [
    {
     "data": {
      "text/html": [
       "<div>\n",
       "<style scoped>\n",
       "    .dataframe tbody tr th:only-of-type {\n",
       "        vertical-align: middle;\n",
       "    }\n",
       "\n",
       "    .dataframe tbody tr th {\n",
       "        vertical-align: top;\n",
       "    }\n",
       "\n",
       "    .dataframe thead th {\n",
       "        text-align: right;\n",
       "    }\n",
       "</style>\n",
       "<table border=\"1\" class=\"dataframe\">\n",
       "  <thead>\n",
       "    <tr style=\"text-align: right;\">\n",
       "      <th></th>\n",
       "      <th>One</th>\n",
       "      <th>Two</th>\n",
       "      <th>Three</th>\n",
       "      <th>Four</th>\n",
       "      <th>Five</th>\n",
       "      <th>Six</th>\n",
       "    </tr>\n",
       "  </thead>\n",
       "  <tbody>\n",
       "    <tr>\n",
       "      <th>1</th>\n",
       "      <td>0.700341</td>\n",
       "      <td>0.892687</td>\n",
       "      <td>0.057704</td>\n",
       "      <td>0.397769</td>\n",
       "      <td>0.201614</td>\n",
       "      <td>0.839656</td>\n",
       "    </tr>\n",
       "    <tr>\n",
       "      <th>3</th>\n",
       "      <td>0.579410</td>\n",
       "      <td>0.583701</td>\n",
       "      <td>0.060370</td>\n",
       "      <td>0.149119</td>\n",
       "      <td>0.568688</td>\n",
       "      <td>0.716520</td>\n",
       "    </tr>\n",
       "    <tr>\n",
       "      <th>2</th>\n",
       "      <td>0.677322</td>\n",
       "      <td>0.918145</td>\n",
       "      <td>0.404310</td>\n",
       "      <td>0.996944</td>\n",
       "      <td>0.100697</td>\n",
       "      <td>0.169380</td>\n",
       "    </tr>\n",
       "    <tr>\n",
       "      <th>4</th>\n",
       "      <td>0.370790</td>\n",
       "      <td>0.346233</td>\n",
       "      <td>0.588401</td>\n",
       "      <td>0.966859</td>\n",
       "      <td>0.690087</td>\n",
       "      <td>0.982749</td>\n",
       "    </tr>\n",
       "    <tr>\n",
       "      <th>5</th>\n",
       "      <td>0.092610</td>\n",
       "      <td>0.986069</td>\n",
       "      <td>0.635551</td>\n",
       "      <td>0.720254</td>\n",
       "      <td>0.046051</td>\n",
       "      <td>0.500467</td>\n",
       "    </tr>\n",
       "    <tr>\n",
       "      <th>0</th>\n",
       "      <td>0.338683</td>\n",
       "      <td>0.332459</td>\n",
       "      <td>0.720043</td>\n",
       "      <td>0.134523</td>\n",
       "      <td>0.211016</td>\n",
       "      <td>0.913438</td>\n",
       "    </tr>\n",
       "  </tbody>\n",
       "</table>\n",
       "</div>"
      ],
      "text/plain": [
       "        One       Two     Three      Four      Five       Six\n",
       "1  0.700341  0.892687  0.057704  0.397769  0.201614  0.839656\n",
       "3  0.579410  0.583701  0.060370  0.149119  0.568688  0.716520\n",
       "2  0.677322  0.918145  0.404310  0.996944  0.100697  0.169380\n",
       "4  0.370790  0.346233  0.588401  0.966859  0.690087  0.982749\n",
       "5  0.092610  0.986069  0.635551  0.720254  0.046051  0.500467\n",
       "0  0.338683  0.332459  0.720043  0.134523  0.211016  0.913438"
      ]
     },
     "execution_count": 17,
     "metadata": {},
     "output_type": "execute_result"
    }
   ],
   "source": [
    "df.sort_values(by='Three')"
   ]
  },
  {
   "cell_type": "markdown",
   "metadata": {},
   "source": [
    "# Selection of data"
   ]
  },
  {
   "cell_type": "markdown",
   "metadata": {},
   "source": [
    "Select column by label"
   ]
  },
  {
   "cell_type": "code",
   "execution_count": 18,
   "metadata": {},
   "outputs": [
    {
     "data": {
      "text/plain": [
       "0    0.715184\n",
       "1    0.109698\n",
       "2    0.419948\n",
       "3    0.198020\n",
       "4    0.197403\n",
       "5    0.172211\n",
       "Name: Two, dtype: float64"
      ]
     },
     "execution_count": 18,
     "metadata": {},
     "output_type": "execute_result"
    }
   ],
   "source": [
    "df_selection = pd.DataFrame(\n",
    "    np.random.rand(6,6),\n",
    "    columns = ['One', 'Two', 'Three', 'Four', 'Five', 'Six']\n",
    ")\n",
    "\n",
    "df_selection['Two']"
   ]
  },
  {
   "cell_type": "markdown",
   "metadata": {},
   "source": [
    "Select rows by index"
   ]
  },
  {
   "cell_type": "code",
   "execution_count": 19,
   "metadata": {},
   "outputs": [
    {
     "data": {
      "text/html": [
       "<div>\n",
       "<style scoped>\n",
       "    .dataframe tbody tr th:only-of-type {\n",
       "        vertical-align: middle;\n",
       "    }\n",
       "\n",
       "    .dataframe tbody tr th {\n",
       "        vertical-align: top;\n",
       "    }\n",
       "\n",
       "    .dataframe thead th {\n",
       "        text-align: right;\n",
       "    }\n",
       "</style>\n",
       "<table border=\"1\" class=\"dataframe\">\n",
       "  <thead>\n",
       "    <tr style=\"text-align: right;\">\n",
       "      <th></th>\n",
       "      <th>One</th>\n",
       "      <th>Two</th>\n",
       "      <th>Three</th>\n",
       "      <th>Four</th>\n",
       "      <th>Five</th>\n",
       "      <th>Six</th>\n",
       "    </tr>\n",
       "  </thead>\n",
       "  <tbody>\n",
       "    <tr>\n",
       "      <th>0</th>\n",
       "      <td>0.507503</td>\n",
       "      <td>0.715184</td>\n",
       "      <td>0.084703</td>\n",
       "      <td>0.413965</td>\n",
       "      <td>0.616682</td>\n",
       "      <td>0.34745</td>\n",
       "    </tr>\n",
       "  </tbody>\n",
       "</table>\n",
       "</div>"
      ],
      "text/plain": [
       "        One       Two     Three      Four      Five      Six\n",
       "0  0.507503  0.715184  0.084703  0.413965  0.616682  0.34745"
      ]
     },
     "execution_count": 19,
     "metadata": {},
     "output_type": "execute_result"
    }
   ],
   "source": [
    "df_selection[0:1]"
   ]
  },
  {
   "cell_type": "markdown",
   "metadata": {},
   "source": [
    "Selection of rows and columns"
   ]
  },
  {
   "cell_type": "code",
   "execution_count": 20,
   "metadata": {},
   "outputs": [
    {
     "data": {
      "text/html": [
       "<div>\n",
       "<style scoped>\n",
       "    .dataframe tbody tr th:only-of-type {\n",
       "        vertical-align: middle;\n",
       "    }\n",
       "\n",
       "    .dataframe tbody tr th {\n",
       "        vertical-align: top;\n",
       "    }\n",
       "\n",
       "    .dataframe thead th {\n",
       "        text-align: right;\n",
       "    }\n",
       "</style>\n",
       "<table border=\"1\" class=\"dataframe\">\n",
       "  <thead>\n",
       "    <tr style=\"text-align: right;\">\n",
       "      <th></th>\n",
       "      <th>Two</th>\n",
       "    </tr>\n",
       "  </thead>\n",
       "  <tbody>\n",
       "    <tr>\n",
       "      <th>1</th>\n",
       "      <td>0.109698</td>\n",
       "    </tr>\n",
       "    <tr>\n",
       "      <th>2</th>\n",
       "      <td>0.419948</td>\n",
       "    </tr>\n",
       "  </tbody>\n",
       "</table>\n",
       "</div>"
      ],
      "text/plain": [
       "        Two\n",
       "1  0.109698\n",
       "2  0.419948"
      ]
     },
     "execution_count": 20,
     "metadata": {},
     "output_type": "execute_result"
    }
   ],
   "source": [
    "df_selection.loc[1:2,['Two']]"
   ]
  },
  {
   "cell_type": "markdown",
   "metadata": {},
   "source": [
    "Select scalar"
   ]
  },
  {
   "cell_type": "code",
   "execution_count": 21,
   "metadata": {},
   "outputs": [
    {
     "data": {
      "text/html": [
       "<div>\n",
       "<style scoped>\n",
       "    .dataframe tbody tr th:only-of-type {\n",
       "        vertical-align: middle;\n",
       "    }\n",
       "\n",
       "    .dataframe tbody tr th {\n",
       "        vertical-align: top;\n",
       "    }\n",
       "\n",
       "    .dataframe thead th {\n",
       "        text-align: right;\n",
       "    }\n",
       "</style>\n",
       "<table border=\"1\" class=\"dataframe\">\n",
       "  <thead>\n",
       "    <tr style=\"text-align: right;\">\n",
       "      <th></th>\n",
       "      <th>Three</th>\n",
       "    </tr>\n",
       "  </thead>\n",
       "  <tbody>\n",
       "    <tr>\n",
       "      <th>1</th>\n",
       "      <td>0.359872</td>\n",
       "    </tr>\n",
       "  </tbody>\n",
       "</table>\n",
       "</div>"
      ],
      "text/plain": [
       "      Three\n",
       "1  0.359872"
      ]
     },
     "execution_count": 21,
     "metadata": {},
     "output_type": "execute_result"
    }
   ],
   "source": [
    "df_selection.loc[1:1,['Three']]"
   ]
  },
  {
   "cell_type": "markdown",
   "metadata": {},
   "source": [
    "Select row by position"
   ]
  },
  {
   "cell_type": "code",
   "execution_count": 22,
   "metadata": {},
   "outputs": [
    {
     "data": {
      "text/plain": [
       "One      0.113432\n",
       "Two      0.419948\n",
       "Three    0.038198\n",
       "Four     0.782601\n",
       "Five     0.676210\n",
       "Six      0.246625\n",
       "Name: 2, dtype: float64"
      ]
     },
     "execution_count": 22,
     "metadata": {},
     "output_type": "execute_result"
    }
   ],
   "source": [
    "df_selection.iloc[2]"
   ]
  },
  {
   "cell_type": "markdown",
   "metadata": {},
   "source": [
    "Select rows and columns by position"
   ]
  },
  {
   "cell_type": "code",
   "execution_count": 23,
   "metadata": {},
   "outputs": [
    {
     "data": {
      "text/html": [
       "<div>\n",
       "<style scoped>\n",
       "    .dataframe tbody tr th:only-of-type {\n",
       "        vertical-align: middle;\n",
       "    }\n",
       "\n",
       "    .dataframe tbody tr th {\n",
       "        vertical-align: top;\n",
       "    }\n",
       "\n",
       "    .dataframe thead th {\n",
       "        text-align: right;\n",
       "    }\n",
       "</style>\n",
       "<table border=\"1\" class=\"dataframe\">\n",
       "  <thead>\n",
       "    <tr style=\"text-align: right;\">\n",
       "      <th></th>\n",
       "      <th>Three</th>\n",
       "      <th>Four</th>\n",
       "    </tr>\n",
       "  </thead>\n",
       "  <tbody>\n",
       "    <tr>\n",
       "      <th>1</th>\n",
       "      <td>0.359872</td>\n",
       "      <td>0.257905</td>\n",
       "    </tr>\n",
       "    <tr>\n",
       "      <th>2</th>\n",
       "      <td>0.038198</td>\n",
       "      <td>0.782601</td>\n",
       "    </tr>\n",
       "  </tbody>\n",
       "</table>\n",
       "</div>"
      ],
      "text/plain": [
       "      Three      Four\n",
       "1  0.359872  0.257905\n",
       "2  0.038198  0.782601"
      ]
     },
     "execution_count": 23,
     "metadata": {},
     "output_type": "execute_result"
    }
   ],
   "source": [
    "df_selection.iloc[1:3,2:4]"
   ]
  },
  {
   "cell_type": "markdown",
   "metadata": {},
   "source": [
    "Select exact rows and columns"
   ]
  },
  {
   "cell_type": "code",
   "execution_count": 24,
   "metadata": {},
   "outputs": [
    {
     "data": {
      "text/html": [
       "<div>\n",
       "<style scoped>\n",
       "    .dataframe tbody tr th:only-of-type {\n",
       "        vertical-align: middle;\n",
       "    }\n",
       "\n",
       "    .dataframe tbody tr th {\n",
       "        vertical-align: top;\n",
       "    }\n",
       "\n",
       "    .dataframe thead th {\n",
       "        text-align: right;\n",
       "    }\n",
       "</style>\n",
       "<table border=\"1\" class=\"dataframe\">\n",
       "  <thead>\n",
       "    <tr style=\"text-align: right;\">\n",
       "      <th></th>\n",
       "      <th>Three</th>\n",
       "      <th>Five</th>\n",
       "    </tr>\n",
       "  </thead>\n",
       "  <tbody>\n",
       "    <tr>\n",
       "      <th>1</th>\n",
       "      <td>0.359872</td>\n",
       "      <td>0.985548</td>\n",
       "    </tr>\n",
       "    <tr>\n",
       "      <th>2</th>\n",
       "      <td>0.038198</td>\n",
       "      <td>0.676210</td>\n",
       "    </tr>\n",
       "    <tr>\n",
       "      <th>5</th>\n",
       "      <td>0.836077</td>\n",
       "      <td>0.100007</td>\n",
       "    </tr>\n",
       "  </tbody>\n",
       "</table>\n",
       "</div>"
      ],
      "text/plain": [
       "      Three      Five\n",
       "1  0.359872  0.985548\n",
       "2  0.038198  0.676210\n",
       "5  0.836077  0.100007"
      ]
     },
     "execution_count": 24,
     "metadata": {},
     "output_type": "execute_result"
    }
   ],
   "source": [
    "df_selection.iloc[[1,2,5], [2,4]]"
   ]
  },
  {
   "cell_type": "markdown",
   "metadata": {},
   "source": [
    "Getting Scalar by position"
   ]
  },
  {
   "cell_type": "code",
   "execution_count": 25,
   "metadata": {},
   "outputs": [
    {
     "data": {
      "text/plain": [
       "0.35987232335520325"
      ]
     },
     "execution_count": 25,
     "metadata": {},
     "output_type": "execute_result"
    }
   ],
   "source": [
    "df_selection.iloc[1,2]"
   ]
  },
  {
   "cell_type": "code",
   "execution_count": 26,
   "metadata": {},
   "outputs": [
    {
     "data": {
      "text/plain": [
       "0.35987232335520325"
      ]
     },
     "execution_count": 26,
     "metadata": {},
     "output_type": "execute_result"
    }
   ],
   "source": [
    "df_selection.iat[1,2]"
   ]
  },
  {
   "cell_type": "markdown",
   "metadata": {},
   "source": [
    "Select row with predicate"
   ]
  },
  {
   "cell_type": "code",
   "execution_count": 27,
   "metadata": {},
   "outputs": [
    {
     "data": {
      "text/html": [
       "<div>\n",
       "<style scoped>\n",
       "    .dataframe tbody tr th:only-of-type {\n",
       "        vertical-align: middle;\n",
       "    }\n",
       "\n",
       "    .dataframe tbody tr th {\n",
       "        vertical-align: top;\n",
       "    }\n",
       "\n",
       "    .dataframe thead th {\n",
       "        text-align: right;\n",
       "    }\n",
       "</style>\n",
       "<table border=\"1\" class=\"dataframe\">\n",
       "  <thead>\n",
       "    <tr style=\"text-align: right;\">\n",
       "      <th></th>\n",
       "      <th>One</th>\n",
       "      <th>Two</th>\n",
       "      <th>Three</th>\n",
       "      <th>Four</th>\n",
       "      <th>Five</th>\n",
       "      <th>Six</th>\n",
       "    </tr>\n",
       "  </thead>\n",
       "  <tbody>\n",
       "    <tr>\n",
       "      <th>0</th>\n",
       "      <td>0.507503</td>\n",
       "      <td>0.715184</td>\n",
       "      <td>0.084703</td>\n",
       "      <td>0.413965</td>\n",
       "      <td>0.616682</td>\n",
       "      <td>0.347450</td>\n",
       "    </tr>\n",
       "    <tr>\n",
       "      <th>2</th>\n",
       "      <td>0.113432</td>\n",
       "      <td>0.419948</td>\n",
       "      <td>0.038198</td>\n",
       "      <td>0.782601</td>\n",
       "      <td>0.676210</td>\n",
       "      <td>0.246625</td>\n",
       "    </tr>\n",
       "  </tbody>\n",
       "</table>\n",
       "</div>"
      ],
      "text/plain": [
       "        One       Two     Three      Four      Five       Six\n",
       "0  0.507503  0.715184  0.084703  0.413965  0.616682  0.347450\n",
       "2  0.113432  0.419948  0.038198  0.782601  0.676210  0.246625"
      ]
     },
     "execution_count": 27,
     "metadata": {},
     "output_type": "execute_result"
    }
   ],
   "source": [
    "df_selection[df_selection.Two > 0.2]"
   ]
  },
  {
   "cell_type": "markdown",
   "metadata": {},
   "source": [
    "Select values with predicate"
   ]
  },
  {
   "cell_type": "code",
   "execution_count": 28,
   "metadata": {},
   "outputs": [
    {
     "data": {
      "text/html": [
       "<div>\n",
       "<style scoped>\n",
       "    .dataframe tbody tr th:only-of-type {\n",
       "        vertical-align: middle;\n",
       "    }\n",
       "\n",
       "    .dataframe tbody tr th {\n",
       "        vertical-align: top;\n",
       "    }\n",
       "\n",
       "    .dataframe thead th {\n",
       "        text-align: right;\n",
       "    }\n",
       "</style>\n",
       "<table border=\"1\" class=\"dataframe\">\n",
       "  <thead>\n",
       "    <tr style=\"text-align: right;\">\n",
       "      <th></th>\n",
       "      <th>One</th>\n",
       "      <th>Two</th>\n",
       "      <th>Three</th>\n",
       "      <th>Four</th>\n",
       "      <th>Five</th>\n",
       "      <th>Six</th>\n",
       "    </tr>\n",
       "  </thead>\n",
       "  <tbody>\n",
       "    <tr>\n",
       "      <th>0</th>\n",
       "      <td>0.507503</td>\n",
       "      <td>0.715184</td>\n",
       "      <td>NaN</td>\n",
       "      <td>0.413965</td>\n",
       "      <td>0.616682</td>\n",
       "      <td>0.347450</td>\n",
       "    </tr>\n",
       "    <tr>\n",
       "      <th>1</th>\n",
       "      <td>0.717553</td>\n",
       "      <td>NaN</td>\n",
       "      <td>0.359872</td>\n",
       "      <td>0.257905</td>\n",
       "      <td>0.985548</td>\n",
       "      <td>NaN</td>\n",
       "    </tr>\n",
       "    <tr>\n",
       "      <th>2</th>\n",
       "      <td>NaN</td>\n",
       "      <td>0.419948</td>\n",
       "      <td>NaN</td>\n",
       "      <td>0.782601</td>\n",
       "      <td>0.676210</td>\n",
       "      <td>0.246625</td>\n",
       "    </tr>\n",
       "    <tr>\n",
       "      <th>3</th>\n",
       "      <td>0.857086</td>\n",
       "      <td>NaN</td>\n",
       "      <td>0.900981</td>\n",
       "      <td>NaN</td>\n",
       "      <td>0.701910</td>\n",
       "      <td>0.324006</td>\n",
       "    </tr>\n",
       "    <tr>\n",
       "      <th>4</th>\n",
       "      <td>0.600242</td>\n",
       "      <td>NaN</td>\n",
       "      <td>0.670544</td>\n",
       "      <td>0.758892</td>\n",
       "      <td>0.493873</td>\n",
       "      <td>0.840047</td>\n",
       "    </tr>\n",
       "    <tr>\n",
       "      <th>5</th>\n",
       "      <td>0.665168</td>\n",
       "      <td>NaN</td>\n",
       "      <td>0.836077</td>\n",
       "      <td>0.862865</td>\n",
       "      <td>NaN</td>\n",
       "      <td>NaN</td>\n",
       "    </tr>\n",
       "  </tbody>\n",
       "</table>\n",
       "</div>"
      ],
      "text/plain": [
       "        One       Two     Three      Four      Five       Six\n",
       "0  0.507503  0.715184       NaN  0.413965  0.616682  0.347450\n",
       "1  0.717553       NaN  0.359872  0.257905  0.985548       NaN\n",
       "2       NaN  0.419948       NaN  0.782601  0.676210  0.246625\n",
       "3  0.857086       NaN  0.900981       NaN  0.701910  0.324006\n",
       "4  0.600242       NaN  0.670544  0.758892  0.493873  0.840047\n",
       "5  0.665168       NaN  0.836077  0.862865       NaN       NaN"
      ]
     },
     "execution_count": 28,
     "metadata": {},
     "output_type": "execute_result"
    }
   ],
   "source": [
    "df_selection[df_selection > 0.2]"
   ]
  },
  {
   "cell_type": "markdown",
   "metadata": {},
   "source": [
    "## Setting "
   ]
  },
  {
   "cell_type": "code",
   "execution_count": 29,
   "metadata": {},
   "outputs": [],
   "source": [
    "df_setting = pd.DataFrame(\n",
    "    np.random.rand(7,7),\n",
    "    columns = ['One', 'Two', 'Three', 'Four', 'Five', 'Six', 'Seven']\n",
    ")"
   ]
  },
  {
   "cell_type": "markdown",
   "metadata": {},
   "source": [
    "Setting scalar"
   ]
  },
  {
   "cell_type": "code",
   "execution_count": 30,
   "metadata": {},
   "outputs": [
    {
     "data": {
      "text/html": [
       "<div>\n",
       "<style scoped>\n",
       "    .dataframe tbody tr th:only-of-type {\n",
       "        vertical-align: middle;\n",
       "    }\n",
       "\n",
       "    .dataframe tbody tr th {\n",
       "        vertical-align: top;\n",
       "    }\n",
       "\n",
       "    .dataframe thead th {\n",
       "        text-align: right;\n",
       "    }\n",
       "</style>\n",
       "<table border=\"1\" class=\"dataframe\">\n",
       "  <thead>\n",
       "    <tr style=\"text-align: right;\">\n",
       "      <th></th>\n",
       "      <th>One</th>\n",
       "      <th>Two</th>\n",
       "      <th>Three</th>\n",
       "      <th>Four</th>\n",
       "      <th>Five</th>\n",
       "      <th>Six</th>\n",
       "      <th>Seven</th>\n",
       "    </tr>\n",
       "  </thead>\n",
       "  <tbody>\n",
       "    <tr>\n",
       "      <th>0</th>\n",
       "      <td>0.700858</td>\n",
       "      <td>10.000000</td>\n",
       "      <td>0.813527</td>\n",
       "      <td>0.147991</td>\n",
       "      <td>0.726909</td>\n",
       "      <td>0.629051</td>\n",
       "      <td>0.805337</td>\n",
       "    </tr>\n",
       "    <tr>\n",
       "      <th>1</th>\n",
       "      <td>0.029630</td>\n",
       "      <td>0.054248</td>\n",
       "      <td>0.273999</td>\n",
       "      <td>0.292847</td>\n",
       "      <td>0.008307</td>\n",
       "      <td>0.820352</td>\n",
       "      <td>0.896074</td>\n",
       "    </tr>\n",
       "    <tr>\n",
       "      <th>2</th>\n",
       "      <td>0.190251</td>\n",
       "      <td>0.069055</td>\n",
       "      <td>0.940960</td>\n",
       "      <td>0.644428</td>\n",
       "      <td>0.623693</td>\n",
       "      <td>0.240319</td>\n",
       "      <td>0.637038</td>\n",
       "    </tr>\n",
       "    <tr>\n",
       "      <th>3</th>\n",
       "      <td>0.692417</td>\n",
       "      <td>0.208122</td>\n",
       "      <td>0.193951</td>\n",
       "      <td>0.783866</td>\n",
       "      <td>0.390900</td>\n",
       "      <td>0.831976</td>\n",
       "      <td>0.751050</td>\n",
       "    </tr>\n",
       "    <tr>\n",
       "      <th>4</th>\n",
       "      <td>0.679633</td>\n",
       "      <td>0.028296</td>\n",
       "      <td>0.044597</td>\n",
       "      <td>0.931194</td>\n",
       "      <td>0.417099</td>\n",
       "      <td>0.621348</td>\n",
       "      <td>0.229365</td>\n",
       "    </tr>\n",
       "    <tr>\n",
       "      <th>5</th>\n",
       "      <td>0.090996</td>\n",
       "      <td>0.184890</td>\n",
       "      <td>0.618135</td>\n",
       "      <td>0.604474</td>\n",
       "      <td>0.840401</td>\n",
       "      <td>0.696864</td>\n",
       "      <td>0.313122</td>\n",
       "    </tr>\n",
       "    <tr>\n",
       "      <th>6</th>\n",
       "      <td>0.564289</td>\n",
       "      <td>0.756844</td>\n",
       "      <td>0.921145</td>\n",
       "      <td>0.988546</td>\n",
       "      <td>0.364491</td>\n",
       "      <td>0.833597</td>\n",
       "      <td>0.053708</td>\n",
       "    </tr>\n",
       "  </tbody>\n",
       "</table>\n",
       "</div>"
      ],
      "text/plain": [
       "        One        Two     Three      Four      Five       Six     Seven\n",
       "0  0.700858  10.000000  0.813527  0.147991  0.726909  0.629051  0.805337\n",
       "1  0.029630   0.054248  0.273999  0.292847  0.008307  0.820352  0.896074\n",
       "2  0.190251   0.069055  0.940960  0.644428  0.623693  0.240319  0.637038\n",
       "3  0.692417   0.208122  0.193951  0.783866  0.390900  0.831976  0.751050\n",
       "4  0.679633   0.028296  0.044597  0.931194  0.417099  0.621348  0.229365\n",
       "5  0.090996   0.184890  0.618135  0.604474  0.840401  0.696864  0.313122\n",
       "6  0.564289   0.756844  0.921145  0.988546  0.364491  0.833597  0.053708"
      ]
     },
     "execution_count": 30,
     "metadata": {},
     "output_type": "execute_result"
    }
   ],
   "source": [
    "df_setting.iat[0,1]=10\n",
    "df_setting"
   ]
  },
  {
   "cell_type": "markdown",
   "metadata": {},
   "source": [
    "Setting column"
   ]
  },
  {
   "cell_type": "code",
   "execution_count": 31,
   "metadata": {},
   "outputs": [
    {
     "data": {
      "text/html": [
       "<div>\n",
       "<style scoped>\n",
       "    .dataframe tbody tr th:only-of-type {\n",
       "        vertical-align: middle;\n",
       "    }\n",
       "\n",
       "    .dataframe tbody tr th {\n",
       "        vertical-align: top;\n",
       "    }\n",
       "\n",
       "    .dataframe thead th {\n",
       "        text-align: right;\n",
       "    }\n",
       "</style>\n",
       "<table border=\"1\" class=\"dataframe\">\n",
       "  <thead>\n",
       "    <tr style=\"text-align: right;\">\n",
       "      <th></th>\n",
       "      <th>One</th>\n",
       "      <th>Two</th>\n",
       "      <th>Three</th>\n",
       "      <th>Four</th>\n",
       "      <th>Five</th>\n",
       "      <th>Six</th>\n",
       "      <th>Seven</th>\n",
       "    </tr>\n",
       "  </thead>\n",
       "  <tbody>\n",
       "    <tr>\n",
       "      <th>0</th>\n",
       "      <td>0.700858</td>\n",
       "      <td>10.000000</td>\n",
       "      <td>0.813527</td>\n",
       "      <td>17</td>\n",
       "      <td>0.726909</td>\n",
       "      <td>0.629051</td>\n",
       "      <td>0.805337</td>\n",
       "    </tr>\n",
       "    <tr>\n",
       "      <th>1</th>\n",
       "      <td>0.029630</td>\n",
       "      <td>0.054248</td>\n",
       "      <td>0.273999</td>\n",
       "      <td>17</td>\n",
       "      <td>0.008307</td>\n",
       "      <td>0.820352</td>\n",
       "      <td>0.896074</td>\n",
       "    </tr>\n",
       "    <tr>\n",
       "      <th>2</th>\n",
       "      <td>0.190251</td>\n",
       "      <td>0.069055</td>\n",
       "      <td>0.940960</td>\n",
       "      <td>17</td>\n",
       "      <td>0.623693</td>\n",
       "      <td>0.240319</td>\n",
       "      <td>0.637038</td>\n",
       "    </tr>\n",
       "    <tr>\n",
       "      <th>3</th>\n",
       "      <td>0.692417</td>\n",
       "      <td>0.208122</td>\n",
       "      <td>0.193951</td>\n",
       "      <td>17</td>\n",
       "      <td>0.390900</td>\n",
       "      <td>0.831976</td>\n",
       "      <td>0.751050</td>\n",
       "    </tr>\n",
       "    <tr>\n",
       "      <th>4</th>\n",
       "      <td>0.679633</td>\n",
       "      <td>0.028296</td>\n",
       "      <td>0.044597</td>\n",
       "      <td>17</td>\n",
       "      <td>0.417099</td>\n",
       "      <td>0.621348</td>\n",
       "      <td>0.229365</td>\n",
       "    </tr>\n",
       "    <tr>\n",
       "      <th>5</th>\n",
       "      <td>0.090996</td>\n",
       "      <td>0.184890</td>\n",
       "      <td>0.618135</td>\n",
       "      <td>17</td>\n",
       "      <td>0.840401</td>\n",
       "      <td>0.696864</td>\n",
       "      <td>0.313122</td>\n",
       "    </tr>\n",
       "    <tr>\n",
       "      <th>6</th>\n",
       "      <td>0.564289</td>\n",
       "      <td>0.756844</td>\n",
       "      <td>0.921145</td>\n",
       "      <td>17</td>\n",
       "      <td>0.364491</td>\n",
       "      <td>0.833597</td>\n",
       "      <td>0.053708</td>\n",
       "    </tr>\n",
       "  </tbody>\n",
       "</table>\n",
       "</div>"
      ],
      "text/plain": [
       "        One        Two     Three  Four      Five       Six     Seven\n",
       "0  0.700858  10.000000  0.813527    17  0.726909  0.629051  0.805337\n",
       "1  0.029630   0.054248  0.273999    17  0.008307  0.820352  0.896074\n",
       "2  0.190251   0.069055  0.940960    17  0.623693  0.240319  0.637038\n",
       "3  0.692417   0.208122  0.193951    17  0.390900  0.831976  0.751050\n",
       "4  0.679633   0.028296  0.044597    17  0.417099  0.621348  0.229365\n",
       "5  0.090996   0.184890  0.618135    17  0.840401  0.696864  0.313122\n",
       "6  0.564289   0.756844  0.921145    17  0.364491  0.833597  0.053708"
      ]
     },
     "execution_count": 31,
     "metadata": {},
     "output_type": "execute_result"
    }
   ],
   "source": [
    "df_setting.loc[:, 'Four'] = np.array([17] * len(df_setting))\n",
    "df_setting"
   ]
  },
  {
   "cell_type": "markdown",
   "metadata": {},
   "source": [
    "Setting with predicate"
   ]
  },
  {
   "cell_type": "code",
   "execution_count": 32,
   "metadata": {},
   "outputs": [
    {
     "data": {
      "text/html": [
       "<div>\n",
       "<style scoped>\n",
       "    .dataframe tbody tr th:only-of-type {\n",
       "        vertical-align: middle;\n",
       "    }\n",
       "\n",
       "    .dataframe tbody tr th {\n",
       "        vertical-align: top;\n",
       "    }\n",
       "\n",
       "    .dataframe thead th {\n",
       "        text-align: right;\n",
       "    }\n",
       "</style>\n",
       "<table border=\"1\" class=\"dataframe\">\n",
       "  <thead>\n",
       "    <tr style=\"text-align: right;\">\n",
       "      <th></th>\n",
       "      <th>One</th>\n",
       "      <th>Two</th>\n",
       "      <th>Three</th>\n",
       "      <th>Four</th>\n",
       "      <th>Five</th>\n",
       "      <th>Six</th>\n",
       "      <th>Seven</th>\n",
       "    </tr>\n",
       "  </thead>\n",
       "  <tbody>\n",
       "    <tr>\n",
       "      <th>0</th>\n",
       "      <td>-0.700858</td>\n",
       "      <td>-10.000000</td>\n",
       "      <td>-0.813527</td>\n",
       "      <td>-17</td>\n",
       "      <td>-0.726909</td>\n",
       "      <td>-0.629051</td>\n",
       "      <td>-0.805337</td>\n",
       "    </tr>\n",
       "    <tr>\n",
       "      <th>1</th>\n",
       "      <td>0.029630</td>\n",
       "      <td>0.054248</td>\n",
       "      <td>-0.273999</td>\n",
       "      <td>-17</td>\n",
       "      <td>0.008307</td>\n",
       "      <td>-0.820352</td>\n",
       "      <td>-0.896074</td>\n",
       "    </tr>\n",
       "    <tr>\n",
       "      <th>2</th>\n",
       "      <td>0.190251</td>\n",
       "      <td>0.069055</td>\n",
       "      <td>-0.940960</td>\n",
       "      <td>-17</td>\n",
       "      <td>-0.623693</td>\n",
       "      <td>-0.240319</td>\n",
       "      <td>-0.637038</td>\n",
       "    </tr>\n",
       "    <tr>\n",
       "      <th>3</th>\n",
       "      <td>-0.692417</td>\n",
       "      <td>-0.208122</td>\n",
       "      <td>0.193951</td>\n",
       "      <td>-17</td>\n",
       "      <td>-0.390900</td>\n",
       "      <td>-0.831976</td>\n",
       "      <td>-0.751050</td>\n",
       "    </tr>\n",
       "    <tr>\n",
       "      <th>4</th>\n",
       "      <td>-0.679633</td>\n",
       "      <td>0.028296</td>\n",
       "      <td>0.044597</td>\n",
       "      <td>-17</td>\n",
       "      <td>-0.417099</td>\n",
       "      <td>-0.621348</td>\n",
       "      <td>-0.229365</td>\n",
       "    </tr>\n",
       "    <tr>\n",
       "      <th>5</th>\n",
       "      <td>0.090996</td>\n",
       "      <td>0.184890</td>\n",
       "      <td>-0.618135</td>\n",
       "      <td>-17</td>\n",
       "      <td>-0.840401</td>\n",
       "      <td>-0.696864</td>\n",
       "      <td>-0.313122</td>\n",
       "    </tr>\n",
       "    <tr>\n",
       "      <th>6</th>\n",
       "      <td>-0.564289</td>\n",
       "      <td>-0.756844</td>\n",
       "      <td>-0.921145</td>\n",
       "      <td>-17</td>\n",
       "      <td>-0.364491</td>\n",
       "      <td>-0.833597</td>\n",
       "      <td>0.053708</td>\n",
       "    </tr>\n",
       "  </tbody>\n",
       "</table>\n",
       "</div>"
      ],
      "text/plain": [
       "        One        Two     Three  Four      Five       Six     Seven\n",
       "0 -0.700858 -10.000000 -0.813527   -17 -0.726909 -0.629051 -0.805337\n",
       "1  0.029630   0.054248 -0.273999   -17  0.008307 -0.820352 -0.896074\n",
       "2  0.190251   0.069055 -0.940960   -17 -0.623693 -0.240319 -0.637038\n",
       "3 -0.692417  -0.208122  0.193951   -17 -0.390900 -0.831976 -0.751050\n",
       "4 -0.679633   0.028296  0.044597   -17 -0.417099 -0.621348 -0.229365\n",
       "5  0.090996   0.184890 -0.618135   -17 -0.840401 -0.696864 -0.313122\n",
       "6 -0.564289  -0.756844 -0.921145   -17 -0.364491 -0.833597  0.053708"
      ]
     },
     "execution_count": 32,
     "metadata": {},
     "output_type": "execute_result"
    }
   ],
   "source": [
    "df_setting[df_setting > 0.2] = -df_setting\n",
    "df_setting"
   ]
  },
  {
   "cell_type": "code",
   "execution_count": 33,
   "metadata": {},
   "outputs": [
    {
     "data": {
      "text/html": [
       "<div>\n",
       "<style scoped>\n",
       "    .dataframe tbody tr th:only-of-type {\n",
       "        vertical-align: middle;\n",
       "    }\n",
       "\n",
       "    .dataframe tbody tr th {\n",
       "        vertical-align: top;\n",
       "    }\n",
       "\n",
       "    .dataframe thead th {\n",
       "        text-align: right;\n",
       "    }\n",
       "</style>\n",
       "<table border=\"1\" class=\"dataframe\">\n",
       "  <thead>\n",
       "    <tr style=\"text-align: right;\">\n",
       "      <th></th>\n",
       "      <th>One</th>\n",
       "      <th>Two</th>\n",
       "      <th>Three</th>\n",
       "      <th>Four</th>\n",
       "      <th>Five</th>\n",
       "      <th>Six</th>\n",
       "      <th>Eight</th>\n",
       "    </tr>\n",
       "  </thead>\n",
       "  <tbody>\n",
       "    <tr>\n",
       "      <th>0</th>\n",
       "      <td>-0.700858</td>\n",
       "      <td>-10.000000</td>\n",
       "      <td>-0.813527</td>\n",
       "      <td>-17</td>\n",
       "      <td>-0.726909</td>\n",
       "      <td>-0.629051</td>\n",
       "      <td>NaN</td>\n",
       "    </tr>\n",
       "    <tr>\n",
       "      <th>1</th>\n",
       "      <td>0.029630</td>\n",
       "      <td>0.054248</td>\n",
       "      <td>-0.273999</td>\n",
       "      <td>-17</td>\n",
       "      <td>0.008307</td>\n",
       "      <td>-0.820352</td>\n",
       "      <td>NaN</td>\n",
       "    </tr>\n",
       "    <tr>\n",
       "      <th>2</th>\n",
       "      <td>0.190251</td>\n",
       "      <td>0.069055</td>\n",
       "      <td>-0.940960</td>\n",
       "      <td>-17</td>\n",
       "      <td>-0.623693</td>\n",
       "      <td>-0.240319</td>\n",
       "      <td>NaN</td>\n",
       "    </tr>\n",
       "    <tr>\n",
       "      <th>3</th>\n",
       "      <td>-0.692417</td>\n",
       "      <td>-0.208122</td>\n",
       "      <td>0.193951</td>\n",
       "      <td>-17</td>\n",
       "      <td>-0.390900</td>\n",
       "      <td>-0.831976</td>\n",
       "      <td>NaN</td>\n",
       "    </tr>\n",
       "    <tr>\n",
       "      <th>4</th>\n",
       "      <td>-0.679633</td>\n",
       "      <td>0.028296</td>\n",
       "      <td>0.044597</td>\n",
       "      <td>-17</td>\n",
       "      <td>-0.417099</td>\n",
       "      <td>-0.621348</td>\n",
       "      <td>NaN</td>\n",
       "    </tr>\n",
       "    <tr>\n",
       "      <th>5</th>\n",
       "      <td>0.090996</td>\n",
       "      <td>0.184890</td>\n",
       "      <td>-0.618135</td>\n",
       "      <td>-17</td>\n",
       "      <td>-0.840401</td>\n",
       "      <td>-0.696864</td>\n",
       "      <td>NaN</td>\n",
       "    </tr>\n",
       "    <tr>\n",
       "      <th>6</th>\n",
       "      <td>-0.564289</td>\n",
       "      <td>-0.756844</td>\n",
       "      <td>-0.921145</td>\n",
       "      <td>-17</td>\n",
       "      <td>-0.364491</td>\n",
       "      <td>-0.833597</td>\n",
       "      <td>NaN</td>\n",
       "    </tr>\n",
       "  </tbody>\n",
       "</table>\n",
       "</div>"
      ],
      "text/plain": [
       "        One        Two     Three  Four      Five       Six  Eight\n",
       "0 -0.700858 -10.000000 -0.813527   -17 -0.726909 -0.629051    NaN\n",
       "1  0.029630   0.054248 -0.273999   -17  0.008307 -0.820352    NaN\n",
       "2  0.190251   0.069055 -0.940960   -17 -0.623693 -0.240319    NaN\n",
       "3 -0.692417  -0.208122  0.193951   -17 -0.390900 -0.831976    NaN\n",
       "4 -0.679633   0.028296  0.044597   -17 -0.417099 -0.621348    NaN\n",
       "5  0.090996   0.184890 -0.618135   -17 -0.840401 -0.696864    NaN\n",
       "6 -0.564289  -0.756844 -0.921145   -17 -0.364491 -0.833597    NaN"
      ]
     },
     "execution_count": 33,
     "metadata": {},
     "output_type": "execute_result"
    }
   ],
   "source": [
    "df_setting2 = df_setting.reindex(columns=list(df.columns) + ['Eight'])\n",
    "df_setting2"
   ]
  },
  {
   "cell_type": "markdown",
   "metadata": {},
   "source": [
    "Drop all rows with Nan"
   ]
  },
  {
   "cell_type": "code",
   "execution_count": 34,
   "metadata": {},
   "outputs": [
    {
     "data": {
      "text/html": [
       "<div>\n",
       "<style scoped>\n",
       "    .dataframe tbody tr th:only-of-type {\n",
       "        vertical-align: middle;\n",
       "    }\n",
       "\n",
       "    .dataframe tbody tr th {\n",
       "        vertical-align: top;\n",
       "    }\n",
       "\n",
       "    .dataframe thead th {\n",
       "        text-align: right;\n",
       "    }\n",
       "</style>\n",
       "<table border=\"1\" class=\"dataframe\">\n",
       "  <thead>\n",
       "    <tr style=\"text-align: right;\">\n",
       "      <th></th>\n",
       "      <th>One</th>\n",
       "      <th>Two</th>\n",
       "      <th>Three</th>\n",
       "      <th>Four</th>\n",
       "      <th>Five</th>\n",
       "      <th>Six</th>\n",
       "      <th>Eight</th>\n",
       "    </tr>\n",
       "  </thead>\n",
       "  <tbody>\n",
       "  </tbody>\n",
       "</table>\n",
       "</div>"
      ],
      "text/plain": [
       "Empty DataFrame\n",
       "Columns: [One, Two, Three, Four, Five, Six, Eight]\n",
       "Index: []"
      ]
     },
     "execution_count": 34,
     "metadata": {},
     "output_type": "execute_result"
    }
   ],
   "source": [
    "df_setting2.dropna(how='any')"
   ]
  },
  {
   "cell_type": "markdown",
   "metadata": {},
   "source": [
    "Fill nan"
   ]
  },
  {
   "cell_type": "code",
   "execution_count": 35,
   "metadata": {},
   "outputs": [
    {
     "data": {
      "text/html": [
       "<div>\n",
       "<style scoped>\n",
       "    .dataframe tbody tr th:only-of-type {\n",
       "        vertical-align: middle;\n",
       "    }\n",
       "\n",
       "    .dataframe tbody tr th {\n",
       "        vertical-align: top;\n",
       "    }\n",
       "\n",
       "    .dataframe thead th {\n",
       "        text-align: right;\n",
       "    }\n",
       "</style>\n",
       "<table border=\"1\" class=\"dataframe\">\n",
       "  <thead>\n",
       "    <tr style=\"text-align: right;\">\n",
       "      <th></th>\n",
       "      <th>One</th>\n",
       "      <th>Two</th>\n",
       "      <th>Three</th>\n",
       "      <th>Four</th>\n",
       "      <th>Five</th>\n",
       "      <th>Six</th>\n",
       "      <th>Eight</th>\n",
       "    </tr>\n",
       "  </thead>\n",
       "  <tbody>\n",
       "    <tr>\n",
       "      <th>0</th>\n",
       "      <td>-0.700858</td>\n",
       "      <td>-10.000000</td>\n",
       "      <td>-0.813527</td>\n",
       "      <td>-17</td>\n",
       "      <td>-0.726909</td>\n",
       "      <td>-0.629051</td>\n",
       "      <td>5.0</td>\n",
       "    </tr>\n",
       "    <tr>\n",
       "      <th>1</th>\n",
       "      <td>0.029630</td>\n",
       "      <td>0.054248</td>\n",
       "      <td>-0.273999</td>\n",
       "      <td>-17</td>\n",
       "      <td>0.008307</td>\n",
       "      <td>-0.820352</td>\n",
       "      <td>5.0</td>\n",
       "    </tr>\n",
       "    <tr>\n",
       "      <th>2</th>\n",
       "      <td>0.190251</td>\n",
       "      <td>0.069055</td>\n",
       "      <td>-0.940960</td>\n",
       "      <td>-17</td>\n",
       "      <td>-0.623693</td>\n",
       "      <td>-0.240319</td>\n",
       "      <td>5.0</td>\n",
       "    </tr>\n",
       "    <tr>\n",
       "      <th>3</th>\n",
       "      <td>-0.692417</td>\n",
       "      <td>-0.208122</td>\n",
       "      <td>0.193951</td>\n",
       "      <td>-17</td>\n",
       "      <td>-0.390900</td>\n",
       "      <td>-0.831976</td>\n",
       "      <td>5.0</td>\n",
       "    </tr>\n",
       "    <tr>\n",
       "      <th>4</th>\n",
       "      <td>-0.679633</td>\n",
       "      <td>0.028296</td>\n",
       "      <td>0.044597</td>\n",
       "      <td>-17</td>\n",
       "      <td>-0.417099</td>\n",
       "      <td>-0.621348</td>\n",
       "      <td>5.0</td>\n",
       "    </tr>\n",
       "    <tr>\n",
       "      <th>5</th>\n",
       "      <td>0.090996</td>\n",
       "      <td>0.184890</td>\n",
       "      <td>-0.618135</td>\n",
       "      <td>-17</td>\n",
       "      <td>-0.840401</td>\n",
       "      <td>-0.696864</td>\n",
       "      <td>5.0</td>\n",
       "    </tr>\n",
       "    <tr>\n",
       "      <th>6</th>\n",
       "      <td>-0.564289</td>\n",
       "      <td>-0.756844</td>\n",
       "      <td>-0.921145</td>\n",
       "      <td>-17</td>\n",
       "      <td>-0.364491</td>\n",
       "      <td>-0.833597</td>\n",
       "      <td>5.0</td>\n",
       "    </tr>\n",
       "  </tbody>\n",
       "</table>\n",
       "</div>"
      ],
      "text/plain": [
       "        One        Two     Three  Four      Five       Six  Eight\n",
       "0 -0.700858 -10.000000 -0.813527   -17 -0.726909 -0.629051    5.0\n",
       "1  0.029630   0.054248 -0.273999   -17  0.008307 -0.820352    5.0\n",
       "2  0.190251   0.069055 -0.940960   -17 -0.623693 -0.240319    5.0\n",
       "3 -0.692417  -0.208122  0.193951   -17 -0.390900 -0.831976    5.0\n",
       "4 -0.679633   0.028296  0.044597   -17 -0.417099 -0.621348    5.0\n",
       "5  0.090996   0.184890 -0.618135   -17 -0.840401 -0.696864    5.0\n",
       "6 -0.564289  -0.756844 -0.921145   -17 -0.364491 -0.833597    5.0"
      ]
     },
     "execution_count": 35,
     "metadata": {},
     "output_type": "execute_result"
    }
   ],
   "source": [
    "df_setting2.fillna(value=5)"
   ]
  },
  {
   "cell_type": "code",
   "execution_count": 36,
   "metadata": {},
   "outputs": [
    {
     "data": {
      "text/html": [
       "<div>\n",
       "<style scoped>\n",
       "    .dataframe tbody tr th:only-of-type {\n",
       "        vertical-align: middle;\n",
       "    }\n",
       "\n",
       "    .dataframe tbody tr th {\n",
       "        vertical-align: top;\n",
       "    }\n",
       "\n",
       "    .dataframe thead th {\n",
       "        text-align: right;\n",
       "    }\n",
       "</style>\n",
       "<table border=\"1\" class=\"dataframe\">\n",
       "  <thead>\n",
       "    <tr style=\"text-align: right;\">\n",
       "      <th></th>\n",
       "      <th>One</th>\n",
       "      <th>Two</th>\n",
       "      <th>Three</th>\n",
       "      <th>Four</th>\n",
       "      <th>Five</th>\n",
       "      <th>Six</th>\n",
       "      <th>Eight</th>\n",
       "    </tr>\n",
       "  </thead>\n",
       "  <tbody>\n",
       "    <tr>\n",
       "      <th>0</th>\n",
       "      <td>False</td>\n",
       "      <td>False</td>\n",
       "      <td>False</td>\n",
       "      <td>False</td>\n",
       "      <td>False</td>\n",
       "      <td>False</td>\n",
       "      <td>True</td>\n",
       "    </tr>\n",
       "    <tr>\n",
       "      <th>1</th>\n",
       "      <td>False</td>\n",
       "      <td>False</td>\n",
       "      <td>False</td>\n",
       "      <td>False</td>\n",
       "      <td>False</td>\n",
       "      <td>False</td>\n",
       "      <td>True</td>\n",
       "    </tr>\n",
       "    <tr>\n",
       "      <th>2</th>\n",
       "      <td>False</td>\n",
       "      <td>False</td>\n",
       "      <td>False</td>\n",
       "      <td>False</td>\n",
       "      <td>False</td>\n",
       "      <td>False</td>\n",
       "      <td>True</td>\n",
       "    </tr>\n",
       "    <tr>\n",
       "      <th>3</th>\n",
       "      <td>False</td>\n",
       "      <td>False</td>\n",
       "      <td>False</td>\n",
       "      <td>False</td>\n",
       "      <td>False</td>\n",
       "      <td>False</td>\n",
       "      <td>True</td>\n",
       "    </tr>\n",
       "    <tr>\n",
       "      <th>4</th>\n",
       "      <td>False</td>\n",
       "      <td>False</td>\n",
       "      <td>False</td>\n",
       "      <td>False</td>\n",
       "      <td>False</td>\n",
       "      <td>False</td>\n",
       "      <td>True</td>\n",
       "    </tr>\n",
       "    <tr>\n",
       "      <th>5</th>\n",
       "      <td>False</td>\n",
       "      <td>False</td>\n",
       "      <td>False</td>\n",
       "      <td>False</td>\n",
       "      <td>False</td>\n",
       "      <td>False</td>\n",
       "      <td>True</td>\n",
       "    </tr>\n",
       "    <tr>\n",
       "      <th>6</th>\n",
       "      <td>False</td>\n",
       "      <td>False</td>\n",
       "      <td>False</td>\n",
       "      <td>False</td>\n",
       "      <td>False</td>\n",
       "      <td>False</td>\n",
       "      <td>True</td>\n",
       "    </tr>\n",
       "  </tbody>\n",
       "</table>\n",
       "</div>"
      ],
      "text/plain": [
       "     One    Two  Three   Four   Five    Six  Eight\n",
       "0  False  False  False  False  False  False   True\n",
       "1  False  False  False  False  False  False   True\n",
       "2  False  False  False  False  False  False   True\n",
       "3  False  False  False  False  False  False   True\n",
       "4  False  False  False  False  False  False   True\n",
       "5  False  False  False  False  False  False   True\n",
       "6  False  False  False  False  False  False   True"
      ]
     },
     "execution_count": 36,
     "metadata": {},
     "output_type": "execute_result"
    }
   ],
   "source": [
    "pd.isna(df_setting2)"
   ]
  },
  {
   "cell_type": "markdown",
   "metadata": {},
   "source": [
    "## Operations"
   ]
  },
  {
   "cell_type": "code",
   "execution_count": 37,
   "metadata": {},
   "outputs": [],
   "source": [
    "df_operations = pd.DataFrame(\n",
    "    np.random.rand(4,4),\n",
    "    columns = ['One', 'Two', 'Three', 'Four']\n",
    ")\n"
   ]
  },
  {
   "cell_type": "markdown",
   "metadata": {},
   "source": [
    "mean of each column"
   ]
  },
  {
   "cell_type": "code",
   "execution_count": 38,
   "metadata": {},
   "outputs": [
    {
     "data": {
      "text/plain": [
       "One      0.487784\n",
       "Two      0.643590\n",
       "Three    0.566105\n",
       "Four     0.549822\n",
       "dtype: float64"
      ]
     },
     "execution_count": 38,
     "metadata": {},
     "output_type": "execute_result"
    }
   ],
   "source": [
    "df_operations.mean()"
   ]
  },
  {
   "cell_type": "markdown",
   "metadata": {},
   "source": [
    "mean of each row"
   ]
  },
  {
   "cell_type": "code",
   "execution_count": 39,
   "metadata": {},
   "outputs": [
    {
     "data": {
      "text/plain": [
       "0    0.637301\n",
       "1    0.566092\n",
       "2    0.429024\n",
       "3    0.614886\n",
       "dtype: float64"
      ]
     },
     "execution_count": 39,
     "metadata": {},
     "output_type": "execute_result"
    }
   ],
   "source": [
    "df_operations.mean(1)"
   ]
  },
  {
   "cell_type": "markdown",
   "metadata": {},
   "source": [
    "Apply function to the data"
   ]
  },
  {
   "cell_type": "code",
   "execution_count": 40,
   "metadata": {},
   "outputs": [
    {
     "data": {
      "text/html": [
       "<div>\n",
       "<style scoped>\n",
       "    .dataframe tbody tr th:only-of-type {\n",
       "        vertical-align: middle;\n",
       "    }\n",
       "\n",
       "    .dataframe tbody tr th {\n",
       "        vertical-align: top;\n",
       "    }\n",
       "\n",
       "    .dataframe thead th {\n",
       "        text-align: right;\n",
       "    }\n",
       "</style>\n",
       "<table border=\"1\" class=\"dataframe\">\n",
       "  <thead>\n",
       "    <tr style=\"text-align: right;\">\n",
       "      <th></th>\n",
       "      <th>One</th>\n",
       "      <th>Two</th>\n",
       "      <th>Three</th>\n",
       "      <th>Four</th>\n",
       "    </tr>\n",
       "  </thead>\n",
       "  <tbody>\n",
       "    <tr>\n",
       "      <th>0</th>\n",
       "      <td>100.381805</td>\n",
       "      <td>100.853918</td>\n",
       "      <td>100.919835</td>\n",
       "      <td>100.393645</td>\n",
       "    </tr>\n",
       "    <tr>\n",
       "      <th>1</th>\n",
       "      <td>100.237309</td>\n",
       "      <td>100.758748</td>\n",
       "      <td>100.332816</td>\n",
       "      <td>100.935497</td>\n",
       "    </tr>\n",
       "    <tr>\n",
       "      <th>2</th>\n",
       "      <td>100.593469</td>\n",
       "      <td>100.052980</td>\n",
       "      <td>100.508239</td>\n",
       "      <td>100.561407</td>\n",
       "    </tr>\n",
       "    <tr>\n",
       "      <th>3</th>\n",
       "      <td>100.738554</td>\n",
       "      <td>100.908716</td>\n",
       "      <td>100.503532</td>\n",
       "      <td>100.308741</td>\n",
       "    </tr>\n",
       "  </tbody>\n",
       "</table>\n",
       "</div>"
      ],
      "text/plain": [
       "          One         Two       Three        Four\n",
       "0  100.381805  100.853918  100.919835  100.393645\n",
       "1  100.237309  100.758748  100.332816  100.935497\n",
       "2  100.593469  100.052980  100.508239  100.561407\n",
       "3  100.738554  100.908716  100.503532  100.308741"
      ]
     },
     "execution_count": 40,
     "metadata": {},
     "output_type": "execute_result"
    }
   ],
   "source": [
    "df_operations.apply(lambda x: x + 100)"
   ]
  },
  {
   "cell_type": "markdown",
   "metadata": {},
   "source": [
    "Histogram"
   ]
  },
  {
   "cell_type": "code",
   "execution_count": 41,
   "metadata": {},
   "outputs": [
    {
     "data": {
      "text/plain": [
       "0.853918    1\n",
       "0.908716    1\n",
       "0.052980    1\n",
       "0.758748    1\n",
       "Name: Two, dtype: int64"
      ]
     },
     "execution_count": 41,
     "metadata": {},
     "output_type": "execute_result"
    }
   ],
   "source": [
    "df_operations['Two'].value_counts()"
   ]
  },
  {
   "cell_type": "markdown",
   "metadata": {},
   "source": [
    "## Data merge"
   ]
  },
  {
   "cell_type": "markdown",
   "metadata": {},
   "source": [
    "Concatenation of data"
   ]
  },
  {
   "cell_type": "code",
   "execution_count": 44,
   "metadata": {},
   "outputs": [
    {
     "data": {
      "text/html": [
       "<div>\n",
       "<style scoped>\n",
       "    .dataframe tbody tr th:only-of-type {\n",
       "        vertical-align: middle;\n",
       "    }\n",
       "\n",
       "    .dataframe tbody tr th {\n",
       "        vertical-align: top;\n",
       "    }\n",
       "\n",
       "    .dataframe thead th {\n",
       "        text-align: right;\n",
       "    }\n",
       "</style>\n",
       "<table border=\"1\" class=\"dataframe\">\n",
       "  <thead>\n",
       "    <tr style=\"text-align: right;\">\n",
       "      <th></th>\n",
       "      <th>0</th>\n",
       "      <th>1</th>\n",
       "      <th>2</th>\n",
       "      <th>3</th>\n",
       "      <th>4</th>\n",
       "    </tr>\n",
       "  </thead>\n",
       "  <tbody>\n",
       "    <tr>\n",
       "      <th>0</th>\n",
       "      <td>0.722462</td>\n",
       "      <td>1.037063</td>\n",
       "      <td>0.389623</td>\n",
       "      <td>-0.701663</td>\n",
       "      <td>0.351536</td>\n",
       "    </tr>\n",
       "    <tr>\n",
       "      <th>1</th>\n",
       "      <td>0.051041</td>\n",
       "      <td>1.263521</td>\n",
       "      <td>0.268868</td>\n",
       "      <td>1.148054</td>\n",
       "      <td>1.611295</td>\n",
       "    </tr>\n",
       "    <tr>\n",
       "      <th>2</th>\n",
       "      <td>-0.438221</td>\n",
       "      <td>1.444325</td>\n",
       "      <td>0.651020</td>\n",
       "      <td>-0.411676</td>\n",
       "      <td>0.774951</td>\n",
       "    </tr>\n",
       "    <tr>\n",
       "      <th>3</th>\n",
       "      <td>-0.626716</td>\n",
       "      <td>1.046182</td>\n",
       "      <td>0.698395</td>\n",
       "      <td>0.704122</td>\n",
       "      <td>-1.420065</td>\n",
       "    </tr>\n",
       "    <tr>\n",
       "      <th>4</th>\n",
       "      <td>0.601580</td>\n",
       "      <td>-0.286285</td>\n",
       "      <td>-1.196085</td>\n",
       "      <td>0.007939</td>\n",
       "      <td>1.764640</td>\n",
       "    </tr>\n",
       "    <tr>\n",
       "      <th>0</th>\n",
       "      <td>-0.035671</td>\n",
       "      <td>-0.641669</td>\n",
       "      <td>-0.879749</td>\n",
       "      <td>-0.845624</td>\n",
       "      <td>-0.520431</td>\n",
       "    </tr>\n",
       "    <tr>\n",
       "      <th>1</th>\n",
       "      <td>-0.607700</td>\n",
       "      <td>1.232203</td>\n",
       "      <td>-0.742929</td>\n",
       "      <td>-1.291500</td>\n",
       "      <td>0.201834</td>\n",
       "    </tr>\n",
       "    <tr>\n",
       "      <th>2</th>\n",
       "      <td>-1.703643</td>\n",
       "      <td>-0.548787</td>\n",
       "      <td>-0.743655</td>\n",
       "      <td>2.082762</td>\n",
       "      <td>0.649242</td>\n",
       "    </tr>\n",
       "    <tr>\n",
       "      <th>3</th>\n",
       "      <td>0.028776</td>\n",
       "      <td>0.689789</td>\n",
       "      <td>-0.652835</td>\n",
       "      <td>-0.751253</td>\n",
       "      <td>-0.735779</td>\n",
       "    </tr>\n",
       "    <tr>\n",
       "      <th>4</th>\n",
       "      <td>-0.369760</td>\n",
       "      <td>-1.398047</td>\n",
       "      <td>0.642530</td>\n",
       "      <td>0.449042</td>\n",
       "      <td>1.374778</td>\n",
       "    </tr>\n",
       "  </tbody>\n",
       "</table>\n",
       "</div>"
      ],
      "text/plain": [
       "          0         1         2         3         4\n",
       "0  0.722462  1.037063  0.389623 -0.701663  0.351536\n",
       "1  0.051041  1.263521  0.268868  1.148054  1.611295\n",
       "2 -0.438221  1.444325  0.651020 -0.411676  0.774951\n",
       "3 -0.626716  1.046182  0.698395  0.704122 -1.420065\n",
       "4  0.601580 -0.286285 -1.196085  0.007939  1.764640\n",
       "0 -0.035671 -0.641669 -0.879749 -0.845624 -0.520431\n",
       "1 -0.607700  1.232203 -0.742929 -1.291500  0.201834\n",
       "2 -1.703643 -0.548787 -0.743655  2.082762  0.649242\n",
       "3  0.028776  0.689789 -0.652835 -0.751253 -0.735779\n",
       "4 -0.369760 -1.398047  0.642530  0.449042  1.374778"
      ]
     },
     "execution_count": 44,
     "metadata": {},
     "output_type": "execute_result"
    }
   ],
   "source": [
    "df_first = pd.DataFrame(np.random.randn(5, 5))\n",
    "df_second = pd.DataFrame(np.random.randn(5, 5))\n",
    "\n",
    "pd.concat([df_first, df_second])"
   ]
  },
  {
   "cell_type": "markdown",
   "metadata": {},
   "source": [
    "join (merge)"
   ]
  },
  {
   "cell_type": "code",
   "execution_count": 49,
   "metadata": {},
   "outputs": [
    {
     "data": {
      "text/html": [
       "<div>\n",
       "<style scoped>\n",
       "    .dataframe tbody tr th:only-of-type {\n",
       "        vertical-align: middle;\n",
       "    }\n",
       "\n",
       "    .dataframe tbody tr th {\n",
       "        vertical-align: top;\n",
       "    }\n",
       "\n",
       "    .dataframe thead th {\n",
       "        text-align: right;\n",
       "    }\n",
       "</style>\n",
       "<table border=\"1\" class=\"dataframe\">\n",
       "  <thead>\n",
       "    <tr style=\"text-align: right;\">\n",
       "      <th></th>\n",
       "      <th>PERSON_ID</th>\n",
       "      <th>PERSON_NAME</th>\n",
       "      <th>PHONE_ID</th>\n",
       "      <th>PHONE</th>\n",
       "    </tr>\n",
       "  </thead>\n",
       "  <tbody>\n",
       "    <tr>\n",
       "      <th>0</th>\n",
       "      <td>1</td>\n",
       "      <td>Michal</td>\n",
       "      <td>1</td>\n",
       "      <td>11111111</td>\n",
       "    </tr>\n",
       "    <tr>\n",
       "      <th>1</th>\n",
       "      <td>1</td>\n",
       "      <td>Michal</td>\n",
       "      <td>3</td>\n",
       "      <td>33333</td>\n",
       "    </tr>\n",
       "    <tr>\n",
       "      <th>2</th>\n",
       "      <td>2</td>\n",
       "      <td>Kevin</td>\n",
       "      <td>2</td>\n",
       "      <td>22222222</td>\n",
       "    </tr>\n",
       "  </tbody>\n",
       "</table>\n",
       "</div>"
      ],
      "text/plain": [
       "   PERSON_ID PERSON_NAME  PHONE_ID     PHONE\n",
       "0          1      Michal         1  11111111\n",
       "1          1      Michal         3     33333\n",
       "2          2       Kevin         2  22222222"
      ]
     },
     "execution_count": 49,
     "metadata": {},
     "output_type": "execute_result"
    }
   ],
   "source": [
    "df_leftside = pd.DataFrame(\n",
    "    {'PERSON_ID': [1,2], \n",
    "     'PERSON_NAME': ['Michal', 'Kevin']}\n",
    ")\n",
    "\n",
    "df_rightside = pd.DataFrame(\n",
    "    { 'PHONE_ID': [1,2,3], \n",
    "     'PERSON_ID': [1,2,1],\n",
    "    'PHONE': ['11111111', '22222222', '33333']}\n",
    ")\n",
    "\n",
    "pd.merge(df_leftside, df_rightside, on='PERSON_ID')\n"
   ]
  },
  {
   "cell_type": "markdown",
   "metadata": {},
   "source": [
    "append"
   ]
  },
  {
   "cell_type": "code",
   "execution_count": 51,
   "metadata": {},
   "outputs": [
    {
     "data": {
      "text/html": [
       "<div>\n",
       "<style scoped>\n",
       "    .dataframe tbody tr th:only-of-type {\n",
       "        vertical-align: middle;\n",
       "    }\n",
       "\n",
       "    .dataframe tbody tr th {\n",
       "        vertical-align: top;\n",
       "    }\n",
       "\n",
       "    .dataframe thead th {\n",
       "        text-align: right;\n",
       "    }\n",
       "</style>\n",
       "<table border=\"1\" class=\"dataframe\">\n",
       "  <thead>\n",
       "    <tr style=\"text-align: right;\">\n",
       "      <th></th>\n",
       "      <th>0</th>\n",
       "      <th>1</th>\n",
       "      <th>2</th>\n",
       "      <th>3</th>\n",
       "      <th>4</th>\n",
       "    </tr>\n",
       "  </thead>\n",
       "  <tbody>\n",
       "    <tr>\n",
       "      <th>0</th>\n",
       "      <td>-1.024461</td>\n",
       "      <td>0.514402</td>\n",
       "      <td>-1.734252</td>\n",
       "      <td>-0.170163</td>\n",
       "      <td>1.372532</td>\n",
       "    </tr>\n",
       "    <tr>\n",
       "      <th>1</th>\n",
       "      <td>-0.827168</td>\n",
       "      <td>-0.624870</td>\n",
       "      <td>0.779602</td>\n",
       "      <td>-0.976004</td>\n",
       "      <td>-0.333123</td>\n",
       "    </tr>\n",
       "    <tr>\n",
       "      <th>2</th>\n",
       "      <td>0.172425</td>\n",
       "      <td>-1.342826</td>\n",
       "      <td>0.105118</td>\n",
       "      <td>-0.072360</td>\n",
       "      <td>0.269371</td>\n",
       "    </tr>\n",
       "    <tr>\n",
       "      <th>3</th>\n",
       "      <td>-0.913058</td>\n",
       "      <td>-0.235651</td>\n",
       "      <td>-0.757585</td>\n",
       "      <td>-0.634669</td>\n",
       "      <td>0.699576</td>\n",
       "    </tr>\n",
       "    <tr>\n",
       "      <th>4</th>\n",
       "      <td>-0.941533</td>\n",
       "      <td>0.222763</td>\n",
       "      <td>-1.427127</td>\n",
       "      <td>0.394512</td>\n",
       "      <td>-1.345891</td>\n",
       "    </tr>\n",
       "    <tr>\n",
       "      <th>5</th>\n",
       "      <td>-0.274089</td>\n",
       "      <td>0.896941</td>\n",
       "      <td>-0.283430</td>\n",
       "      <td>0.577927</td>\n",
       "      <td>-0.020183</td>\n",
       "    </tr>\n",
       "    <tr>\n",
       "      <th>6</th>\n",
       "      <td>0.400205</td>\n",
       "      <td>-0.358388</td>\n",
       "      <td>0.192660</td>\n",
       "      <td>-0.015592</td>\n",
       "      <td>0.032467</td>\n",
       "    </tr>\n",
       "    <tr>\n",
       "      <th>7</th>\n",
       "      <td>0.214224</td>\n",
       "      <td>0.357329</td>\n",
       "      <td>0.620759</td>\n",
       "      <td>-0.068441</td>\n",
       "      <td>-2.179958</td>\n",
       "    </tr>\n",
       "    <tr>\n",
       "      <th>8</th>\n",
       "      <td>1.616762</td>\n",
       "      <td>-1.247280</td>\n",
       "      <td>0.936337</td>\n",
       "      <td>-1.593502</td>\n",
       "      <td>0.586961</td>\n",
       "    </tr>\n",
       "    <tr>\n",
       "      <th>9</th>\n",
       "      <td>0.229598</td>\n",
       "      <td>1.171234</td>\n",
       "      <td>-1.511513</td>\n",
       "      <td>0.362493</td>\n",
       "      <td>-0.555019</td>\n",
       "    </tr>\n",
       "  </tbody>\n",
       "</table>\n",
       "</div>"
      ],
      "text/plain": [
       "          0         1         2         3         4\n",
       "0 -1.024461  0.514402 -1.734252 -0.170163  1.372532\n",
       "1 -0.827168 -0.624870  0.779602 -0.976004 -0.333123\n",
       "2  0.172425 -1.342826  0.105118 -0.072360  0.269371\n",
       "3 -0.913058 -0.235651 -0.757585 -0.634669  0.699576\n",
       "4 -0.941533  0.222763 -1.427127  0.394512 -1.345891\n",
       "5 -0.274089  0.896941 -0.283430  0.577927 -0.020183\n",
       "6  0.400205 -0.358388  0.192660 -0.015592  0.032467\n",
       "7  0.214224  0.357329  0.620759 -0.068441 -2.179958\n",
       "8  1.616762 -1.247280  0.936337 -1.593502  0.586961\n",
       "9  0.229598  1.171234 -1.511513  0.362493 -0.555019"
      ]
     },
     "execution_count": 51,
     "metadata": {},
     "output_type": "execute_result"
    }
   ],
   "source": [
    "df_first_append = pd.DataFrame(np.random.randn(5, 5))\n",
    "df_second_append = pd.DataFrame(np.random.randn(5, 5))\n",
    "\n",
    "df_first_append.append(df_second_append, ignore_index=True)"
   ]
  },
  {
   "cell_type": "markdown",
   "metadata": {},
   "source": [
    "# Grouping"
   ]
  },
  {
   "cell_type": "code",
   "execution_count": 54,
   "metadata": {},
   "outputs": [
    {
     "data": {
      "text/html": [
       "<div>\n",
       "<style scoped>\n",
       "    .dataframe tbody tr th:only-of-type {\n",
       "        vertical-align: middle;\n",
       "    }\n",
       "\n",
       "    .dataframe tbody tr th {\n",
       "        vertical-align: top;\n",
       "    }\n",
       "\n",
       "    .dataframe thead th {\n",
       "        text-align: right;\n",
       "    }\n",
       "</style>\n",
       "<table border=\"1\" class=\"dataframe\">\n",
       "  <thead>\n",
       "    <tr style=\"text-align: right;\">\n",
       "      <th></th>\n",
       "      <th>value</th>\n",
       "    </tr>\n",
       "    <tr>\n",
       "      <th>type</th>\n",
       "      <th></th>\n",
       "    </tr>\n",
       "  </thead>\n",
       "  <tbody>\n",
       "    <tr>\n",
       "      <th>A</th>\n",
       "      <td>7</td>\n",
       "    </tr>\n",
       "    <tr>\n",
       "      <th>B</th>\n",
       "      <td>8</td>\n",
       "    </tr>\n",
       "  </tbody>\n",
       "</table>\n",
       "</div>"
      ],
      "text/plain": [
       "      value\n",
       "type       \n",
       "A         7\n",
       "B         8"
      ]
     },
     "execution_count": 54,
     "metadata": {},
     "output_type": "execute_result"
    }
   ],
   "source": [
    "df_group = pd.DataFrame(\n",
    "    {'type': ['A', 'A', 'B', 'A', 'B'],\n",
    "    'value': [1,2,3,4,5]}\n",
    ")\n",
    "\n",
    "df_group.groupby('type').sum()"
   ]
  },
  {
   "cell_type": "code",
   "execution_count": 58,
   "metadata": {},
   "outputs": [
    {
     "data": {
      "text/plain": [
       "0  type     A\n",
       "   value    1\n",
       "1  type     A\n",
       "   value    2\n",
       "2  type     B\n",
       "   value    3\n",
       "3  type     A\n",
       "   value    4\n",
       "4  type     B\n",
       "   value    5\n",
       "dtype: object"
      ]
     },
     "execution_count": 58,
     "metadata": {},
     "output_type": "execute_result"
    }
   ],
   "source": [
    "df_group = pd.DataFrame(\n",
    "    {'type': ['A', 'A', 'B', 'A', 'B'],\n",
    "    'value': [1,2,3,4,5]}\n",
    ")\n",
    "df_group.stack()"
   ]
  },
  {
   "cell_type": "markdown",
   "metadata": {},
   "source": [
    "## Timeseries"
   ]
  },
  {
   "cell_type": "code",
   "execution_count": 59,
   "metadata": {},
   "outputs": [],
   "source": [
    "rng = pd.date_range('1/1/2018', periods=120, freq='S')\n",
    "ts = pd.Series(np.random.randint(0, 500, len(rng)), index=rng)"
   ]
  },
  {
   "cell_type": "code",
   "execution_count": 61,
   "metadata": {},
   "outputs": [
    {
     "data": {
      "text/plain": [
       "2018-01-01 00:00:00    13754\n",
       "2018-01-01 00:01:00    14110\n",
       "Freq: T, dtype: int64"
      ]
     },
     "execution_count": 61,
     "metadata": {},
     "output_type": "execute_result"
    }
   ],
   "source": [
    "ts.resample('1Min').sum()"
   ]
  },
  {
   "cell_type": "markdown",
   "metadata": {},
   "source": [
    "## Categorical data"
   ]
  },
  {
   "cell_type": "code",
   "execution_count": 63,
   "metadata": {},
   "outputs": [
    {
     "data": {
      "text/html": [
       "<div>\n",
       "<style scoped>\n",
       "    .dataframe tbody tr th:only-of-type {\n",
       "        vertical-align: middle;\n",
       "    }\n",
       "\n",
       "    .dataframe tbody tr th {\n",
       "        vertical-align: top;\n",
       "    }\n",
       "\n",
       "    .dataframe thead th {\n",
       "        text-align: right;\n",
       "    }\n",
       "</style>\n",
       "<table border=\"1\" class=\"dataframe\">\n",
       "  <thead>\n",
       "    <tr style=\"text-align: right;\">\n",
       "      <th></th>\n",
       "      <th>id</th>\n",
       "      <th>type</th>\n",
       "    </tr>\n",
       "  </thead>\n",
       "  <tbody>\n",
       "    <tr>\n",
       "      <th>0</th>\n",
       "      <td>1</td>\n",
       "      <td>A</td>\n",
       "    </tr>\n",
       "    <tr>\n",
       "      <th>1</th>\n",
       "      <td>2</td>\n",
       "      <td>A</td>\n",
       "    </tr>\n",
       "    <tr>\n",
       "      <th>2</th>\n",
       "      <td>3</td>\n",
       "      <td>B</td>\n",
       "    </tr>\n",
       "    <tr>\n",
       "      <th>3</th>\n",
       "      <td>4</td>\n",
       "      <td>C</td>\n",
       "    </tr>\n",
       "    <tr>\n",
       "      <th>4</th>\n",
       "      <td>5</td>\n",
       "      <td>C</td>\n",
       "    </tr>\n",
       "  </tbody>\n",
       "</table>\n",
       "</div>"
      ],
      "text/plain": [
       "   id type\n",
       "0   1    A\n",
       "1   2    A\n",
       "2   3    B\n",
       "3   4    C\n",
       "4   5    C"
      ]
     },
     "execution_count": 63,
     "metadata": {},
     "output_type": "execute_result"
    }
   ],
   "source": [
    "df_categories = pd.DataFrame(\n",
    "    {'id': [1,2,3,4,5],\n",
    "    'type': ['A', 'A', 'B', 'C', 'C']}\n",
    ")\n",
    "\n",
    "df_categories"
   ]
  },
  {
   "cell_type": "code",
   "execution_count": 72,
   "metadata": {},
   "outputs": [
    {
     "data": {
      "text/html": [
       "<div>\n",
       "<style scoped>\n",
       "    .dataframe tbody tr th:only-of-type {\n",
       "        vertical-align: middle;\n",
       "    }\n",
       "\n",
       "    .dataframe tbody tr th {\n",
       "        vertical-align: top;\n",
       "    }\n",
       "\n",
       "    .dataframe thead th {\n",
       "        text-align: right;\n",
       "    }\n",
       "</style>\n",
       "<table border=\"1\" class=\"dataframe\">\n",
       "  <thead>\n",
       "    <tr style=\"text-align: right;\">\n",
       "      <th></th>\n",
       "      <th>id</th>\n",
       "      <th>type</th>\n",
       "    </tr>\n",
       "  </thead>\n",
       "  <tbody>\n",
       "    <tr>\n",
       "      <th>0</th>\n",
       "      <td>1</td>\n",
       "      <td>TypeA</td>\n",
       "    </tr>\n",
       "    <tr>\n",
       "      <th>1</th>\n",
       "      <td>2</td>\n",
       "      <td>TypeA</td>\n",
       "    </tr>\n",
       "    <tr>\n",
       "      <th>2</th>\n",
       "      <td>3</td>\n",
       "      <td>TypeB</td>\n",
       "    </tr>\n",
       "    <tr>\n",
       "      <th>3</th>\n",
       "      <td>4</td>\n",
       "      <td>TypeC</td>\n",
       "    </tr>\n",
       "    <tr>\n",
       "      <th>4</th>\n",
       "      <td>5</td>\n",
       "      <td>TypeC</td>\n",
       "    </tr>\n",
       "  </tbody>\n",
       "</table>\n",
       "</div>"
      ],
      "text/plain": [
       "   id   type\n",
       "0   1  TypeA\n",
       "1   2  TypeA\n",
       "2   3  TypeB\n",
       "3   4  TypeC\n",
       "4   5  TypeC"
      ]
     },
     "execution_count": 72,
     "metadata": {},
     "output_type": "execute_result"
    }
   ],
   "source": [
    "df_categories['type'] = df_categories['type'].astype('category')\n",
    "df_categories['type'].cat.categories = ['TypeA', 'TypeB', 'TypeC']\n",
    "df_categories"
   ]
  },
  {
   "cell_type": "code",
   "execution_count": 74,
   "metadata": {},
   "outputs": [
    {
     "data": {
      "text/html": [
       "<div>\n",
       "<style scoped>\n",
       "    .dataframe tbody tr th:only-of-type {\n",
       "        vertical-align: middle;\n",
       "    }\n",
       "\n",
       "    .dataframe tbody tr th {\n",
       "        vertical-align: top;\n",
       "    }\n",
       "\n",
       "    .dataframe thead th {\n",
       "        text-align: right;\n",
       "    }\n",
       "</style>\n",
       "<table border=\"1\" class=\"dataframe\">\n",
       "  <thead>\n",
       "    <tr style=\"text-align: right;\">\n",
       "      <th></th>\n",
       "      <th>id</th>\n",
       "      <th>type</th>\n",
       "    </tr>\n",
       "  </thead>\n",
       "  <tbody>\n",
       "    <tr>\n",
       "      <th>0</th>\n",
       "      <td>1</td>\n",
       "      <td>TypeA</td>\n",
       "    </tr>\n",
       "    <tr>\n",
       "      <th>1</th>\n",
       "      <td>2</td>\n",
       "      <td>TypeA</td>\n",
       "    </tr>\n",
       "    <tr>\n",
       "      <th>2</th>\n",
       "      <td>3</td>\n",
       "      <td>TypeB</td>\n",
       "    </tr>\n",
       "    <tr>\n",
       "      <th>3</th>\n",
       "      <td>4</td>\n",
       "      <td>TypeC</td>\n",
       "    </tr>\n",
       "    <tr>\n",
       "      <th>4</th>\n",
       "      <td>5</td>\n",
       "      <td>TypeC</td>\n",
       "    </tr>\n",
       "  </tbody>\n",
       "</table>\n",
       "</div>"
      ],
      "text/plain": [
       "   id   type\n",
       "0   1  TypeA\n",
       "1   2  TypeA\n",
       "2   3  TypeB\n",
       "3   4  TypeC\n",
       "4   5  TypeC"
      ]
     },
     "execution_count": 74,
     "metadata": {},
     "output_type": "execute_result"
    }
   ],
   "source": [
    "df_categories.sort_values(by='type')"
   ]
  },
  {
   "cell_type": "code",
   "execution_count": 75,
   "metadata": {},
   "outputs": [
    {
     "data": {
      "text/plain": [
       "type\n",
       "TypeA    2\n",
       "TypeB    1\n",
       "TypeC    2\n",
       "dtype: int64"
      ]
     },
     "execution_count": 75,
     "metadata": {},
     "output_type": "execute_result"
    }
   ],
   "source": [
    "df_categories.groupby('type').size()"
   ]
  },
  {
   "cell_type": "markdown",
   "metadata": {},
   "source": [
    "## Plots"
   ]
  },
  {
   "cell_type": "code",
   "execution_count": 87,
   "metadata": {},
   "outputs": [
    {
     "data": {
      "text/html": [
       "<div>\n",
       "<style scoped>\n",
       "    .dataframe tbody tr th:only-of-type {\n",
       "        vertical-align: middle;\n",
       "    }\n",
       "\n",
       "    .dataframe tbody tr th {\n",
       "        vertical-align: top;\n",
       "    }\n",
       "\n",
       "    .dataframe thead th {\n",
       "        text-align: right;\n",
       "    }\n",
       "</style>\n",
       "<table border=\"1\" class=\"dataframe\">\n",
       "  <thead>\n",
       "    <tr style=\"text-align: right;\">\n",
       "      <th></th>\n",
       "      <th>First</th>\n",
       "      <th>Second</th>\n",
       "    </tr>\n",
       "  </thead>\n",
       "  <tbody>\n",
       "    <tr>\n",
       "      <th>2018-01-01</th>\n",
       "      <td>0.735610</td>\n",
       "      <td>-0.268857</td>\n",
       "    </tr>\n",
       "    <tr>\n",
       "      <th>2018-01-02</th>\n",
       "      <td>0.731979</td>\n",
       "      <td>-0.339222</td>\n",
       "    </tr>\n",
       "    <tr>\n",
       "      <th>2018-01-03</th>\n",
       "      <td>0.048759</td>\n",
       "      <td>-1.092685</td>\n",
       "    </tr>\n",
       "    <tr>\n",
       "      <th>2018-01-04</th>\n",
       "      <td>0.993862</td>\n",
       "      <td>-0.210658</td>\n",
       "    </tr>\n",
       "    <tr>\n",
       "      <th>2018-01-05</th>\n",
       "      <td>0.481876</td>\n",
       "      <td>0.001697</td>\n",
       "    </tr>\n",
       "    <tr>\n",
       "      <th>2018-01-06</th>\n",
       "      <td>1.163746</td>\n",
       "      <td>-0.987507</td>\n",
       "    </tr>\n",
       "    <tr>\n",
       "      <th>2018-01-07</th>\n",
       "      <td>1.748480</td>\n",
       "      <td>-2.055468</td>\n",
       "    </tr>\n",
       "    <tr>\n",
       "      <th>2018-01-08</th>\n",
       "      <td>2.815835</td>\n",
       "      <td>-1.314307</td>\n",
       "    </tr>\n",
       "    <tr>\n",
       "      <th>2018-01-09</th>\n",
       "      <td>4.041209</td>\n",
       "      <td>-1.731511</td>\n",
       "    </tr>\n",
       "    <tr>\n",
       "      <th>2018-01-10</th>\n",
       "      <td>4.635659</td>\n",
       "      <td>-2.733123</td>\n",
       "    </tr>\n",
       "    <tr>\n",
       "      <th>2018-01-11</th>\n",
       "      <td>3.679678</td>\n",
       "      <td>-1.031348</td>\n",
       "    </tr>\n",
       "    <tr>\n",
       "      <th>2018-01-12</th>\n",
       "      <td>2.676396</td>\n",
       "      <td>-0.958672</td>\n",
       "    </tr>\n",
       "    <tr>\n",
       "      <th>2018-01-13</th>\n",
       "      <td>2.330014</td>\n",
       "      <td>-0.682423</td>\n",
       "    </tr>\n",
       "    <tr>\n",
       "      <th>2018-01-14</th>\n",
       "      <td>3.534092</td>\n",
       "      <td>0.377288</td>\n",
       "    </tr>\n",
       "    <tr>\n",
       "      <th>2018-01-15</th>\n",
       "      <td>4.664094</td>\n",
       "      <td>1.135863</td>\n",
       "    </tr>\n",
       "    <tr>\n",
       "      <th>2018-01-16</th>\n",
       "      <td>5.500610</td>\n",
       "      <td>0.090355</td>\n",
       "    </tr>\n",
       "    <tr>\n",
       "      <th>2018-01-17</th>\n",
       "      <td>5.766147</td>\n",
       "      <td>1.101258</td>\n",
       "    </tr>\n",
       "    <tr>\n",
       "      <th>2018-01-18</th>\n",
       "      <td>7.230572</td>\n",
       "      <td>0.957226</td>\n",
       "    </tr>\n",
       "    <tr>\n",
       "      <th>2018-01-19</th>\n",
       "      <td>6.733544</td>\n",
       "      <td>3.314453</td>\n",
       "    </tr>\n",
       "    <tr>\n",
       "      <th>2018-01-20</th>\n",
       "      <td>6.264531</td>\n",
       "      <td>2.624923</td>\n",
       "    </tr>\n",
       "    <tr>\n",
       "      <th>2018-01-21</th>\n",
       "      <td>6.006129</td>\n",
       "      <td>1.991634</td>\n",
       "    </tr>\n",
       "    <tr>\n",
       "      <th>2018-01-22</th>\n",
       "      <td>4.512195</td>\n",
       "      <td>0.373354</td>\n",
       "    </tr>\n",
       "    <tr>\n",
       "      <th>2018-01-23</th>\n",
       "      <td>4.523032</td>\n",
       "      <td>-0.043949</td>\n",
       "    </tr>\n",
       "    <tr>\n",
       "      <th>2018-01-24</th>\n",
       "      <td>4.640656</td>\n",
       "      <td>0.801109</td>\n",
       "    </tr>\n",
       "    <tr>\n",
       "      <th>2018-01-25</th>\n",
       "      <td>5.379351</td>\n",
       "      <td>-0.118956</td>\n",
       "    </tr>\n",
       "    <tr>\n",
       "      <th>2018-01-26</th>\n",
       "      <td>5.578391</td>\n",
       "      <td>0.163754</td>\n",
       "    </tr>\n",
       "    <tr>\n",
       "      <th>2018-01-27</th>\n",
       "      <td>5.484131</td>\n",
       "      <td>-1.823479</td>\n",
       "    </tr>\n",
       "    <tr>\n",
       "      <th>2018-01-28</th>\n",
       "      <td>3.918030</td>\n",
       "      <td>-3.142397</td>\n",
       "    </tr>\n",
       "    <tr>\n",
       "      <th>2018-01-29</th>\n",
       "      <td>2.609169</td>\n",
       "      <td>-3.898631</td>\n",
       "    </tr>\n",
       "    <tr>\n",
       "      <th>2018-01-30</th>\n",
       "      <td>3.477112</td>\n",
       "      <td>-4.064593</td>\n",
       "    </tr>\n",
       "    <tr>\n",
       "      <th>...</th>\n",
       "      <td>...</td>\n",
       "      <td>...</td>\n",
       "    </tr>\n",
       "    <tr>\n",
       "      <th>2018-03-12</th>\n",
       "      <td>-3.833919</td>\n",
       "      <td>-3.009984</td>\n",
       "    </tr>\n",
       "    <tr>\n",
       "      <th>2018-03-13</th>\n",
       "      <td>-3.963698</td>\n",
       "      <td>-2.373221</td>\n",
       "    </tr>\n",
       "    <tr>\n",
       "      <th>2018-03-14</th>\n",
       "      <td>-3.346236</td>\n",
       "      <td>-3.322259</td>\n",
       "    </tr>\n",
       "    <tr>\n",
       "      <th>2018-03-15</th>\n",
       "      <td>-3.361657</td>\n",
       "      <td>-2.141189</td>\n",
       "    </tr>\n",
       "    <tr>\n",
       "      <th>2018-03-16</th>\n",
       "      <td>-3.621971</td>\n",
       "      <td>-1.136010</td>\n",
       "    </tr>\n",
       "    <tr>\n",
       "      <th>2018-03-17</th>\n",
       "      <td>-2.894756</td>\n",
       "      <td>-1.104972</td>\n",
       "    </tr>\n",
       "    <tr>\n",
       "      <th>2018-03-18</th>\n",
       "      <td>-3.073166</td>\n",
       "      <td>0.653157</td>\n",
       "    </tr>\n",
       "    <tr>\n",
       "      <th>2018-03-19</th>\n",
       "      <td>-1.202905</td>\n",
       "      <td>1.083066</td>\n",
       "    </tr>\n",
       "    <tr>\n",
       "      <th>2018-03-20</th>\n",
       "      <td>-1.775436</td>\n",
       "      <td>0.071750</td>\n",
       "    </tr>\n",
       "    <tr>\n",
       "      <th>2018-03-21</th>\n",
       "      <td>-1.632087</td>\n",
       "      <td>-0.560856</td>\n",
       "    </tr>\n",
       "    <tr>\n",
       "      <th>2018-03-22</th>\n",
       "      <td>-1.746220</td>\n",
       "      <td>0.420100</td>\n",
       "    </tr>\n",
       "    <tr>\n",
       "      <th>2018-03-23</th>\n",
       "      <td>-2.458954</td>\n",
       "      <td>0.409813</td>\n",
       "    </tr>\n",
       "    <tr>\n",
       "      <th>2018-03-24</th>\n",
       "      <td>-3.978737</td>\n",
       "      <td>-1.979268</td>\n",
       "    </tr>\n",
       "    <tr>\n",
       "      <th>2018-03-25</th>\n",
       "      <td>-2.541140</td>\n",
       "      <td>-1.797702</td>\n",
       "    </tr>\n",
       "    <tr>\n",
       "      <th>2018-03-26</th>\n",
       "      <td>-1.315141</td>\n",
       "      <td>-2.439472</td>\n",
       "    </tr>\n",
       "    <tr>\n",
       "      <th>2018-03-27</th>\n",
       "      <td>-0.887501</td>\n",
       "      <td>-3.337941</td>\n",
       "    </tr>\n",
       "    <tr>\n",
       "      <th>2018-03-28</th>\n",
       "      <td>-1.336919</td>\n",
       "      <td>-2.895127</td>\n",
       "    </tr>\n",
       "    <tr>\n",
       "      <th>2018-03-29</th>\n",
       "      <td>-1.564961</td>\n",
       "      <td>-3.287043</td>\n",
       "    </tr>\n",
       "    <tr>\n",
       "      <th>2018-03-30</th>\n",
       "      <td>-1.764975</td>\n",
       "      <td>-4.327179</td>\n",
       "    </tr>\n",
       "    <tr>\n",
       "      <th>2018-03-31</th>\n",
       "      <td>-1.430130</td>\n",
       "      <td>-5.696099</td>\n",
       "    </tr>\n",
       "    <tr>\n",
       "      <th>2018-04-01</th>\n",
       "      <td>-0.817973</td>\n",
       "      <td>-5.309597</td>\n",
       "    </tr>\n",
       "    <tr>\n",
       "      <th>2018-04-02</th>\n",
       "      <td>0.107155</td>\n",
       "      <td>-4.190002</td>\n",
       "    </tr>\n",
       "    <tr>\n",
       "      <th>2018-04-03</th>\n",
       "      <td>0.323057</td>\n",
       "      <td>-3.917174</td>\n",
       "    </tr>\n",
       "    <tr>\n",
       "      <th>2018-04-04</th>\n",
       "      <td>-0.596969</td>\n",
       "      <td>-3.673058</td>\n",
       "    </tr>\n",
       "    <tr>\n",
       "      <th>2018-04-05</th>\n",
       "      <td>-0.546836</td>\n",
       "      <td>-3.803761</td>\n",
       "    </tr>\n",
       "    <tr>\n",
       "      <th>2018-04-06</th>\n",
       "      <td>-1.423135</td>\n",
       "      <td>-4.291422</td>\n",
       "    </tr>\n",
       "    <tr>\n",
       "      <th>2018-04-07</th>\n",
       "      <td>-1.229361</td>\n",
       "      <td>-5.797630</td>\n",
       "    </tr>\n",
       "    <tr>\n",
       "      <th>2018-04-08</th>\n",
       "      <td>-1.163636</td>\n",
       "      <td>-5.023012</td>\n",
       "    </tr>\n",
       "    <tr>\n",
       "      <th>2018-04-09</th>\n",
       "      <td>-0.197600</td>\n",
       "      <td>-5.540391</td>\n",
       "    </tr>\n",
       "    <tr>\n",
       "      <th>2018-04-10</th>\n",
       "      <td>-0.123821</td>\n",
       "      <td>-5.068356</td>\n",
       "    </tr>\n",
       "  </tbody>\n",
       "</table>\n",
       "<p>100 rows × 2 columns</p>\n",
       "</div>"
      ],
      "text/plain": [
       "               First    Second\n",
       "2018-01-01  0.735610 -0.268857\n",
       "2018-01-02  0.731979 -0.339222\n",
       "2018-01-03  0.048759 -1.092685\n",
       "2018-01-04  0.993862 -0.210658\n",
       "2018-01-05  0.481876  0.001697\n",
       "2018-01-06  1.163746 -0.987507\n",
       "2018-01-07  1.748480 -2.055468\n",
       "2018-01-08  2.815835 -1.314307\n",
       "2018-01-09  4.041209 -1.731511\n",
       "2018-01-10  4.635659 -2.733123\n",
       "2018-01-11  3.679678 -1.031348\n",
       "2018-01-12  2.676396 -0.958672\n",
       "2018-01-13  2.330014 -0.682423\n",
       "2018-01-14  3.534092  0.377288\n",
       "2018-01-15  4.664094  1.135863\n",
       "2018-01-16  5.500610  0.090355\n",
       "2018-01-17  5.766147  1.101258\n",
       "2018-01-18  7.230572  0.957226\n",
       "2018-01-19  6.733544  3.314453\n",
       "2018-01-20  6.264531  2.624923\n",
       "2018-01-21  6.006129  1.991634\n",
       "2018-01-22  4.512195  0.373354\n",
       "2018-01-23  4.523032 -0.043949\n",
       "2018-01-24  4.640656  0.801109\n",
       "2018-01-25  5.379351 -0.118956\n",
       "2018-01-26  5.578391  0.163754\n",
       "2018-01-27  5.484131 -1.823479\n",
       "2018-01-28  3.918030 -3.142397\n",
       "2018-01-29  2.609169 -3.898631\n",
       "2018-01-30  3.477112 -4.064593\n",
       "...              ...       ...\n",
       "2018-03-12 -3.833919 -3.009984\n",
       "2018-03-13 -3.963698 -2.373221\n",
       "2018-03-14 -3.346236 -3.322259\n",
       "2018-03-15 -3.361657 -2.141189\n",
       "2018-03-16 -3.621971 -1.136010\n",
       "2018-03-17 -2.894756 -1.104972\n",
       "2018-03-18 -3.073166  0.653157\n",
       "2018-03-19 -1.202905  1.083066\n",
       "2018-03-20 -1.775436  0.071750\n",
       "2018-03-21 -1.632087 -0.560856\n",
       "2018-03-22 -1.746220  0.420100\n",
       "2018-03-23 -2.458954  0.409813\n",
       "2018-03-24 -3.978737 -1.979268\n",
       "2018-03-25 -2.541140 -1.797702\n",
       "2018-03-26 -1.315141 -2.439472\n",
       "2018-03-27 -0.887501 -3.337941\n",
       "2018-03-28 -1.336919 -2.895127\n",
       "2018-03-29 -1.564961 -3.287043\n",
       "2018-03-30 -1.764975 -4.327179\n",
       "2018-03-31 -1.430130 -5.696099\n",
       "2018-04-01 -0.817973 -5.309597\n",
       "2018-04-02  0.107155 -4.190002\n",
       "2018-04-03  0.323057 -3.917174\n",
       "2018-04-04 -0.596969 -3.673058\n",
       "2018-04-05 -0.546836 -3.803761\n",
       "2018-04-06 -1.423135 -4.291422\n",
       "2018-04-07 -1.229361 -5.797630\n",
       "2018-04-08 -1.163636 -5.023012\n",
       "2018-04-09 -0.197600 -5.540391\n",
       "2018-04-10 -0.123821 -5.068356\n",
       "\n",
       "[100 rows x 2 columns]"
      ]
     },
     "execution_count": 87,
     "metadata": {},
     "output_type": "execute_result"
    }
   ],
   "source": [
    "df_plot = pd.DataFrame(\n",
    "    np.random.randn(100, 2), \n",
    "    index = pd.date_range('1/1/2018', periods=100),\n",
    "    columns = ['First', 'Second']\n",
    ")\n",
    "\n",
    "df_plot = df_plot.cumsum()\n",
    "df_plot"
   ]
  },
  {
   "cell_type": "code",
   "execution_count": 88,
   "metadata": {},
   "outputs": [
    {
     "data": {
      "text/plain": [
       "<matplotlib.legend.Legend at 0x7f950e81b978>"
      ]
     },
     "execution_count": 88,
     "metadata": {},
     "output_type": "execute_result"
    },
    {
     "data": {
      "text/plain": [
       "<Figure size 432x288 with 0 Axes>"
      ]
     },
     "metadata": {},
     "output_type": "display_data"
    },
    {
     "data": {
      "image/png": "[encoded data removed]",
      "text/plain": [
       "<Figure size 432x288 with 1 Axes>"
      ]
     },
     "metadata": {
      "needs_background": "light"
     },
     "output_type": "display_data"
    }
   ],
   "source": [
    "plt.figure()\n",
    "df_plot.plot()\n",
    "plt.legend(loc=\"best\")"
   ]
  },
  {
   "cell_type": "code",
   "execution_count": null,
   "metadata": {},
   "outputs": [],
   "source": []
  }
 ],
 "metadata": {
  "kernelspec": {
   "display_name": "Python 3",
   "language": "python",
   "name": "python3"
  },
  "language_info": {
   "codemirror_mode": {
    "name": "ipython",
    "version": 3
   },
   "file_extension": ".py",
   "mimetype": "text/x-python",
   "name": "python",
   "nbconvert_exporter": "python",
   "pygments_lexer": "ipython3",
   "version": "3.7.1"
  }
 },
 "nbformat": 4,
 "nbformat_minor": 2
}
