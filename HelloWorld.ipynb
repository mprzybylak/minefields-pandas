{
 "cells": [
  {
   "cell_type": "markdown",
   "metadata": {},
   "source": [
    "# Hello world\n",
    "\n",
    "Basic pandas hacking based on [10 minutes to pandas](http://pandas.pydata.org/pandas-docs/version/0.24/getting_started/10min.html) docs article"
   ]
  },
  {
   "cell_type": "markdown",
   "metadata": {},
   "source": [
    "## Imports\n",
    "Pandas works on the top of numpy - and can also work with numpy so it is useful to import also numpy"
   ]
  },
  {
   "cell_type": "code",
   "execution_count": 1,
   "metadata": {},
   "outputs": [],
   "source": [
    "import numpy as np\n",
    "import pandas as pd"
   ]
  },
  {
   "cell_type": "markdown",
   "metadata": {},
   "source": [
    "## Data series\n",
    "DataSeries in 1d data structure (list of scalars)"
   ]
  },
  {
   "cell_type": "code",
   "execution_count": 2,
   "metadata": {},
   "outputs": [
    {
     "data": {
      "text/plain": [
       "0    1\n",
       "1    2\n",
       "2    3\n",
       "3    4\n",
       "4    5\n",
       "dtype: int64"
      ]
     },
     "execution_count": 2,
     "metadata": {},
     "output_type": "execute_result"
    }
   ],
   "source": [
    "s = pd.Series([1,2,3,4,5])\n",
    "s"
   ]
  },
  {
   "cell_type": "markdown",
   "metadata": {},
   "source": [
    "Date range (6 days) as a Series"
   ]
  },
  {
   "cell_type": "code",
   "execution_count": 3,
   "metadata": {},
   "outputs": [
    {
     "data": {
      "text/plain": [
       "DatetimeIndex(['2018-03-28', '2018-03-29', '2018-03-30', '2018-03-31',\n",
       "               '2018-04-01', '2018-04-02'],\n",
       "              dtype='datetime64[ns]', freq='D')"
      ]
     },
     "execution_count": 3,
     "metadata": {},
     "output_type": "execute_result"
    }
   ],
   "source": [
    "s_date_range = pd.date_range('20180328', periods=6)\n",
    "s_date_range"
   ]
  },
  {
   "cell_type": "markdown",
   "metadata": {},
   "source": [
    "## Data Frame\n",
    "DataFrame is 2d data structure (list of data series)"
   ]
  },
  {
   "cell_type": "code",
   "execution_count": 4,
   "metadata": {},
   "outputs": [
    {
     "data": {
      "text/html": [
       "<div>\n",
       "<style scoped>\n",
       "    .dataframe tbody tr th:only-of-type {\n",
       "        vertical-align: middle;\n",
       "    }\n",
       "\n",
       "    .dataframe tbody tr th {\n",
       "        vertical-align: top;\n",
       "    }\n",
       "\n",
       "    .dataframe thead th {\n",
       "        text-align: right;\n",
       "    }\n",
       "</style>\n",
       "<table border=\"1\" class=\"dataframe\">\n",
       "  <thead>\n",
       "    <tr style=\"text-align: right;\">\n",
       "      <th></th>\n",
       "      <th>0</th>\n",
       "      <th>1</th>\n",
       "      <th>2</th>\n",
       "      <th>3</th>\n",
       "      <th>4</th>\n",
       "    </tr>\n",
       "  </thead>\n",
       "  <tbody>\n",
       "    <tr>\n",
       "      <th>0</th>\n",
       "      <td>0.668371</td>\n",
       "      <td>0.248403</td>\n",
       "      <td>0.503253</td>\n",
       "      <td>0.875036</td>\n",
       "      <td>0.213453</td>\n",
       "    </tr>\n",
       "    <tr>\n",
       "      <th>1</th>\n",
       "      <td>0.587960</td>\n",
       "      <td>0.725513</td>\n",
       "      <td>0.358628</td>\n",
       "      <td>0.278155</td>\n",
       "      <td>0.492740</td>\n",
       "    </tr>\n",
       "    <tr>\n",
       "      <th>2</th>\n",
       "      <td>0.589898</td>\n",
       "      <td>0.530116</td>\n",
       "      <td>0.086756</td>\n",
       "      <td>0.146980</td>\n",
       "      <td>0.776433</td>\n",
       "    </tr>\n",
       "    <tr>\n",
       "      <th>3</th>\n",
       "      <td>0.872986</td>\n",
       "      <td>0.253404</td>\n",
       "      <td>0.912884</td>\n",
       "      <td>0.615280</td>\n",
       "      <td>0.509719</td>\n",
       "    </tr>\n",
       "    <tr>\n",
       "      <th>4</th>\n",
       "      <td>0.221691</td>\n",
       "      <td>0.952627</td>\n",
       "      <td>0.633094</td>\n",
       "      <td>0.006103</td>\n",
       "      <td>0.057016</td>\n",
       "    </tr>\n",
       "  </tbody>\n",
       "</table>\n",
       "</div>"
      ],
      "text/plain": [
       "          0         1         2         3         4\n",
       "0  0.668371  0.248403  0.503253  0.875036  0.213453\n",
       "1  0.587960  0.725513  0.358628  0.278155  0.492740\n",
       "2  0.589898  0.530116  0.086756  0.146980  0.776433\n",
       "3  0.872986  0.253404  0.912884  0.615280  0.509719\n",
       "4  0.221691  0.952627  0.633094  0.006103  0.057016"
      ]
     },
     "execution_count": 4,
     "metadata": {},
     "output_type": "execute_result"
    }
   ],
   "source": [
    "df = pd.DataFrame(np.random.rand(5,5))\n",
    "df"
   ]
  },
  {
   "cell_type": "markdown",
   "metadata": {},
   "source": [
    "## Column headers\n",
    "Headers can be added to DataFrame by using `columns` parameter or by passing a map instead of list during creation of DataFrame"
   ]
  },
  {
   "cell_type": "markdown",
   "metadata": {},
   "source": [
    "using `coulumns` parameter"
   ]
  },
  {
   "cell_type": "code",
   "execution_count": 5,
   "metadata": {},
   "outputs": [
    {
     "data": {
      "text/html": [
       "<div>\n",
       "<style scoped>\n",
       "    .dataframe tbody tr th:only-of-type {\n",
       "        vertical-align: middle;\n",
       "    }\n",
       "\n",
       "    .dataframe tbody tr th {\n",
       "        vertical-align: top;\n",
       "    }\n",
       "\n",
       "    .dataframe thead th {\n",
       "        text-align: right;\n",
       "    }\n",
       "</style>\n",
       "<table border=\"1\" class=\"dataframe\">\n",
       "  <thead>\n",
       "    <tr style=\"text-align: right;\">\n",
       "      <th></th>\n",
       "      <th>First</th>\n",
       "      <th>Second</th>\n",
       "      <th>Third</th>\n",
       "      <th>Fourth</th>\n",
       "      <th>Fifth</th>\n",
       "    </tr>\n",
       "  </thead>\n",
       "  <tbody>\n",
       "    <tr>\n",
       "      <th>0</th>\n",
       "      <td>0.154815</td>\n",
       "      <td>0.076610</td>\n",
       "      <td>0.364789</td>\n",
       "      <td>0.686079</td>\n",
       "      <td>0.411141</td>\n",
       "    </tr>\n",
       "    <tr>\n",
       "      <th>1</th>\n",
       "      <td>0.462158</td>\n",
       "      <td>0.106688</td>\n",
       "      <td>0.171936</td>\n",
       "      <td>0.394472</td>\n",
       "      <td>0.268592</td>\n",
       "    </tr>\n",
       "    <tr>\n",
       "      <th>2</th>\n",
       "      <td>0.183771</td>\n",
       "      <td>0.026125</td>\n",
       "      <td>0.137451</td>\n",
       "      <td>0.900385</td>\n",
       "      <td>0.819643</td>\n",
       "    </tr>\n",
       "    <tr>\n",
       "      <th>3</th>\n",
       "      <td>0.301644</td>\n",
       "      <td>0.977870</td>\n",
       "      <td>0.048293</td>\n",
       "      <td>0.442445</td>\n",
       "      <td>0.024020</td>\n",
       "    </tr>\n",
       "    <tr>\n",
       "      <th>4</th>\n",
       "      <td>0.672373</td>\n",
       "      <td>0.657830</td>\n",
       "      <td>0.641988</td>\n",
       "      <td>0.492114</td>\n",
       "      <td>0.645047</td>\n",
       "    </tr>\n",
       "  </tbody>\n",
       "</table>\n",
       "</div>"
      ],
      "text/plain": [
       "      First    Second     Third    Fourth     Fifth\n",
       "0  0.154815  0.076610  0.364789  0.686079  0.411141\n",
       "1  0.462158  0.106688  0.171936  0.394472  0.268592\n",
       "2  0.183771  0.026125  0.137451  0.900385  0.819643\n",
       "3  0.301644  0.977870  0.048293  0.442445  0.024020\n",
       "4  0.672373  0.657830  0.641988  0.492114  0.645047"
      ]
     },
     "execution_count": 5,
     "metadata": {},
     "output_type": "execute_result"
    }
   ],
   "source": [
    "df_with_headers = pd.DataFrame(\n",
    "    np.random.rand(5,5), \n",
    "    columns = ['First', 'Second', 'Third', 'Fourth', 'Fifth']\n",
    ")\n",
    "\n",
    "df_with_headers"
   ]
  },
  {
   "cell_type": "markdown",
   "metadata": {},
   "source": [
    "Passing map:"
   ]
  },
  {
   "cell_type": "code",
   "execution_count": 6,
   "metadata": {},
   "outputs": [
    {
     "data": {
      "text/html": [
       "<div>\n",
       "<style scoped>\n",
       "    .dataframe tbody tr th:only-of-type {\n",
       "        vertical-align: middle;\n",
       "    }\n",
       "\n",
       "    .dataframe tbody tr th {\n",
       "        vertical-align: top;\n",
       "    }\n",
       "\n",
       "    .dataframe thead th {\n",
       "        text-align: right;\n",
       "    }\n",
       "</style>\n",
       "<table border=\"1\" class=\"dataframe\">\n",
       "  <thead>\n",
       "    <tr style=\"text-align: right;\">\n",
       "      <th></th>\n",
       "      <th>First Column</th>\n",
       "      <th>Second Column</th>\n",
       "    </tr>\n",
       "  </thead>\n",
       "  <tbody>\n",
       "    <tr>\n",
       "      <th>0</th>\n",
       "      <td>0.541571</td>\n",
       "      <td>0.181773</td>\n",
       "    </tr>\n",
       "    <tr>\n",
       "      <th>1</th>\n",
       "      <td>0.484726</td>\n",
       "      <td>0.949622</td>\n",
       "    </tr>\n",
       "    <tr>\n",
       "      <th>2</th>\n",
       "      <td>0.123725</td>\n",
       "      <td>0.500863</td>\n",
       "    </tr>\n",
       "    <tr>\n",
       "      <th>3</th>\n",
       "      <td>0.721082</td>\n",
       "      <td>0.312581</td>\n",
       "    </tr>\n",
       "    <tr>\n",
       "      <th>4</th>\n",
       "      <td>0.199944</td>\n",
       "      <td>0.766961</td>\n",
       "    </tr>\n",
       "  </tbody>\n",
       "</table>\n",
       "</div>"
      ],
      "text/plain": [
       "   First Column  Second Column\n",
       "0      0.541571       0.181773\n",
       "1      0.484726       0.949622\n",
       "2      0.123725       0.500863\n",
       "3      0.721082       0.312581\n",
       "4      0.199944       0.766961"
      ]
     },
     "execution_count": 6,
     "metadata": {},
     "output_type": "execute_result"
    }
   ],
   "source": [
    "df_with_headers_2 = pd.DataFrame({\n",
    "    'First Column': np.random.rand(5),\n",
    "    'Second Column': np.random.rand(5)\n",
    "})\n",
    "\n",
    "df_with_headers_2"
   ]
  },
  {
   "cell_type": "markdown",
   "metadata": {},
   "source": [
    "## Index"
   ]
  },
  {
   "cell_type": "markdown",
   "metadata": {},
   "source": [
    "Data Frame with custom index (rows \"header\")"
   ]
  },
  {
   "cell_type": "code",
   "execution_count": 7,
   "metadata": {},
   "outputs": [
    {
     "data": {
      "text/html": [
       "<div>\n",
       "<style scoped>\n",
       "    .dataframe tbody tr th:only-of-type {\n",
       "        vertical-align: middle;\n",
       "    }\n",
       "\n",
       "    .dataframe tbody tr th {\n",
       "        vertical-align: top;\n",
       "    }\n",
       "\n",
       "    .dataframe thead th {\n",
       "        text-align: right;\n",
       "    }\n",
       "</style>\n",
       "<table border=\"1\" class=\"dataframe\">\n",
       "  <thead>\n",
       "    <tr style=\"text-align: right;\">\n",
       "      <th></th>\n",
       "      <th>0</th>\n",
       "      <th>1</th>\n",
       "      <th>2</th>\n",
       "      <th>3</th>\n",
       "      <th>4</th>\n",
       "    </tr>\n",
       "  </thead>\n",
       "  <tbody>\n",
       "    <tr>\n",
       "      <th>row1</th>\n",
       "      <td>0.463487</td>\n",
       "      <td>0.724165</td>\n",
       "      <td>0.046970</td>\n",
       "      <td>0.878166</td>\n",
       "      <td>0.820297</td>\n",
       "    </tr>\n",
       "    <tr>\n",
       "      <th>row2</th>\n",
       "      <td>0.503985</td>\n",
       "      <td>0.964979</td>\n",
       "      <td>0.382406</td>\n",
       "      <td>0.773209</td>\n",
       "      <td>0.707379</td>\n",
       "    </tr>\n",
       "    <tr>\n",
       "      <th>row3</th>\n",
       "      <td>0.054187</td>\n",
       "      <td>0.897049</td>\n",
       "      <td>0.436809</td>\n",
       "      <td>0.476644</td>\n",
       "      <td>0.200952</td>\n",
       "    </tr>\n",
       "    <tr>\n",
       "      <th>row4</th>\n",
       "      <td>0.458565</td>\n",
       "      <td>0.875422</td>\n",
       "      <td>0.539911</td>\n",
       "      <td>0.933128</td>\n",
       "      <td>0.198732</td>\n",
       "    </tr>\n",
       "    <tr>\n",
       "      <th>row5</th>\n",
       "      <td>0.613363</td>\n",
       "      <td>0.516657</td>\n",
       "      <td>0.788885</td>\n",
       "      <td>0.642383</td>\n",
       "      <td>0.618820</td>\n",
       "    </tr>\n",
       "  </tbody>\n",
       "</table>\n",
       "</div>"
      ],
      "text/plain": [
       "             0         1         2         3         4\n",
       "row1  0.463487  0.724165  0.046970  0.878166  0.820297\n",
       "row2  0.503985  0.964979  0.382406  0.773209  0.707379\n",
       "row3  0.054187  0.897049  0.436809  0.476644  0.200952\n",
       "row4  0.458565  0.875422  0.539911  0.933128  0.198732\n",
       "row5  0.613363  0.516657  0.788885  0.642383  0.618820"
      ]
     },
     "execution_count": 7,
     "metadata": {},
     "output_type": "execute_result"
    }
   ],
   "source": [
    "df_with_renamed_index = pd.DataFrame(\n",
    "    np.random.rand(5,5),\n",
    "    index = ['row1', 'row2', 'row3', 'row4', 'row5']\n",
    ")\n",
    "df_with_renamed_index"
   ]
  },
  {
   "cell_type": "markdown",
   "metadata": {},
   "source": [
    "## Inspecting data frames"
   ]
  },
  {
   "cell_type": "markdown",
   "metadata": {},
   "source": [
    "Checking `dtype` of columns (`dtype` is numpy class containing information about type of data)"
   ]
  },
  {
   "cell_type": "code",
   "execution_count": 8,
   "metadata": {},
   "outputs": [
    {
     "data": {
      "text/plain": [
       "1st    float64\n",
       "2nd    float64\n",
       "3rd    float64\n",
       "4th    float64\n",
       "dtype: object"
      ]
     },
     "execution_count": 8,
     "metadata": {},
     "output_type": "execute_result"
    }
   ],
   "source": [
    "df_to_inspect = pd.DataFrame(\n",
    "    np.random.rand(4,4),\n",
    "    columns = ['1st', '2nd', '3rd', '4th']\n",
    ")\n",
    "df_to_inspect\n",
    "df_to_inspect.dtypes"
   ]
  },
  {
   "cell_type": "markdown",
   "metadata": {},
   "source": [
    "Seeing information about index"
   ]
  },
  {
   "cell_type": "code",
   "execution_count": 9,
   "metadata": {},
   "outputs": [
    {
     "data": {
      "text/plain": [
       "RangeIndex(start=0, stop=4, step=1)"
      ]
     },
     "execution_count": 9,
     "metadata": {},
     "output_type": "execute_result"
    }
   ],
   "source": [
    "df_to_inspect.index"
   ]
  },
  {
   "cell_type": "markdown",
   "metadata": {},
   "source": [
    "Seeing first n results"
   ]
  },
  {
   "cell_type": "code",
   "execution_count": 10,
   "metadata": {},
   "outputs": [
    {
     "data": {
      "text/html": [
       "<div>\n",
       "<style scoped>\n",
       "    .dataframe tbody tr th:only-of-type {\n",
       "        vertical-align: middle;\n",
       "    }\n",
       "\n",
       "    .dataframe tbody tr th {\n",
       "        vertical-align: top;\n",
       "    }\n",
       "\n",
       "    .dataframe thead th {\n",
       "        text-align: right;\n",
       "    }\n",
       "</style>\n",
       "<table border=\"1\" class=\"dataframe\">\n",
       "  <thead>\n",
       "    <tr style=\"text-align: right;\">\n",
       "      <th></th>\n",
       "      <th>1st</th>\n",
       "      <th>2nd</th>\n",
       "      <th>3rd</th>\n",
       "      <th>4th</th>\n",
       "    </tr>\n",
       "  </thead>\n",
       "  <tbody>\n",
       "    <tr>\n",
       "      <th>0</th>\n",
       "      <td>0.779089</td>\n",
       "      <td>0.780658</td>\n",
       "      <td>0.499278</td>\n",
       "      <td>0.618082</td>\n",
       "    </tr>\n",
       "    <tr>\n",
       "      <th>1</th>\n",
       "      <td>0.959674</td>\n",
       "      <td>0.880371</td>\n",
       "      <td>0.785544</td>\n",
       "      <td>0.377375</td>\n",
       "    </tr>\n",
       "    <tr>\n",
       "      <th>2</th>\n",
       "      <td>0.785410</td>\n",
       "      <td>0.437380</td>\n",
       "      <td>0.937946</td>\n",
       "      <td>0.781183</td>\n",
       "    </tr>\n",
       "  </tbody>\n",
       "</table>\n",
       "</div>"
      ],
      "text/plain": [
       "        1st       2nd       3rd       4th\n",
       "0  0.779089  0.780658  0.499278  0.618082\n",
       "1  0.959674  0.880371  0.785544  0.377375\n",
       "2  0.785410  0.437380  0.937946  0.781183"
      ]
     },
     "execution_count": 10,
     "metadata": {},
     "output_type": "execute_result"
    }
   ],
   "source": [
    "df_to_inspect.head(3)"
   ]
  },
  {
   "cell_type": "markdown",
   "metadata": {},
   "source": [
    "Seeing last n results"
   ]
  },
  {
   "cell_type": "code",
   "execution_count": 11,
   "metadata": {},
   "outputs": [
    {
     "data": {
      "text/html": [
       "<div>\n",
       "<style scoped>\n",
       "    .dataframe tbody tr th:only-of-type {\n",
       "        vertical-align: middle;\n",
       "    }\n",
       "\n",
       "    .dataframe tbody tr th {\n",
       "        vertical-align: top;\n",
       "    }\n",
       "\n",
       "    .dataframe thead th {\n",
       "        text-align: right;\n",
       "    }\n",
       "</style>\n",
       "<table border=\"1\" class=\"dataframe\">\n",
       "  <thead>\n",
       "    <tr style=\"text-align: right;\">\n",
       "      <th></th>\n",
       "      <th>1st</th>\n",
       "      <th>2nd</th>\n",
       "      <th>3rd</th>\n",
       "      <th>4th</th>\n",
       "    </tr>\n",
       "  </thead>\n",
       "  <tbody>\n",
       "    <tr>\n",
       "      <th>1</th>\n",
       "      <td>0.959674</td>\n",
       "      <td>0.880371</td>\n",
       "      <td>0.785544</td>\n",
       "      <td>0.377375</td>\n",
       "    </tr>\n",
       "    <tr>\n",
       "      <th>2</th>\n",
       "      <td>0.785410</td>\n",
       "      <td>0.437380</td>\n",
       "      <td>0.937946</td>\n",
       "      <td>0.781183</td>\n",
       "    </tr>\n",
       "    <tr>\n",
       "      <th>3</th>\n",
       "      <td>0.270899</td>\n",
       "      <td>0.506259</td>\n",
       "      <td>0.089719</td>\n",
       "      <td>0.541995</td>\n",
       "    </tr>\n",
       "  </tbody>\n",
       "</table>\n",
       "</div>"
      ],
      "text/plain": [
       "        1st       2nd       3rd       4th\n",
       "1  0.959674  0.880371  0.785544  0.377375\n",
       "2  0.785410  0.437380  0.937946  0.781183\n",
       "3  0.270899  0.506259  0.089719  0.541995"
      ]
     },
     "execution_count": 11,
     "metadata": {},
     "output_type": "execute_result"
    }
   ],
   "source": [
    "df_to_inspect.tail(3)"
   ]
  },
  {
   "cell_type": "markdown",
   "metadata": {},
   "source": [
    "Convert data to numpy array"
   ]
  },
  {
   "cell_type": "code",
   "execution_count": 12,
   "metadata": {},
   "outputs": [
    {
     "data": {
      "text/plain": [
       "array([[0.77908867, 0.7806582 , 0.49927782, 0.61808229],\n",
       "       [0.95967358, 0.88037148, 0.78554449, 0.3773749 ],\n",
       "       [0.78540976, 0.43738037, 0.9379461 , 0.78118288],\n",
       "       [0.27089885, 0.50625919, 0.08971919, 0.5419951 ]])"
      ]
     },
     "execution_count": 12,
     "metadata": {},
     "output_type": "execute_result"
    }
   ],
   "source": [
    "df_to_inspect.to_numpy()"
   ]
  },
  {
   "cell_type": "markdown",
   "metadata": {},
   "source": [
    "Quick, basic statistic analysis of columns"
   ]
  },
  {
   "cell_type": "code",
   "execution_count": 13,
   "metadata": {},
   "outputs": [
    {
     "data": {
      "text/html": [
       "<div>\n",
       "<style scoped>\n",
       "    .dataframe tbody tr th:only-of-type {\n",
       "        vertical-align: middle;\n",
       "    }\n",
       "\n",
       "    .dataframe tbody tr th {\n",
       "        vertical-align: top;\n",
       "    }\n",
       "\n",
       "    .dataframe thead th {\n",
       "        text-align: right;\n",
       "    }\n",
       "</style>\n",
       "<table border=\"1\" class=\"dataframe\">\n",
       "  <thead>\n",
       "    <tr style=\"text-align: right;\">\n",
       "      <th></th>\n",
       "      <th>1st</th>\n",
       "      <th>2nd</th>\n",
       "      <th>3rd</th>\n",
       "      <th>4th</th>\n",
       "    </tr>\n",
       "  </thead>\n",
       "  <tbody>\n",
       "    <tr>\n",
       "      <th>count</th>\n",
       "      <td>4.000000</td>\n",
       "      <td>4.000000</td>\n",
       "      <td>4.000000</td>\n",
       "      <td>4.000000</td>\n",
       "    </tr>\n",
       "    <tr>\n",
       "      <th>mean</th>\n",
       "      <td>0.698768</td>\n",
       "      <td>0.651167</td>\n",
       "      <td>0.578122</td>\n",
       "      <td>0.579659</td>\n",
       "    </tr>\n",
       "    <tr>\n",
       "      <th>std</th>\n",
       "      <td>0.297266</td>\n",
       "      <td>0.212921</td>\n",
       "      <td>0.372939</td>\n",
       "      <td>0.167755</td>\n",
       "    </tr>\n",
       "    <tr>\n",
       "      <th>min</th>\n",
       "      <td>0.270899</td>\n",
       "      <td>0.437380</td>\n",
       "      <td>0.089719</td>\n",
       "      <td>0.377375</td>\n",
       "    </tr>\n",
       "    <tr>\n",
       "      <th>25%</th>\n",
       "      <td>0.652041</td>\n",
       "      <td>0.489039</td>\n",
       "      <td>0.396888</td>\n",
       "      <td>0.500840</td>\n",
       "    </tr>\n",
       "    <tr>\n",
       "      <th>50%</th>\n",
       "      <td>0.782249</td>\n",
       "      <td>0.643459</td>\n",
       "      <td>0.642411</td>\n",
       "      <td>0.580039</td>\n",
       "    </tr>\n",
       "    <tr>\n",
       "      <th>75%</th>\n",
       "      <td>0.828976</td>\n",
       "      <td>0.805587</td>\n",
       "      <td>0.823645</td>\n",
       "      <td>0.658857</td>\n",
       "    </tr>\n",
       "    <tr>\n",
       "      <th>max</th>\n",
       "      <td>0.959674</td>\n",
       "      <td>0.880371</td>\n",
       "      <td>0.937946</td>\n",
       "      <td>0.781183</td>\n",
       "    </tr>\n",
       "  </tbody>\n",
       "</table>\n",
       "</div>"
      ],
      "text/plain": [
       "            1st       2nd       3rd       4th\n",
       "count  4.000000  4.000000  4.000000  4.000000\n",
       "mean   0.698768  0.651167  0.578122  0.579659\n",
       "std    0.297266  0.212921  0.372939  0.167755\n",
       "min    0.270899  0.437380  0.089719  0.377375\n",
       "25%    0.652041  0.489039  0.396888  0.500840\n",
       "50%    0.782249  0.643459  0.642411  0.580039\n",
       "75%    0.828976  0.805587  0.823645  0.658857\n",
       "max    0.959674  0.880371  0.937946  0.781183"
      ]
     },
     "execution_count": 13,
     "metadata": {},
     "output_type": "execute_result"
    }
   ],
   "source": [
    "df_to_inspect.describe()"
   ]
  },
  {
   "cell_type": "markdown",
   "metadata": {},
   "source": [
    "# DataFrame operations"
   ]
  },
  {
   "cell_type": "markdown",
   "metadata": {},
   "source": [
    "Transposing"
   ]
  },
  {
   "cell_type": "code",
   "execution_count": 14,
   "metadata": {},
   "outputs": [
    {
     "data": {
      "text/html": [
       "<div>\n",
       "<style scoped>\n",
       "    .dataframe tbody tr th:only-of-type {\n",
       "        vertical-align: middle;\n",
       "    }\n",
       "\n",
       "    .dataframe tbody tr th {\n",
       "        vertical-align: top;\n",
       "    }\n",
       "\n",
       "    .dataframe thead th {\n",
       "        text-align: right;\n",
       "    }\n",
       "</style>\n",
       "<table border=\"1\" class=\"dataframe\">\n",
       "  <thead>\n",
       "    <tr style=\"text-align: right;\">\n",
       "      <th></th>\n",
       "      <th>0</th>\n",
       "      <th>1</th>\n",
       "      <th>2</th>\n",
       "      <th>3</th>\n",
       "      <th>4</th>\n",
       "      <th>5</th>\n",
       "    </tr>\n",
       "  </thead>\n",
       "  <tbody>\n",
       "    <tr>\n",
       "      <th>One</th>\n",
       "      <td>0.652083</td>\n",
       "      <td>0.806605</td>\n",
       "      <td>0.183483</td>\n",
       "      <td>0.023251</td>\n",
       "      <td>0.129966</td>\n",
       "      <td>0.577197</td>\n",
       "    </tr>\n",
       "    <tr>\n",
       "      <th>Two</th>\n",
       "      <td>0.130538</td>\n",
       "      <td>0.709973</td>\n",
       "      <td>0.130575</td>\n",
       "      <td>0.621790</td>\n",
       "      <td>0.296192</td>\n",
       "      <td>0.833212</td>\n",
       "    </tr>\n",
       "    <tr>\n",
       "      <th>Three</th>\n",
       "      <td>0.372307</td>\n",
       "      <td>0.219003</td>\n",
       "      <td>0.387266</td>\n",
       "      <td>0.482263</td>\n",
       "      <td>0.886218</td>\n",
       "      <td>0.688808</td>\n",
       "    </tr>\n",
       "    <tr>\n",
       "      <th>Four</th>\n",
       "      <td>0.801629</td>\n",
       "      <td>0.437570</td>\n",
       "      <td>0.145590</td>\n",
       "      <td>0.438891</td>\n",
       "      <td>0.459171</td>\n",
       "      <td>0.931642</td>\n",
       "    </tr>\n",
       "    <tr>\n",
       "      <th>Five</th>\n",
       "      <td>0.703955</td>\n",
       "      <td>0.885576</td>\n",
       "      <td>0.162470</td>\n",
       "      <td>0.203313</td>\n",
       "      <td>0.493107</td>\n",
       "      <td>0.878054</td>\n",
       "    </tr>\n",
       "    <tr>\n",
       "      <th>Six</th>\n",
       "      <td>0.292953</td>\n",
       "      <td>0.988391</td>\n",
       "      <td>0.022059</td>\n",
       "      <td>0.841166</td>\n",
       "      <td>0.573567</td>\n",
       "      <td>0.327314</td>\n",
       "    </tr>\n",
       "  </tbody>\n",
       "</table>\n",
       "</div>"
      ],
      "text/plain": [
       "              0         1         2         3         4         5\n",
       "One    0.652083  0.806605  0.183483  0.023251  0.129966  0.577197\n",
       "Two    0.130538  0.709973  0.130575  0.621790  0.296192  0.833212\n",
       "Three  0.372307  0.219003  0.387266  0.482263  0.886218  0.688808\n",
       "Four   0.801629  0.437570  0.145590  0.438891  0.459171  0.931642\n",
       "Five   0.703955  0.885576  0.162470  0.203313  0.493107  0.878054\n",
       "Six    0.292953  0.988391  0.022059  0.841166  0.573567  0.327314"
      ]
     },
     "execution_count": 14,
     "metadata": {},
     "output_type": "execute_result"
    }
   ],
   "source": [
    "df = pd.DataFrame(\n",
    "    np.random.rand(6,6),\n",
    "    columns = ['One', 'Two', 'Three', 'Four', 'Five', 'Six']\n",
    ")\n",
    "df.T"
   ]
  },
  {
   "cell_type": "markdown",
   "metadata": {},
   "source": [
    "## Rearanging DataFrame"
   ]
  },
  {
   "cell_type": "markdown",
   "metadata": {},
   "source": [
    "Sorting columns"
   ]
  },
  {
   "cell_type": "code",
   "execution_count": 15,
   "metadata": {},
   "outputs": [
    {
     "data": {
      "text/html": [
       "<div>\n",
       "<style scoped>\n",
       "    .dataframe tbody tr th:only-of-type {\n",
       "        vertical-align: middle;\n",
       "    }\n",
       "\n",
       "    .dataframe tbody tr th {\n",
       "        vertical-align: top;\n",
       "    }\n",
       "\n",
       "    .dataframe thead th {\n",
       "        text-align: right;\n",
       "    }\n",
       "</style>\n",
       "<table border=\"1\" class=\"dataframe\">\n",
       "  <thead>\n",
       "    <tr style=\"text-align: right;\">\n",
       "      <th></th>\n",
       "      <th>One</th>\n",
       "      <th>Two</th>\n",
       "      <th>Three</th>\n",
       "      <th>Four</th>\n",
       "      <th>Five</th>\n",
       "      <th>Six</th>\n",
       "    </tr>\n",
       "  </thead>\n",
       "  <tbody>\n",
       "    <tr>\n",
       "      <th>0</th>\n",
       "      <td>0.256283</td>\n",
       "      <td>0.391008</td>\n",
       "      <td>0.497091</td>\n",
       "      <td>0.970782</td>\n",
       "      <td>0.916417</td>\n",
       "      <td>0.888055</td>\n",
       "    </tr>\n",
       "    <tr>\n",
       "      <th>1</th>\n",
       "      <td>0.074945</td>\n",
       "      <td>0.939195</td>\n",
       "      <td>0.458979</td>\n",
       "      <td>0.348704</td>\n",
       "      <td>0.631921</td>\n",
       "      <td>0.203399</td>\n",
       "    </tr>\n",
       "    <tr>\n",
       "      <th>2</th>\n",
       "      <td>0.709700</td>\n",
       "      <td>0.266141</td>\n",
       "      <td>0.707394</td>\n",
       "      <td>0.762554</td>\n",
       "      <td>0.032860</td>\n",
       "      <td>0.508583</td>\n",
       "    </tr>\n",
       "    <tr>\n",
       "      <th>3</th>\n",
       "      <td>0.449035</td>\n",
       "      <td>0.236639</td>\n",
       "      <td>0.215627</td>\n",
       "      <td>0.664697</td>\n",
       "      <td>0.092521</td>\n",
       "      <td>0.417431</td>\n",
       "    </tr>\n",
       "    <tr>\n",
       "      <th>4</th>\n",
       "      <td>0.650439</td>\n",
       "      <td>0.840527</td>\n",
       "      <td>0.425056</td>\n",
       "      <td>0.398808</td>\n",
       "      <td>0.709039</td>\n",
       "      <td>0.809138</td>\n",
       "    </tr>\n",
       "    <tr>\n",
       "      <th>5</th>\n",
       "      <td>0.186220</td>\n",
       "      <td>0.491463</td>\n",
       "      <td>0.690640</td>\n",
       "      <td>0.059098</td>\n",
       "      <td>0.156114</td>\n",
       "      <td>0.238808</td>\n",
       "    </tr>\n",
       "  </tbody>\n",
       "</table>\n",
       "</div>"
      ],
      "text/plain": [
       "        One       Two     Three      Four      Five       Six\n",
       "0  0.256283  0.391008  0.497091  0.970782  0.916417  0.888055\n",
       "1  0.074945  0.939195  0.458979  0.348704  0.631921  0.203399\n",
       "2  0.709700  0.266141  0.707394  0.762554  0.032860  0.508583\n",
       "3  0.449035  0.236639  0.215627  0.664697  0.092521  0.417431\n",
       "4  0.650439  0.840527  0.425056  0.398808  0.709039  0.809138\n",
       "5  0.186220  0.491463  0.690640  0.059098  0.156114  0.238808"
      ]
     },
     "execution_count": 15,
     "metadata": {},
     "output_type": "execute_result"
    }
   ],
   "source": [
    "df = pd.DataFrame(\n",
    "    np.random.rand(6,6),\n",
    "    columns = ['One', 'Two', 'Three', 'Four', 'Five', 'Six']\n",
    ")\n",
    "df"
   ]
  },
  {
   "cell_type": "code",
   "execution_count": 16,
   "metadata": {},
   "outputs": [
    {
     "data": {
      "text/html": [
       "<div>\n",
       "<style scoped>\n",
       "    .dataframe tbody tr th:only-of-type {\n",
       "        vertical-align: middle;\n",
       "    }\n",
       "\n",
       "    .dataframe tbody tr th {\n",
       "        vertical-align: top;\n",
       "    }\n",
       "\n",
       "    .dataframe thead th {\n",
       "        text-align: right;\n",
       "    }\n",
       "</style>\n",
       "<table border=\"1\" class=\"dataframe\">\n",
       "  <thead>\n",
       "    <tr style=\"text-align: right;\">\n",
       "      <th></th>\n",
       "      <th>Two</th>\n",
       "      <th>Three</th>\n",
       "      <th>Six</th>\n",
       "      <th>One</th>\n",
       "      <th>Four</th>\n",
       "      <th>Five</th>\n",
       "    </tr>\n",
       "  </thead>\n",
       "  <tbody>\n",
       "    <tr>\n",
       "      <th>0</th>\n",
       "      <td>0.391008</td>\n",
       "      <td>0.497091</td>\n",
       "      <td>0.888055</td>\n",
       "      <td>0.256283</td>\n",
       "      <td>0.970782</td>\n",
       "      <td>0.916417</td>\n",
       "    </tr>\n",
       "    <tr>\n",
       "      <th>1</th>\n",
       "      <td>0.939195</td>\n",
       "      <td>0.458979</td>\n",
       "      <td>0.203399</td>\n",
       "      <td>0.074945</td>\n",
       "      <td>0.348704</td>\n",
       "      <td>0.631921</td>\n",
       "    </tr>\n",
       "    <tr>\n",
       "      <th>2</th>\n",
       "      <td>0.266141</td>\n",
       "      <td>0.707394</td>\n",
       "      <td>0.508583</td>\n",
       "      <td>0.709700</td>\n",
       "      <td>0.762554</td>\n",
       "      <td>0.032860</td>\n",
       "    </tr>\n",
       "    <tr>\n",
       "      <th>3</th>\n",
       "      <td>0.236639</td>\n",
       "      <td>0.215627</td>\n",
       "      <td>0.417431</td>\n",
       "      <td>0.449035</td>\n",
       "      <td>0.664697</td>\n",
       "      <td>0.092521</td>\n",
       "    </tr>\n",
       "    <tr>\n",
       "      <th>4</th>\n",
       "      <td>0.840527</td>\n",
       "      <td>0.425056</td>\n",
       "      <td>0.809138</td>\n",
       "      <td>0.650439</td>\n",
       "      <td>0.398808</td>\n",
       "      <td>0.709039</td>\n",
       "    </tr>\n",
       "    <tr>\n",
       "      <th>5</th>\n",
       "      <td>0.491463</td>\n",
       "      <td>0.690640</td>\n",
       "      <td>0.238808</td>\n",
       "      <td>0.186220</td>\n",
       "      <td>0.059098</td>\n",
       "      <td>0.156114</td>\n",
       "    </tr>\n",
       "  </tbody>\n",
       "</table>\n",
       "</div>"
      ],
      "text/plain": [
       "        Two     Three       Six       One      Four      Five\n",
       "0  0.391008  0.497091  0.888055  0.256283  0.970782  0.916417\n",
       "1  0.939195  0.458979  0.203399  0.074945  0.348704  0.631921\n",
       "2  0.266141  0.707394  0.508583  0.709700  0.762554  0.032860\n",
       "3  0.236639  0.215627  0.417431  0.449035  0.664697  0.092521\n",
       "4  0.840527  0.425056  0.809138  0.650439  0.398808  0.709039\n",
       "5  0.491463  0.690640  0.238808  0.186220  0.059098  0.156114"
      ]
     },
     "execution_count": 16,
     "metadata": {},
     "output_type": "execute_result"
    }
   ],
   "source": [
    "df.sort_index(axis=1, ascending=False)"
   ]
  },
  {
   "cell_type": "markdown",
   "metadata": {},
   "source": [
    "Sorting by values in column"
   ]
  },
  {
   "cell_type": "code",
   "execution_count": 17,
   "metadata": {},
   "outputs": [
    {
     "data": {
      "text/html": [
       "<div>\n",
       "<style scoped>\n",
       "    .dataframe tbody tr th:only-of-type {\n",
       "        vertical-align: middle;\n",
       "    }\n",
       "\n",
       "    .dataframe tbody tr th {\n",
       "        vertical-align: top;\n",
       "    }\n",
       "\n",
       "    .dataframe thead th {\n",
       "        text-align: right;\n",
       "    }\n",
       "</style>\n",
       "<table border=\"1\" class=\"dataframe\">\n",
       "  <thead>\n",
       "    <tr style=\"text-align: right;\">\n",
       "      <th></th>\n",
       "      <th>One</th>\n",
       "      <th>Two</th>\n",
       "      <th>Three</th>\n",
       "      <th>Four</th>\n",
       "      <th>Five</th>\n",
       "      <th>Six</th>\n",
       "    </tr>\n",
       "  </thead>\n",
       "  <tbody>\n",
       "    <tr>\n",
       "      <th>3</th>\n",
       "      <td>0.449035</td>\n",
       "      <td>0.236639</td>\n",
       "      <td>0.215627</td>\n",
       "      <td>0.664697</td>\n",
       "      <td>0.092521</td>\n",
       "      <td>0.417431</td>\n",
       "    </tr>\n",
       "    <tr>\n",
       "      <th>4</th>\n",
       "      <td>0.650439</td>\n",
       "      <td>0.840527</td>\n",
       "      <td>0.425056</td>\n",
       "      <td>0.398808</td>\n",
       "      <td>0.709039</td>\n",
       "      <td>0.809138</td>\n",
       "    </tr>\n",
       "    <tr>\n",
       "      <th>1</th>\n",
       "      <td>0.074945</td>\n",
       "      <td>0.939195</td>\n",
       "      <td>0.458979</td>\n",
       "      <td>0.348704</td>\n",
       "      <td>0.631921</td>\n",
       "      <td>0.203399</td>\n",
       "    </tr>\n",
       "    <tr>\n",
       "      <th>0</th>\n",
       "      <td>0.256283</td>\n",
       "      <td>0.391008</td>\n",
       "      <td>0.497091</td>\n",
       "      <td>0.970782</td>\n",
       "      <td>0.916417</td>\n",
       "      <td>0.888055</td>\n",
       "    </tr>\n",
       "    <tr>\n",
       "      <th>5</th>\n",
       "      <td>0.186220</td>\n",
       "      <td>0.491463</td>\n",
       "      <td>0.690640</td>\n",
       "      <td>0.059098</td>\n",
       "      <td>0.156114</td>\n",
       "      <td>0.238808</td>\n",
       "    </tr>\n",
       "    <tr>\n",
       "      <th>2</th>\n",
       "      <td>0.709700</td>\n",
       "      <td>0.266141</td>\n",
       "      <td>0.707394</td>\n",
       "      <td>0.762554</td>\n",
       "      <td>0.032860</td>\n",
       "      <td>0.508583</td>\n",
       "    </tr>\n",
       "  </tbody>\n",
       "</table>\n",
       "</div>"
      ],
      "text/plain": [
       "        One       Two     Three      Four      Five       Six\n",
       "3  0.449035  0.236639  0.215627  0.664697  0.092521  0.417431\n",
       "4  0.650439  0.840527  0.425056  0.398808  0.709039  0.809138\n",
       "1  0.074945  0.939195  0.458979  0.348704  0.631921  0.203399\n",
       "0  0.256283  0.391008  0.497091  0.970782  0.916417  0.888055\n",
       "5  0.186220  0.491463  0.690640  0.059098  0.156114  0.238808\n",
       "2  0.709700  0.266141  0.707394  0.762554  0.032860  0.508583"
      ]
     },
     "execution_count": 17,
     "metadata": {},
     "output_type": "execute_result"
    }
   ],
   "source": [
    "df.sort_values(by='Three')"
   ]
  },
  {
   "cell_type": "markdown",
   "metadata": {},
   "source": [
    "# Selection of data"
   ]
  },
  {
   "cell_type": "markdown",
   "metadata": {},
   "source": [
    "Select column by label"
   ]
  },
  {
   "cell_type": "code",
   "execution_count": 18,
   "metadata": {},
   "outputs": [
    {
     "data": {
      "text/plain": [
       "0    0.079875\n",
       "1    0.176477\n",
       "2    0.868086\n",
       "3    0.004336\n",
       "4    0.568761\n",
       "5    0.269324\n",
       "Name: Two, dtype: float64"
      ]
     },
     "execution_count": 18,
     "metadata": {},
     "output_type": "execute_result"
    }
   ],
   "source": [
    "df_selection = pd.DataFrame(\n",
    "    np.random.rand(6,6),\n",
    "    columns = ['One', 'Two', 'Three', 'Four', 'Five', 'Six']\n",
    ")\n",
    "\n",
    "df_selection['Two']"
   ]
  },
  {
   "cell_type": "markdown",
   "metadata": {},
   "source": [
    "Select rows by index"
   ]
  },
  {
   "cell_type": "code",
   "execution_count": 26,
   "metadata": {},
   "outputs": [
    {
     "data": {
      "text/html": [
       "<div>\n",
       "<style scoped>\n",
       "    .dataframe tbody tr th:only-of-type {\n",
       "        vertical-align: middle;\n",
       "    }\n",
       "\n",
       "    .dataframe tbody tr th {\n",
       "        vertical-align: top;\n",
       "    }\n",
       "\n",
       "    .dataframe thead th {\n",
       "        text-align: right;\n",
       "    }\n",
       "</style>\n",
       "<table border=\"1\" class=\"dataframe\">\n",
       "  <thead>\n",
       "    <tr style=\"text-align: right;\">\n",
       "      <th></th>\n",
       "      <th>One</th>\n",
       "      <th>Two</th>\n",
       "      <th>Three</th>\n",
       "      <th>Four</th>\n",
       "      <th>Five</th>\n",
       "      <th>Six</th>\n",
       "    </tr>\n",
       "  </thead>\n",
       "  <tbody>\n",
       "    <tr>\n",
       "      <th>0</th>\n",
       "      <td>0.565142</td>\n",
       "      <td>0.079875</td>\n",
       "      <td>0.054353</td>\n",
       "      <td>0.064401</td>\n",
       "      <td>0.156411</td>\n",
       "      <td>0.120719</td>\n",
       "    </tr>\n",
       "  </tbody>\n",
       "</table>\n",
       "</div>"
      ],
      "text/plain": [
       "        One       Two     Three      Four      Five       Six\n",
       "0  0.565142  0.079875  0.054353  0.064401  0.156411  0.120719"
      ]
     },
     "execution_count": 26,
     "metadata": {},
     "output_type": "execute_result"
    }
   ],
   "source": [
    "df_selection[0:1]"
   ]
  },
  {
   "cell_type": "markdown",
   "metadata": {},
   "source": [
    "Selection of rows and columns"
   ]
  },
  {
   "cell_type": "code",
   "execution_count": 33,
   "metadata": {},
   "outputs": [
    {
     "data": {
      "text/html": [
       "<div>\n",
       "<style scoped>\n",
       "    .dataframe tbody tr th:only-of-type {\n",
       "        vertical-align: middle;\n",
       "    }\n",
       "\n",
       "    .dataframe tbody tr th {\n",
       "        vertical-align: top;\n",
       "    }\n",
       "\n",
       "    .dataframe thead th {\n",
       "        text-align: right;\n",
       "    }\n",
       "</style>\n",
       "<table border=\"1\" class=\"dataframe\">\n",
       "  <thead>\n",
       "    <tr style=\"text-align: right;\">\n",
       "      <th></th>\n",
       "      <th>Two</th>\n",
       "    </tr>\n",
       "  </thead>\n",
       "  <tbody>\n",
       "    <tr>\n",
       "      <th>1</th>\n",
       "      <td>0.176477</td>\n",
       "    </tr>\n",
       "    <tr>\n",
       "      <th>2</th>\n",
       "      <td>0.868086</td>\n",
       "    </tr>\n",
       "  </tbody>\n",
       "</table>\n",
       "</div>"
      ],
      "text/plain": [
       "        Two\n",
       "1  0.176477\n",
       "2  0.868086"
      ]
     },
     "execution_count": 33,
     "metadata": {},
     "output_type": "execute_result"
    }
   ],
   "source": [
    "df_selection.loc[1:2,['Two']]"
   ]
  },
  {
   "cell_type": "markdown",
   "metadata": {},
   "source": [
    "Select scalar"
   ]
  },
  {
   "cell_type": "code",
   "execution_count": 34,
   "metadata": {},
   "outputs": [
    {
     "data": {
      "text/html": [
       "<div>\n",
       "<style scoped>\n",
       "    .dataframe tbody tr th:only-of-type {\n",
       "        vertical-align: middle;\n",
       "    }\n",
       "\n",
       "    .dataframe tbody tr th {\n",
       "        vertical-align: top;\n",
       "    }\n",
       "\n",
       "    .dataframe thead th {\n",
       "        text-align: right;\n",
       "    }\n",
       "</style>\n",
       "<table border=\"1\" class=\"dataframe\">\n",
       "  <thead>\n",
       "    <tr style=\"text-align: right;\">\n",
       "      <th></th>\n",
       "      <th>Three</th>\n",
       "    </tr>\n",
       "  </thead>\n",
       "  <tbody>\n",
       "    <tr>\n",
       "      <th>1</th>\n",
       "      <td>0.542919</td>\n",
       "    </tr>\n",
       "  </tbody>\n",
       "</table>\n",
       "</div>"
      ],
      "text/plain": [
       "      Three\n",
       "1  0.542919"
      ]
     },
     "execution_count": 34,
     "metadata": {},
     "output_type": "execute_result"
    }
   ],
   "source": [
    "df_selection.loc[1:1,['Three']]"
   ]
  },
  {
   "cell_type": "markdown",
   "metadata": {},
   "source": [
    "Select row by position"
   ]
  },
  {
   "cell_type": "code",
   "execution_count": 40,
   "metadata": {},
   "outputs": [
    {
     "data": {
      "text/plain": [
       "One      0.680494\n",
       "Two      0.868086\n",
       "Three    0.644983\n",
       "Four     0.067016\n",
       "Five     0.136073\n",
       "Six      0.819536\n",
       "Name: 2, dtype: float64"
      ]
     },
     "execution_count": 40,
     "metadata": {},
     "output_type": "execute_result"
    }
   ],
   "source": [
    "df_selection.iloc[2]"
   ]
  },
  {
   "cell_type": "markdown",
   "metadata": {},
   "source": [
    "Select rows and columns by position"
   ]
  },
  {
   "cell_type": "code",
   "execution_count": 45,
   "metadata": {},
   "outputs": [
    {
     "data": {
      "text/html": [
       "<div>\n",
       "<style scoped>\n",
       "    .dataframe tbody tr th:only-of-type {\n",
       "        vertical-align: middle;\n",
       "    }\n",
       "\n",
       "    .dataframe tbody tr th {\n",
       "        vertical-align: top;\n",
       "    }\n",
       "\n",
       "    .dataframe thead th {\n",
       "        text-align: right;\n",
       "    }\n",
       "</style>\n",
       "<table border=\"1\" class=\"dataframe\">\n",
       "  <thead>\n",
       "    <tr style=\"text-align: right;\">\n",
       "      <th></th>\n",
       "      <th>Three</th>\n",
       "      <th>Four</th>\n",
       "    </tr>\n",
       "  </thead>\n",
       "  <tbody>\n",
       "    <tr>\n",
       "      <th>1</th>\n",
       "      <td>0.542919</td>\n",
       "      <td>0.337789</td>\n",
       "    </tr>\n",
       "    <tr>\n",
       "      <th>2</th>\n",
       "      <td>0.644983</td>\n",
       "      <td>0.067016</td>\n",
       "    </tr>\n",
       "  </tbody>\n",
       "</table>\n",
       "</div>"
      ],
      "text/plain": [
       "      Three      Four\n",
       "1  0.542919  0.337789\n",
       "2  0.644983  0.067016"
      ]
     },
     "execution_count": 45,
     "metadata": {},
     "output_type": "execute_result"
    }
   ],
   "source": [
    "df_selection.iloc[1:3,2:4]"
   ]
  },
  {
   "cell_type": "markdown",
   "metadata": {},
   "source": [
    "Select exact rows and columns"
   ]
  },
  {
   "cell_type": "code",
   "execution_count": 47,
   "metadata": {},
   "outputs": [
    {
     "data": {
      "text/html": [
       "<div>\n",
       "<style scoped>\n",
       "    .dataframe tbody tr th:only-of-type {\n",
       "        vertical-align: middle;\n",
       "    }\n",
       "\n",
       "    .dataframe tbody tr th {\n",
       "        vertical-align: top;\n",
       "    }\n",
       "\n",
       "    .dataframe thead th {\n",
       "        text-align: right;\n",
       "    }\n",
       "</style>\n",
       "<table border=\"1\" class=\"dataframe\">\n",
       "  <thead>\n",
       "    <tr style=\"text-align: right;\">\n",
       "      <th></th>\n",
       "      <th>Three</th>\n",
       "      <th>Five</th>\n",
       "    </tr>\n",
       "  </thead>\n",
       "  <tbody>\n",
       "    <tr>\n",
       "      <th>1</th>\n",
       "      <td>0.542919</td>\n",
       "      <td>0.863307</td>\n",
       "    </tr>\n",
       "    <tr>\n",
       "      <th>2</th>\n",
       "      <td>0.644983</td>\n",
       "      <td>0.136073</td>\n",
       "    </tr>\n",
       "    <tr>\n",
       "      <th>5</th>\n",
       "      <td>0.574959</td>\n",
       "      <td>0.118598</td>\n",
       "    </tr>\n",
       "  </tbody>\n",
       "</table>\n",
       "</div>"
      ],
      "text/plain": [
       "      Three      Five\n",
       "1  0.542919  0.863307\n",
       "2  0.644983  0.136073\n",
       "5  0.574959  0.118598"
      ]
     },
     "execution_count": 47,
     "metadata": {},
     "output_type": "execute_result"
    }
   ],
   "source": [
    "df_selection.iloc[[1,2,5], [2,4]]"
   ]
  },
  {
   "cell_type": "markdown",
   "metadata": {},
   "source": [
    "Getting Scalar by position"
   ]
  },
  {
   "cell_type": "code",
   "execution_count": 49,
   "metadata": {},
   "outputs": [
    {
     "data": {
      "text/plain": [
       "0.5429190875113665"
      ]
     },
     "execution_count": 49,
     "metadata": {},
     "output_type": "execute_result"
    }
   ],
   "source": [
    "df_selection.iloc[1,2]"
   ]
  },
  {
   "cell_type": "code",
   "execution_count": 50,
   "metadata": {},
   "outputs": [
    {
     "data": {
      "text/plain": [
       "0.5429190875113665"
      ]
     },
     "execution_count": 50,
     "metadata": {},
     "output_type": "execute_result"
    }
   ],
   "source": [
    "df_selection.iat[1,2]"
   ]
  },
  {
   "cell_type": "markdown",
   "metadata": {},
   "source": [
    "Select row with predicate"
   ]
  },
  {
   "cell_type": "code",
   "execution_count": 51,
   "metadata": {},
   "outputs": [
    {
     "data": {
      "text/html": [
       "<div>\n",
       "<style scoped>\n",
       "    .dataframe tbody tr th:only-of-type {\n",
       "        vertical-align: middle;\n",
       "    }\n",
       "\n",
       "    .dataframe tbody tr th {\n",
       "        vertical-align: top;\n",
       "    }\n",
       "\n",
       "    .dataframe thead th {\n",
       "        text-align: right;\n",
       "    }\n",
       "</style>\n",
       "<table border=\"1\" class=\"dataframe\">\n",
       "  <thead>\n",
       "    <tr style=\"text-align: right;\">\n",
       "      <th></th>\n",
       "      <th>One</th>\n",
       "      <th>Two</th>\n",
       "      <th>Three</th>\n",
       "      <th>Four</th>\n",
       "      <th>Five</th>\n",
       "      <th>Six</th>\n",
       "    </tr>\n",
       "  </thead>\n",
       "  <tbody>\n",
       "    <tr>\n",
       "      <th>2</th>\n",
       "      <td>0.680494</td>\n",
       "      <td>0.868086</td>\n",
       "      <td>0.644983</td>\n",
       "      <td>0.067016</td>\n",
       "      <td>0.136073</td>\n",
       "      <td>0.819536</td>\n",
       "    </tr>\n",
       "    <tr>\n",
       "      <th>4</th>\n",
       "      <td>0.945049</td>\n",
       "      <td>0.568761</td>\n",
       "      <td>0.719975</td>\n",
       "      <td>0.747343</td>\n",
       "      <td>0.467276</td>\n",
       "      <td>0.135412</td>\n",
       "    </tr>\n",
       "    <tr>\n",
       "      <th>5</th>\n",
       "      <td>0.359462</td>\n",
       "      <td>0.269324</td>\n",
       "      <td>0.574959</td>\n",
       "      <td>0.356188</td>\n",
       "      <td>0.118598</td>\n",
       "      <td>0.818675</td>\n",
       "    </tr>\n",
       "  </tbody>\n",
       "</table>\n",
       "</div>"
      ],
      "text/plain": [
       "        One       Two     Three      Four      Five       Six\n",
       "2  0.680494  0.868086  0.644983  0.067016  0.136073  0.819536\n",
       "4  0.945049  0.568761  0.719975  0.747343  0.467276  0.135412\n",
       "5  0.359462  0.269324  0.574959  0.356188  0.118598  0.818675"
      ]
     },
     "execution_count": 51,
     "metadata": {},
     "output_type": "execute_result"
    }
   ],
   "source": [
    "df_selection[df_selection.Two > 0.2]"
   ]
  },
  {
   "cell_type": "markdown",
   "metadata": {},
   "source": [
    "Select values with predicate"
   ]
  },
  {
   "cell_type": "code",
   "execution_count": 52,
   "metadata": {},
   "outputs": [
    {
     "data": {
      "text/html": [
       "<div>\n",
       "<style scoped>\n",
       "    .dataframe tbody tr th:only-of-type {\n",
       "        vertical-align: middle;\n",
       "    }\n",
       "\n",
       "    .dataframe tbody tr th {\n",
       "        vertical-align: top;\n",
       "    }\n",
       "\n",
       "    .dataframe thead th {\n",
       "        text-align: right;\n",
       "    }\n",
       "</style>\n",
       "<table border=\"1\" class=\"dataframe\">\n",
       "  <thead>\n",
       "    <tr style=\"text-align: right;\">\n",
       "      <th></th>\n",
       "      <th>One</th>\n",
       "      <th>Two</th>\n",
       "      <th>Three</th>\n",
       "      <th>Four</th>\n",
       "      <th>Five</th>\n",
       "      <th>Six</th>\n",
       "    </tr>\n",
       "  </thead>\n",
       "  <tbody>\n",
       "    <tr>\n",
       "      <th>0</th>\n",
       "      <td>0.565142</td>\n",
       "      <td>NaN</td>\n",
       "      <td>NaN</td>\n",
       "      <td>NaN</td>\n",
       "      <td>NaN</td>\n",
       "      <td>NaN</td>\n",
       "    </tr>\n",
       "    <tr>\n",
       "      <th>1</th>\n",
       "      <td>0.263395</td>\n",
       "      <td>NaN</td>\n",
       "      <td>0.542919</td>\n",
       "      <td>0.337789</td>\n",
       "      <td>0.863307</td>\n",
       "      <td>0.808493</td>\n",
       "    </tr>\n",
       "    <tr>\n",
       "      <th>2</th>\n",
       "      <td>0.680494</td>\n",
       "      <td>0.868086</td>\n",
       "      <td>0.644983</td>\n",
       "      <td>NaN</td>\n",
       "      <td>NaN</td>\n",
       "      <td>0.819536</td>\n",
       "    </tr>\n",
       "    <tr>\n",
       "      <th>3</th>\n",
       "      <td>NaN</td>\n",
       "      <td>NaN</td>\n",
       "      <td>NaN</td>\n",
       "      <td>0.276954</td>\n",
       "      <td>0.786233</td>\n",
       "      <td>NaN</td>\n",
       "    </tr>\n",
       "    <tr>\n",
       "      <th>4</th>\n",
       "      <td>0.945049</td>\n",
       "      <td>0.568761</td>\n",
       "      <td>0.719975</td>\n",
       "      <td>0.747343</td>\n",
       "      <td>0.467276</td>\n",
       "      <td>NaN</td>\n",
       "    </tr>\n",
       "    <tr>\n",
       "      <th>5</th>\n",
       "      <td>0.359462</td>\n",
       "      <td>0.269324</td>\n",
       "      <td>0.574959</td>\n",
       "      <td>0.356188</td>\n",
       "      <td>NaN</td>\n",
       "      <td>0.818675</td>\n",
       "    </tr>\n",
       "  </tbody>\n",
       "</table>\n",
       "</div>"
      ],
      "text/plain": [
       "        One       Two     Three      Four      Five       Six\n",
       "0  0.565142       NaN       NaN       NaN       NaN       NaN\n",
       "1  0.263395       NaN  0.542919  0.337789  0.863307  0.808493\n",
       "2  0.680494  0.868086  0.644983       NaN       NaN  0.819536\n",
       "3       NaN       NaN       NaN  0.276954  0.786233       NaN\n",
       "4  0.945049  0.568761  0.719975  0.747343  0.467276       NaN\n",
       "5  0.359462  0.269324  0.574959  0.356188       NaN  0.818675"
      ]
     },
     "execution_count": 52,
     "metadata": {},
     "output_type": "execute_result"
    }
   ],
   "source": [
    "df_selection[df_selection > 0.2]"
   ]
  },
  {
   "cell_type": "markdown",
   "metadata": {},
   "source": [
    "## Setting "
   ]
  },
  {
   "cell_type": "code",
   "execution_count": 56,
   "metadata": {},
   "outputs": [],
   "source": [
    "df_setting = pd.DataFrame(\n",
    "    np.random.rand(7,7),\n",
    "    columns = ['One', 'Two', 'Three', 'Four', 'Five', 'Six', 'Seven']\n",
    ")"
   ]
  },
  {
   "cell_type": "markdown",
   "metadata": {},
   "source": [
    "Setting scalar"
   ]
  },
  {
   "cell_type": "code",
   "execution_count": 58,
   "metadata": {},
   "outputs": [
    {
     "data": {
      "text/html": [
       "<div>\n",
       "<style scoped>\n",
       "    .dataframe tbody tr th:only-of-type {\n",
       "        vertical-align: middle;\n",
       "    }\n",
       "\n",
       "    .dataframe tbody tr th {\n",
       "        vertical-align: top;\n",
       "    }\n",
       "\n",
       "    .dataframe thead th {\n",
       "        text-align: right;\n",
       "    }\n",
       "</style>\n",
       "<table border=\"1\" class=\"dataframe\">\n",
       "  <thead>\n",
       "    <tr style=\"text-align: right;\">\n",
       "      <th></th>\n",
       "      <th>One</th>\n",
       "      <th>Two</th>\n",
       "      <th>Three</th>\n",
       "      <th>Four</th>\n",
       "      <th>Five</th>\n",
       "      <th>Six</th>\n",
       "      <th>Seven</th>\n",
       "    </tr>\n",
       "  </thead>\n",
       "  <tbody>\n",
       "    <tr>\n",
       "      <th>0</th>\n",
       "      <td>0.218735</td>\n",
       "      <td>10.000000</td>\n",
       "      <td>0.986230</td>\n",
       "      <td>0.179264</td>\n",
       "      <td>0.564069</td>\n",
       "      <td>0.704190</td>\n",
       "      <td>0.623944</td>\n",
       "    </tr>\n",
       "    <tr>\n",
       "      <th>1</th>\n",
       "      <td>0.601049</td>\n",
       "      <td>0.988513</td>\n",
       "      <td>0.828970</td>\n",
       "      <td>0.130524</td>\n",
       "      <td>0.798819</td>\n",
       "      <td>0.523432</td>\n",
       "      <td>0.582677</td>\n",
       "    </tr>\n",
       "    <tr>\n",
       "      <th>2</th>\n",
       "      <td>0.698289</td>\n",
       "      <td>0.125353</td>\n",
       "      <td>0.210183</td>\n",
       "      <td>0.398378</td>\n",
       "      <td>0.426583</td>\n",
       "      <td>0.731135</td>\n",
       "      <td>0.204089</td>\n",
       "    </tr>\n",
       "    <tr>\n",
       "      <th>3</th>\n",
       "      <td>0.891096</td>\n",
       "      <td>0.024808</td>\n",
       "      <td>0.624441</td>\n",
       "      <td>0.867067</td>\n",
       "      <td>0.594034</td>\n",
       "      <td>0.723214</td>\n",
       "      <td>0.798750</td>\n",
       "    </tr>\n",
       "    <tr>\n",
       "      <th>4</th>\n",
       "      <td>0.986074</td>\n",
       "      <td>0.944895</td>\n",
       "      <td>0.176993</td>\n",
       "      <td>0.567683</td>\n",
       "      <td>0.352229</td>\n",
       "      <td>0.556713</td>\n",
       "      <td>0.894051</td>\n",
       "    </tr>\n",
       "    <tr>\n",
       "      <th>5</th>\n",
       "      <td>0.558890</td>\n",
       "      <td>0.856369</td>\n",
       "      <td>0.742252</td>\n",
       "      <td>0.403126</td>\n",
       "      <td>0.629937</td>\n",
       "      <td>0.168222</td>\n",
       "      <td>0.878462</td>\n",
       "    </tr>\n",
       "    <tr>\n",
       "      <th>6</th>\n",
       "      <td>0.278299</td>\n",
       "      <td>0.612663</td>\n",
       "      <td>0.311719</td>\n",
       "      <td>0.418752</td>\n",
       "      <td>0.104500</td>\n",
       "      <td>0.584859</td>\n",
       "      <td>0.278860</td>\n",
       "    </tr>\n",
       "  </tbody>\n",
       "</table>\n",
       "</div>"
      ],
      "text/plain": [
       "        One        Two     Three      Four      Five       Six     Seven\n",
       "0  0.218735  10.000000  0.986230  0.179264  0.564069  0.704190  0.623944\n",
       "1  0.601049   0.988513  0.828970  0.130524  0.798819  0.523432  0.582677\n",
       "2  0.698289   0.125353  0.210183  0.398378  0.426583  0.731135  0.204089\n",
       "3  0.891096   0.024808  0.624441  0.867067  0.594034  0.723214  0.798750\n",
       "4  0.986074   0.944895  0.176993  0.567683  0.352229  0.556713  0.894051\n",
       "5  0.558890   0.856369  0.742252  0.403126  0.629937  0.168222  0.878462\n",
       "6  0.278299   0.612663  0.311719  0.418752  0.104500  0.584859  0.278860"
      ]
     },
     "execution_count": 58,
     "metadata": {},
     "output_type": "execute_result"
    }
   ],
   "source": [
    "df_setting.iat[0,1]=10\n",
    "df_setting"
   ]
  },
  {
   "cell_type": "markdown",
   "metadata": {},
   "source": [
    "Setting column"
   ]
  },
  {
   "cell_type": "code",
   "execution_count": 66,
   "metadata": {},
   "outputs": [
    {
     "data": {
      "text/html": [
       "<div>\n",
       "<style scoped>\n",
       "    .dataframe tbody tr th:only-of-type {\n",
       "        vertical-align: middle;\n",
       "    }\n",
       "\n",
       "    .dataframe tbody tr th {\n",
       "        vertical-align: top;\n",
       "    }\n",
       "\n",
       "    .dataframe thead th {\n",
       "        text-align: right;\n",
       "    }\n",
       "</style>\n",
       "<table border=\"1\" class=\"dataframe\">\n",
       "  <thead>\n",
       "    <tr style=\"text-align: right;\">\n",
       "      <th></th>\n",
       "      <th>One</th>\n",
       "      <th>Two</th>\n",
       "      <th>Three</th>\n",
       "      <th>Four</th>\n",
       "      <th>Five</th>\n",
       "      <th>Six</th>\n",
       "      <th>Seven</th>\n",
       "    </tr>\n",
       "  </thead>\n",
       "  <tbody>\n",
       "    <tr>\n",
       "      <th>0</th>\n",
       "      <td>-0.218735</td>\n",
       "      <td>-10.000000</td>\n",
       "      <td>-0.986230</td>\n",
       "      <td>17</td>\n",
       "      <td>-0.564069</td>\n",
       "      <td>-0.704190</td>\n",
       "      <td>-0.623944</td>\n",
       "    </tr>\n",
       "    <tr>\n",
       "      <th>1</th>\n",
       "      <td>-0.601049</td>\n",
       "      <td>-0.988513</td>\n",
       "      <td>-0.828970</td>\n",
       "      <td>17</td>\n",
       "      <td>-0.798819</td>\n",
       "      <td>-0.523432</td>\n",
       "      <td>-0.582677</td>\n",
       "    </tr>\n",
       "    <tr>\n",
       "      <th>2</th>\n",
       "      <td>-0.698289</td>\n",
       "      <td>0.125353</td>\n",
       "      <td>-0.210183</td>\n",
       "      <td>17</td>\n",
       "      <td>-0.426583</td>\n",
       "      <td>-0.731135</td>\n",
       "      <td>-0.204089</td>\n",
       "    </tr>\n",
       "    <tr>\n",
       "      <th>3</th>\n",
       "      <td>-0.891096</td>\n",
       "      <td>0.024808</td>\n",
       "      <td>-0.624441</td>\n",
       "      <td>17</td>\n",
       "      <td>-0.594034</td>\n",
       "      <td>-0.723214</td>\n",
       "      <td>-0.798750</td>\n",
       "    </tr>\n",
       "    <tr>\n",
       "      <th>4</th>\n",
       "      <td>-0.986074</td>\n",
       "      <td>-0.944895</td>\n",
       "      <td>0.176993</td>\n",
       "      <td>17</td>\n",
       "      <td>-0.352229</td>\n",
       "      <td>-0.556713</td>\n",
       "      <td>-0.894051</td>\n",
       "    </tr>\n",
       "    <tr>\n",
       "      <th>5</th>\n",
       "      <td>-0.558890</td>\n",
       "      <td>-0.856369</td>\n",
       "      <td>-0.742252</td>\n",
       "      <td>17</td>\n",
       "      <td>-0.629937</td>\n",
       "      <td>0.168222</td>\n",
       "      <td>-0.878462</td>\n",
       "    </tr>\n",
       "    <tr>\n",
       "      <th>6</th>\n",
       "      <td>-0.278299</td>\n",
       "      <td>-0.612663</td>\n",
       "      <td>-0.311719</td>\n",
       "      <td>17</td>\n",
       "      <td>0.104500</td>\n",
       "      <td>-0.584859</td>\n",
       "      <td>-0.278860</td>\n",
       "    </tr>\n",
       "  </tbody>\n",
       "</table>\n",
       "</div>"
      ],
      "text/plain": [
       "        One        Two     Three  Four      Five       Six     Seven\n",
       "0 -0.218735 -10.000000 -0.986230    17 -0.564069 -0.704190 -0.623944\n",
       "1 -0.601049  -0.988513 -0.828970    17 -0.798819 -0.523432 -0.582677\n",
       "2 -0.698289   0.125353 -0.210183    17 -0.426583 -0.731135 -0.204089\n",
       "3 -0.891096   0.024808 -0.624441    17 -0.594034 -0.723214 -0.798750\n",
       "4 -0.986074  -0.944895  0.176993    17 -0.352229 -0.556713 -0.894051\n",
       "5 -0.558890  -0.856369 -0.742252    17 -0.629937  0.168222 -0.878462\n",
       "6 -0.278299  -0.612663 -0.311719    17  0.104500 -0.584859 -0.278860"
      ]
     },
     "execution_count": 66,
     "metadata": {},
     "output_type": "execute_result"
    }
   ],
   "source": [
    "df_setting.loc[:, 'Four'] = np.array([17] * len(df_setting))\n",
    "df_setting"
   ]
  },
  {
   "cell_type": "markdown",
   "metadata": {},
   "source": [
    "Setting with predicate"
   ]
  },
  {
   "cell_type": "code",
   "execution_count": 64,
   "metadata": {},
   "outputs": [
    {
     "data": {
      "text/html": [
       "<div>\n",
       "<style scoped>\n",
       "    .dataframe tbody tr th:only-of-type {\n",
       "        vertical-align: middle;\n",
       "    }\n",
       "\n",
       "    .dataframe tbody tr th {\n",
       "        vertical-align: top;\n",
       "    }\n",
       "\n",
       "    .dataframe thead th {\n",
       "        text-align: right;\n",
       "    }\n",
       "</style>\n",
       "<table border=\"1\" class=\"dataframe\">\n",
       "  <thead>\n",
       "    <tr style=\"text-align: right;\">\n",
       "      <th></th>\n",
       "      <th>One</th>\n",
       "      <th>Two</th>\n",
       "      <th>Three</th>\n",
       "      <th>Four</th>\n",
       "      <th>Five</th>\n",
       "      <th>Six</th>\n",
       "      <th>Seven</th>\n",
       "    </tr>\n",
       "  </thead>\n",
       "  <tbody>\n",
       "    <tr>\n",
       "      <th>0</th>\n",
       "      <td>-0.218735</td>\n",
       "      <td>-10.000000</td>\n",
       "      <td>-0.986230</td>\n",
       "      <td>-17</td>\n",
       "      <td>-0.564069</td>\n",
       "      <td>-0.704190</td>\n",
       "      <td>-0.623944</td>\n",
       "    </tr>\n",
       "    <tr>\n",
       "      <th>1</th>\n",
       "      <td>-0.601049</td>\n",
       "      <td>-0.988513</td>\n",
       "      <td>-0.828970</td>\n",
       "      <td>-17</td>\n",
       "      <td>-0.798819</td>\n",
       "      <td>-0.523432</td>\n",
       "      <td>-0.582677</td>\n",
       "    </tr>\n",
       "    <tr>\n",
       "      <th>2</th>\n",
       "      <td>-0.698289</td>\n",
       "      <td>0.125353</td>\n",
       "      <td>-0.210183</td>\n",
       "      <td>-17</td>\n",
       "      <td>-0.426583</td>\n",
       "      <td>-0.731135</td>\n",
       "      <td>-0.204089</td>\n",
       "    </tr>\n",
       "    <tr>\n",
       "      <th>3</th>\n",
       "      <td>-0.891096</td>\n",
       "      <td>0.024808</td>\n",
       "      <td>-0.624441</td>\n",
       "      <td>-17</td>\n",
       "      <td>-0.594034</td>\n",
       "      <td>-0.723214</td>\n",
       "      <td>-0.798750</td>\n",
       "    </tr>\n",
       "    <tr>\n",
       "      <th>4</th>\n",
       "      <td>-0.986074</td>\n",
       "      <td>-0.944895</td>\n",
       "      <td>0.176993</td>\n",
       "      <td>-17</td>\n",
       "      <td>-0.352229</td>\n",
       "      <td>-0.556713</td>\n",
       "      <td>-0.894051</td>\n",
       "    </tr>\n",
       "    <tr>\n",
       "      <th>5</th>\n",
       "      <td>-0.558890</td>\n",
       "      <td>-0.856369</td>\n",
       "      <td>-0.742252</td>\n",
       "      <td>-17</td>\n",
       "      <td>-0.629937</td>\n",
       "      <td>0.168222</td>\n",
       "      <td>-0.878462</td>\n",
       "    </tr>\n",
       "    <tr>\n",
       "      <th>6</th>\n",
       "      <td>-0.278299</td>\n",
       "      <td>-0.612663</td>\n",
       "      <td>-0.311719</td>\n",
       "      <td>-17</td>\n",
       "      <td>0.104500</td>\n",
       "      <td>-0.584859</td>\n",
       "      <td>-0.278860</td>\n",
       "    </tr>\n",
       "  </tbody>\n",
       "</table>\n",
       "</div>"
      ],
      "text/plain": [
       "        One        Two     Three  Four      Five       Six     Seven\n",
       "0 -0.218735 -10.000000 -0.986230   -17 -0.564069 -0.704190 -0.623944\n",
       "1 -0.601049  -0.988513 -0.828970   -17 -0.798819 -0.523432 -0.582677\n",
       "2 -0.698289   0.125353 -0.210183   -17 -0.426583 -0.731135 -0.204089\n",
       "3 -0.891096   0.024808 -0.624441   -17 -0.594034 -0.723214 -0.798750\n",
       "4 -0.986074  -0.944895  0.176993   -17 -0.352229 -0.556713 -0.894051\n",
       "5 -0.558890  -0.856369 -0.742252   -17 -0.629937  0.168222 -0.878462\n",
       "6 -0.278299  -0.612663 -0.311719   -17  0.104500 -0.584859 -0.278860"
      ]
     },
     "execution_count": 64,
     "metadata": {},
     "output_type": "execute_result"
    }
   ],
   "source": [
    "df_setting[df_setting > 0.2] = -df_setting\n",
    "df_setting"
   ]
  },
  {
   "cell_type": "code",
   "execution_count": 74,
   "metadata": {},
   "outputs": [
    {
     "data": {
      "text/html": [
       "<div>\n",
       "<style scoped>\n",
       "    .dataframe tbody tr th:only-of-type {\n",
       "        vertical-align: middle;\n",
       "    }\n",
       "\n",
       "    .dataframe tbody tr th {\n",
       "        vertical-align: top;\n",
       "    }\n",
       "\n",
       "    .dataframe thead th {\n",
       "        text-align: right;\n",
       "    }\n",
       "</style>\n",
       "<table border=\"1\" class=\"dataframe\">\n",
       "  <thead>\n",
       "    <tr style=\"text-align: right;\">\n",
       "      <th></th>\n",
       "      <th>One</th>\n",
       "      <th>Two</th>\n",
       "      <th>Three</th>\n",
       "      <th>Four</th>\n",
       "      <th>Five</th>\n",
       "      <th>Six</th>\n",
       "      <th>Eight</th>\n",
       "    </tr>\n",
       "  </thead>\n",
       "  <tbody>\n",
       "    <tr>\n",
       "      <th>0</th>\n",
       "      <td>-0.218735</td>\n",
       "      <td>-10.000000</td>\n",
       "      <td>-0.986230</td>\n",
       "      <td>17</td>\n",
       "      <td>-0.564069</td>\n",
       "      <td>-0.704190</td>\n",
       "      <td>NaN</td>\n",
       "    </tr>\n",
       "    <tr>\n",
       "      <th>1</th>\n",
       "      <td>-0.601049</td>\n",
       "      <td>-0.988513</td>\n",
       "      <td>-0.828970</td>\n",
       "      <td>17</td>\n",
       "      <td>-0.798819</td>\n",
       "      <td>-0.523432</td>\n",
       "      <td>NaN</td>\n",
       "    </tr>\n",
       "    <tr>\n",
       "      <th>2</th>\n",
       "      <td>-0.698289</td>\n",
       "      <td>0.125353</td>\n",
       "      <td>-0.210183</td>\n",
       "      <td>17</td>\n",
       "      <td>-0.426583</td>\n",
       "      <td>-0.731135</td>\n",
       "      <td>NaN</td>\n",
       "    </tr>\n",
       "    <tr>\n",
       "      <th>3</th>\n",
       "      <td>-0.891096</td>\n",
       "      <td>0.024808</td>\n",
       "      <td>-0.624441</td>\n",
       "      <td>17</td>\n",
       "      <td>-0.594034</td>\n",
       "      <td>-0.723214</td>\n",
       "      <td>NaN</td>\n",
       "    </tr>\n",
       "    <tr>\n",
       "      <th>4</th>\n",
       "      <td>-0.986074</td>\n",
       "      <td>-0.944895</td>\n",
       "      <td>0.176993</td>\n",
       "      <td>17</td>\n",
       "      <td>-0.352229</td>\n",
       "      <td>-0.556713</td>\n",
       "      <td>NaN</td>\n",
       "    </tr>\n",
       "    <tr>\n",
       "      <th>5</th>\n",
       "      <td>-0.558890</td>\n",
       "      <td>-0.856369</td>\n",
       "      <td>-0.742252</td>\n",
       "      <td>17</td>\n",
       "      <td>-0.629937</td>\n",
       "      <td>0.168222</td>\n",
       "      <td>NaN</td>\n",
       "    </tr>\n",
       "    <tr>\n",
       "      <th>6</th>\n",
       "      <td>-0.278299</td>\n",
       "      <td>-0.612663</td>\n",
       "      <td>-0.311719</td>\n",
       "      <td>17</td>\n",
       "      <td>0.104500</td>\n",
       "      <td>-0.584859</td>\n",
       "      <td>NaN</td>\n",
       "    </tr>\n",
       "  </tbody>\n",
       "</table>\n",
       "</div>"
      ],
      "text/plain": [
       "        One        Two     Three  Four      Five       Six  Eight\n",
       "0 -0.218735 -10.000000 -0.986230    17 -0.564069 -0.704190    NaN\n",
       "1 -0.601049  -0.988513 -0.828970    17 -0.798819 -0.523432    NaN\n",
       "2 -0.698289   0.125353 -0.210183    17 -0.426583 -0.731135    NaN\n",
       "3 -0.891096   0.024808 -0.624441    17 -0.594034 -0.723214    NaN\n",
       "4 -0.986074  -0.944895  0.176993    17 -0.352229 -0.556713    NaN\n",
       "5 -0.558890  -0.856369 -0.742252    17 -0.629937  0.168222    NaN\n",
       "6 -0.278299  -0.612663 -0.311719    17  0.104500 -0.584859    NaN"
      ]
     },
     "execution_count": 74,
     "metadata": {},
     "output_type": "execute_result"
    }
   ],
   "source": [
    "df_setting2 = df_setting.reindex(columns=list(df.columns) + ['Eight'])\n",
    "df_setting2"
   ]
  },
  {
   "cell_type": "markdown",
   "metadata": {},
   "source": [
    "Drop all rows with Nan"
   ]
  },
  {
   "cell_type": "code",
   "execution_count": 75,
   "metadata": {},
   "outputs": [
    {
     "data": {
      "text/html": [
       "<div>\n",
       "<style scoped>\n",
       "    .dataframe tbody tr th:only-of-type {\n",
       "        vertical-align: middle;\n",
       "    }\n",
       "\n",
       "    .dataframe tbody tr th {\n",
       "        vertical-align: top;\n",
       "    }\n",
       "\n",
       "    .dataframe thead th {\n",
       "        text-align: right;\n",
       "    }\n",
       "</style>\n",
       "<table border=\"1\" class=\"dataframe\">\n",
       "  <thead>\n",
       "    <tr style=\"text-align: right;\">\n",
       "      <th></th>\n",
       "      <th>One</th>\n",
       "      <th>Two</th>\n",
       "      <th>Three</th>\n",
       "      <th>Four</th>\n",
       "      <th>Five</th>\n",
       "      <th>Six</th>\n",
       "      <th>Eight</th>\n",
       "    </tr>\n",
       "  </thead>\n",
       "  <tbody>\n",
       "  </tbody>\n",
       "</table>\n",
       "</div>"
      ],
      "text/plain": [
       "Empty DataFrame\n",
       "Columns: [One, Two, Three, Four, Five, Six, Eight]\n",
       "Index: []"
      ]
     },
     "execution_count": 75,
     "metadata": {},
     "output_type": "execute_result"
    }
   ],
   "source": [
    "df_setting2.dropna(how='any')"
   ]
  },
  {
   "cell_type": "markdown",
   "metadata": {},
   "source": [
    "Fill nan"
   ]
  },
  {
   "cell_type": "code",
   "execution_count": 77,
   "metadata": {},
   "outputs": [
    {
     "data": {
      "text/html": [
       "<div>\n",
       "<style scoped>\n",
       "    .dataframe tbody tr th:only-of-type {\n",
       "        vertical-align: middle;\n",
       "    }\n",
       "\n",
       "    .dataframe tbody tr th {\n",
       "        vertical-align: top;\n",
       "    }\n",
       "\n",
       "    .dataframe thead th {\n",
       "        text-align: right;\n",
       "    }\n",
       "</style>\n",
       "<table border=\"1\" class=\"dataframe\">\n",
       "  <thead>\n",
       "    <tr style=\"text-align: right;\">\n",
       "      <th></th>\n",
       "      <th>One</th>\n",
       "      <th>Two</th>\n",
       "      <th>Three</th>\n",
       "      <th>Four</th>\n",
       "      <th>Five</th>\n",
       "      <th>Six</th>\n",
       "      <th>Eight</th>\n",
       "    </tr>\n",
       "  </thead>\n",
       "  <tbody>\n",
       "    <tr>\n",
       "      <th>0</th>\n",
       "      <td>-0.218735</td>\n",
       "      <td>-10.000000</td>\n",
       "      <td>-0.986230</td>\n",
       "      <td>17</td>\n",
       "      <td>-0.564069</td>\n",
       "      <td>-0.704190</td>\n",
       "      <td>5.0</td>\n",
       "    </tr>\n",
       "    <tr>\n",
       "      <th>1</th>\n",
       "      <td>-0.601049</td>\n",
       "      <td>-0.988513</td>\n",
       "      <td>-0.828970</td>\n",
       "      <td>17</td>\n",
       "      <td>-0.798819</td>\n",
       "      <td>-0.523432</td>\n",
       "      <td>5.0</td>\n",
       "    </tr>\n",
       "    <tr>\n",
       "      <th>2</th>\n",
       "      <td>-0.698289</td>\n",
       "      <td>0.125353</td>\n",
       "      <td>-0.210183</td>\n",
       "      <td>17</td>\n",
       "      <td>-0.426583</td>\n",
       "      <td>-0.731135</td>\n",
       "      <td>5.0</td>\n",
       "    </tr>\n",
       "    <tr>\n",
       "      <th>3</th>\n",
       "      <td>-0.891096</td>\n",
       "      <td>0.024808</td>\n",
       "      <td>-0.624441</td>\n",
       "      <td>17</td>\n",
       "      <td>-0.594034</td>\n",
       "      <td>-0.723214</td>\n",
       "      <td>5.0</td>\n",
       "    </tr>\n",
       "    <tr>\n",
       "      <th>4</th>\n",
       "      <td>-0.986074</td>\n",
       "      <td>-0.944895</td>\n",
       "      <td>0.176993</td>\n",
       "      <td>17</td>\n",
       "      <td>-0.352229</td>\n",
       "      <td>-0.556713</td>\n",
       "      <td>5.0</td>\n",
       "    </tr>\n",
       "    <tr>\n",
       "      <th>5</th>\n",
       "      <td>-0.558890</td>\n",
       "      <td>-0.856369</td>\n",
       "      <td>-0.742252</td>\n",
       "      <td>17</td>\n",
       "      <td>-0.629937</td>\n",
       "      <td>0.168222</td>\n",
       "      <td>5.0</td>\n",
       "    </tr>\n",
       "    <tr>\n",
       "      <th>6</th>\n",
       "      <td>-0.278299</td>\n",
       "      <td>-0.612663</td>\n",
       "      <td>-0.311719</td>\n",
       "      <td>17</td>\n",
       "      <td>0.104500</td>\n",
       "      <td>-0.584859</td>\n",
       "      <td>5.0</td>\n",
       "    </tr>\n",
       "  </tbody>\n",
       "</table>\n",
       "</div>"
      ],
      "text/plain": [
       "        One        Two     Three  Four      Five       Six  Eight\n",
       "0 -0.218735 -10.000000 -0.986230    17 -0.564069 -0.704190    5.0\n",
       "1 -0.601049  -0.988513 -0.828970    17 -0.798819 -0.523432    5.0\n",
       "2 -0.698289   0.125353 -0.210183    17 -0.426583 -0.731135    5.0\n",
       "3 -0.891096   0.024808 -0.624441    17 -0.594034 -0.723214    5.0\n",
       "4 -0.986074  -0.944895  0.176993    17 -0.352229 -0.556713    5.0\n",
       "5 -0.558890  -0.856369 -0.742252    17 -0.629937  0.168222    5.0\n",
       "6 -0.278299  -0.612663 -0.311719    17  0.104500 -0.584859    5.0"
      ]
     },
     "execution_count": 77,
     "metadata": {},
     "output_type": "execute_result"
    }
   ],
   "source": [
    "df_setting2.fillna(value=5)"
   ]
  },
  {
   "cell_type": "code",
   "execution_count": 78,
   "metadata": {},
   "outputs": [
    {
     "data": {
      "text/html": [
       "<div>\n",
       "<style scoped>\n",
       "    .dataframe tbody tr th:only-of-type {\n",
       "        vertical-align: middle;\n",
       "    }\n",
       "\n",
       "    .dataframe tbody tr th {\n",
       "        vertical-align: top;\n",
       "    }\n",
       "\n",
       "    .dataframe thead th {\n",
       "        text-align: right;\n",
       "    }\n",
       "</style>\n",
       "<table border=\"1\" class=\"dataframe\">\n",
       "  <thead>\n",
       "    <tr style=\"text-align: right;\">\n",
       "      <th></th>\n",
       "      <th>One</th>\n",
       "      <th>Two</th>\n",
       "      <th>Three</th>\n",
       "      <th>Four</th>\n",
       "      <th>Five</th>\n",
       "      <th>Six</th>\n",
       "      <th>Eight</th>\n",
       "    </tr>\n",
       "  </thead>\n",
       "  <tbody>\n",
       "    <tr>\n",
       "      <th>0</th>\n",
       "      <td>False</td>\n",
       "      <td>False</td>\n",
       "      <td>False</td>\n",
       "      <td>False</td>\n",
       "      <td>False</td>\n",
       "      <td>False</td>\n",
       "      <td>True</td>\n",
       "    </tr>\n",
       "    <tr>\n",
       "      <th>1</th>\n",
       "      <td>False</td>\n",
       "      <td>False</td>\n",
       "      <td>False</td>\n",
       "      <td>False</td>\n",
       "      <td>False</td>\n",
       "      <td>False</td>\n",
       "      <td>True</td>\n",
       "    </tr>\n",
       "    <tr>\n",
       "      <th>2</th>\n",
       "      <td>False</td>\n",
       "      <td>False</td>\n",
       "      <td>False</td>\n",
       "      <td>False</td>\n",
       "      <td>False</td>\n",
       "      <td>False</td>\n",
       "      <td>True</td>\n",
       "    </tr>\n",
       "    <tr>\n",
       "      <th>3</th>\n",
       "      <td>False</td>\n",
       "      <td>False</td>\n",
       "      <td>False</td>\n",
       "      <td>False</td>\n",
       "      <td>False</td>\n",
       "      <td>False</td>\n",
       "      <td>True</td>\n",
       "    </tr>\n",
       "    <tr>\n",
       "      <th>4</th>\n",
       "      <td>False</td>\n",
       "      <td>False</td>\n",
       "      <td>False</td>\n",
       "      <td>False</td>\n",
       "      <td>False</td>\n",
       "      <td>False</td>\n",
       "      <td>True</td>\n",
       "    </tr>\n",
       "    <tr>\n",
       "      <th>5</th>\n",
       "      <td>False</td>\n",
       "      <td>False</td>\n",
       "      <td>False</td>\n",
       "      <td>False</td>\n",
       "      <td>False</td>\n",
       "      <td>False</td>\n",
       "      <td>True</td>\n",
       "    </tr>\n",
       "    <tr>\n",
       "      <th>6</th>\n",
       "      <td>False</td>\n",
       "      <td>False</td>\n",
       "      <td>False</td>\n",
       "      <td>False</td>\n",
       "      <td>False</td>\n",
       "      <td>False</td>\n",
       "      <td>True</td>\n",
       "    </tr>\n",
       "  </tbody>\n",
       "</table>\n",
       "</div>"
      ],
      "text/plain": [
       "     One    Two  Three   Four   Five    Six  Eight\n",
       "0  False  False  False  False  False  False   True\n",
       "1  False  False  False  False  False  False   True\n",
       "2  False  False  False  False  False  False   True\n",
       "3  False  False  False  False  False  False   True\n",
       "4  False  False  False  False  False  False   True\n",
       "5  False  False  False  False  False  False   True\n",
       "6  False  False  False  False  False  False   True"
      ]
     },
     "execution_count": 78,
     "metadata": {},
     "output_type": "execute_result"
    }
   ],
   "source": [
    "pd.isna(df_setting2)"
   ]
  },
  {
   "cell_type": "markdown",
   "metadata": {},
   "source": [
    "## Operations"
   ]
  },
  {
   "cell_type": "code",
   "execution_count": 81,
   "metadata": {},
   "outputs": [],
   "source": [
    "df_operations = pd.DataFrame(\n",
    "    np.random.rand(4,4),\n",
    "    columns = ['One', 'Two', 'Three', 'Four']\n",
    ")\n"
   ]
  },
  {
   "cell_type": "markdown",
   "metadata": {},
   "source": [
    "mean of each column"
   ]
  },
  {
   "cell_type": "code",
   "execution_count": 83,
   "metadata": {},
   "outputs": [
    {
     "data": {
      "text/plain": [
       "One      0.385418\n",
       "Two      0.417936\n",
       "Three    0.467142\n",
       "Four     0.471253\n",
       "dtype: float64"
      ]
     },
     "execution_count": 83,
     "metadata": {},
     "output_type": "execute_result"
    }
   ],
   "source": [
    "df_operations.mean()"
   ]
  },
  {
   "cell_type": "markdown",
   "metadata": {},
   "source": [
    "mean of each row"
   ]
  },
  {
   "cell_type": "code",
   "execution_count": 84,
   "metadata": {},
   "outputs": [
    {
     "data": {
      "text/plain": [
       "0    0.461650\n",
       "1    0.601774\n",
       "2    0.257889\n",
       "3    0.420437\n",
       "dtype: float64"
      ]
     },
     "execution_count": 84,
     "metadata": {},
     "output_type": "execute_result"
    }
   ],
   "source": [
    "df_operations.mean(1)"
   ]
  },
  {
   "cell_type": "markdown",
   "metadata": {},
   "source": [
    "Apply function to the data"
   ]
  },
  {
   "cell_type": "code",
   "execution_count": 87,
   "metadata": {},
   "outputs": [
    {
     "data": {
      "text/html": [
       "<div>\n",
       "<style scoped>\n",
       "    .dataframe tbody tr th:only-of-type {\n",
       "        vertical-align: middle;\n",
       "    }\n",
       "\n",
       "    .dataframe tbody tr th {\n",
       "        vertical-align: top;\n",
       "    }\n",
       "\n",
       "    .dataframe thead th {\n",
       "        text-align: right;\n",
       "    }\n",
       "</style>\n",
       "<table border=\"1\" class=\"dataframe\">\n",
       "  <thead>\n",
       "    <tr style=\"text-align: right;\">\n",
       "      <th></th>\n",
       "      <th>One</th>\n",
       "      <th>Two</th>\n",
       "      <th>Three</th>\n",
       "      <th>Four</th>\n",
       "    </tr>\n",
       "  </thead>\n",
       "  <tbody>\n",
       "    <tr>\n",
       "      <th>0</th>\n",
       "      <td>100.071985</td>\n",
       "      <td>100.677806</td>\n",
       "      <td>100.509649</td>\n",
       "      <td>100.587159</td>\n",
       "    </tr>\n",
       "    <tr>\n",
       "      <th>1</th>\n",
       "      <td>100.205418</td>\n",
       "      <td>100.879626</td>\n",
       "      <td>100.713914</td>\n",
       "      <td>100.608137</td>\n",
       "    </tr>\n",
       "    <tr>\n",
       "      <th>2</th>\n",
       "      <td>100.888062</td>\n",
       "      <td>100.092833</td>\n",
       "      <td>100.048022</td>\n",
       "      <td>100.002639</td>\n",
       "    </tr>\n",
       "    <tr>\n",
       "      <th>3</th>\n",
       "      <td>100.376206</td>\n",
       "      <td>100.021480</td>\n",
       "      <td>100.596983</td>\n",
       "      <td>100.687077</td>\n",
       "    </tr>\n",
       "  </tbody>\n",
       "</table>\n",
       "</div>"
      ],
      "text/plain": [
       "          One         Two       Three        Four\n",
       "0  100.071985  100.677806  100.509649  100.587159\n",
       "1  100.205418  100.879626  100.713914  100.608137\n",
       "2  100.888062  100.092833  100.048022  100.002639\n",
       "3  100.376206  100.021480  100.596983  100.687077"
      ]
     },
     "execution_count": 87,
     "metadata": {},
     "output_type": "execute_result"
    }
   ],
   "source": [
    "df_operations.apply(lambda x: x + 100)"
   ]
  },
  {
   "cell_type": "markdown",
   "metadata": {},
   "source": [
    "Histogram"
   ]
  },
  {
   "cell_type": "code",
   "execution_count": 91,
   "metadata": {},
   "outputs": [
    {
     "data": {
      "text/plain": [
       "0.677806    1\n",
       "0.021480    1\n",
       "0.879626    1\n",
       "0.092833    1\n",
       "Name: Two, dtype: int64"
      ]
     },
     "execution_count": 91,
     "metadata": {},
     "output_type": "execute_result"
    }
   ],
   "source": [
    "df_operations['Two'].value_counts()"
   ]
  },
  {
   "cell_type": "code",
   "execution_count": null,
   "metadata": {},
   "outputs": [],
   "source": []
  }
 ],
 "metadata": {
  "kernelspec": {
   "display_name": "Python 3",
   "language": "python",
   "name": "python3"
  },
  "language_info": {
   "codemirror_mode": {
    "name": "ipython",
    "version": 3
   },
   "file_extension": ".py",
   "mimetype": "text/x-python",
   "name": "python",
   "nbconvert_exporter": "python",
   "pygments_lexer": "ipython3",
   "version": "3.7.2"
  }
 },
 "nbformat": 4,
 "nbformat_minor": 2
}
